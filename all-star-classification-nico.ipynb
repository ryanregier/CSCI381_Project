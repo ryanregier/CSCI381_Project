{
 "cells": [
  {
   "cell_type": "code",
   "execution_count": 1,
   "metadata": {},
   "outputs": [],
   "source": [
    "import pandas as pd\n",
    "import sklearn as sk\n",
    "from sklearn.linear_model import LogisticRegression"
   ]
  },
  {
   "cell_type": "code",
   "execution_count": 4,
   "metadata": {},
   "outputs": [],
   "source": [
    "allstar_selections_data = pd.read_csv('All-Star Selections.csv')\n",
    "allstar_2022 = allstar_selections_data[allstar_selections_data[\"season\"] == 2022]\n",
    "allstar_2022_list = allstar_2022[\"player\"].tolist()\n",
    "allstar_2023 = allstar_selections_data[allstar_selections_data[\"season\"] == 2023]\n",
    "allstar_2023_list = allstar_2023[\"player\"].tolist()"
   ]
  },
  {
   "cell_type": "code",
   "execution_count": 5,
   "metadata": {},
   "outputs": [],
   "source": [
    "player_per_game_data = pd.read_csv(\"Player Per Game.csv\")\n",
    "allstar_2022_player_data = player_per_game_data[player_per_game_data[\"season\"] == 2022]\n",
    "not_allstar_2022_player_data = allstar_2022_player_data.loc[~allstar_2022_player_data[\"player\"].isin(allstar_2022_list)]\n",
    "allstar_2022_player_data = allstar_2022_player_data.loc[allstar_2022_player_data[\"player\"].isin(allstar_2022_list)]\n",
    "allstar_2022_player_data = allstar_2022_player_data[[\"season\", \"player\", \"pos\", \"pts_per_game\", \"ast_per_game\", \"trb_per_game\"]]"
   ]
  },
  {
   "cell_type": "code",
   "execution_count": 6,
   "metadata": {},
   "outputs": [],
   "source": [
    "allstar_2023_player_data = player_per_game_data[player_per_game_data[\"season\"] == 2023]\n",
    "not_allstar_2023_player_data = allstar_2023_player_data.loc[~allstar_2023_player_data[\"player\"].isin(allstar_2023_list)]\n",
    "allstar_2023_player_data = allstar_2023_player_data.loc[allstar_2023_player_data[\"player\"].isin(allstar_2023_list)]\n",
    "allstar_2023_player_data = allstar_2023_player_data[[\"season\", \"player\", \"pos\", \"pts_per_game\", \"ast_per_game\", \"trb_per_game\"]]"
   ]
  },
  {
   "cell_type": "code",
   "execution_count": 8,
   "metadata": {},
   "outputs": [],
   "source": [
    "tagged_2022_data = player_per_game_data[player_per_game_data[\"season\"] == 2022]\n",
    "tagged_2022_data = tagged_2022_data.drop_duplicates(subset=['player'], keep='first')\n",
    "tagged_2022_data = tagged_2022_data[[\"season\", \"player\", \"pos\", \"pts_per_game\", \"ast_per_game\", \"trb_per_game\"]]\n",
    "tagged_2022_data['all-star'] = tagged_2022_data['player'].apply(lambda x: 1 if x in allstar_2022_list else 0)\n",
    "tagged_2023_data = player_per_game_data[player_per_game_data[\"season\"] == 2022]\n",
    "tagged_2023_data = tagged_2023_data[[\"season\", \"player\", \"pos\", \"pts_per_game\", \"ast_per_game\", \"trb_per_game\"]]\n",
    "tagged_2023_data = tagged_2023_data.drop_duplicates(subset=['player'], keep='first')\n",
    "tagged_2023_data['all-star'] = tagged_2023_data['player'].apply(lambda x: 1 if x in allstar_2023_list else 0)\n",
    "x = tagged_2022_data['pts_per_game']\n",
    "y = tagged_2022_data['ast_per_game']\n",
    "z = tagged_2022_data['trb_per_game']\n",
    "X_train = list(zip(x,y,z))\n",
    "y_train = tagged_2022_data['all-star']"
   ]
  },
  {
   "cell_type": "code",
   "execution_count": 9,
   "metadata": {},
   "outputs": [],
   "source": [
    "new_x = tagged_2023_data['pts_per_game'].tolist()\n",
    "new_y = tagged_2023_data['ast_per_game'].tolist()\n",
    "new_z = tagged_2023_data['trb_per_game'].tolist()\n",
    "actual_allstars_2023 = tagged_2023_data['all-star'].tolist()\n",
    "actual_allstars_names_2023 = tagged_2023_data['player'].tolist()\n",
    "X_test = list(zip(new_x, new_y, new_z))"
   ]
  },
  {
   "cell_type": "code",
   "execution_count": 70,
   "metadata": {},
   "outputs": [
    {
     "data": {
      "text/plain": [
       "LogisticRegression()"
      ]
     },
     "execution_count": 70,
     "metadata": {},
     "output_type": "execute_result"
    }
   ],
   "source": [
    "log_reg = LogisticRegression(solver=\"lbfgs\")\n",
    "log_reg.fit(X_train, y_train)"
   ]
  },
  {
   "cell_type": "code",
   "execution_count": 67,
   "metadata": {},
   "outputs": [],
   "source": [
    "predictions_2022 = log_reg.predict(X_train)\n",
    "predictions_2023 = log_reg.predict(X_test)"
   ]
  },
  {
   "cell_type": "code",
   "execution_count": 68,
   "metadata": {},
   "outputs": [],
   "source": [
    "total_allstar = len(allstar_2023_list)\n",
    "total_non_allstar = len(tagged_2023_data) - total_allstar\n",
    "true_allstar = len([(actual_allstars_names_2023[i], predictions_2023[i]) for i in range(len(predictions_2023)) if (predictions_2023[i] == actual_allstars_2023[i]) and predictions_2023[i] == 1])\n",
    "false_allstar = len([(actual_allstars_names_2023[i], predictions_2023[i]) for i in range(len(predictions_2023)) if (predictions_2023[i] != actual_allstars_2023[i]) and predictions_2023[i] == 1])\n",
    "true_non_allstar = len([(actual_allstars_names_2023[i], predictions_2023[i]) for i in range(len(predictions_2023)) if (predictions_2023[i] == actual_allstars_2023[i]) and predictions_2023[i] == 0])\n",
    "false_non_allstar = len([(actual_allstars_names_2023[i], predictions_2023[i]) for i in range(len(predictions_2023)) if (predictions_2023[i] != actual_allstars_2023[i]) and predictions_2023[i] == 0])"
   ]
  },
  {
   "cell_type": "code",
   "execution_count": 69,
   "metadata": {},
   "outputs": [
    {
     "name": "stdout",
     "output_type": "stream",
     "text": [
      "Total Accuracy for 2023 all-stars 0.59\n"
     ]
    }
   ],
   "source": [
    "print(\"Total Accuracy for 2023 all-stars\", round(true_allstar/total_allstar, 2))"
   ]
  },
  {
   "cell_type": "code",
   "execution_count": null,
   "metadata": {},
   "outputs": [],
   "source": []
  }
 ],
 "metadata": {
  "kernelspec": {
   "display_name": "Python 3",
   "language": "python",
   "name": "python3"
  },
  "language_info": {
   "codemirror_mode": {
    "name": "ipython",
    "version": 3
   },
   "file_extension": ".py",
   "mimetype": "text/x-python",
   "name": "python",
   "nbconvert_exporter": "python",
   "pygments_lexer": "ipython3",
   "version": "3.6.8"
  }
 },
 "nbformat": 4,
 "nbformat_minor": 2
}
