{
 "cells": [
  {
   "cell_type": "markdown",
   "id": "5ae46b07",
   "metadata": {},
   "source": [
    "# NBA All Star Classification by Ryan and Nico"
   ]
  },
  {
   "cell_type": "markdown",
   "id": "cc9a97dd-223b-46c1-8576-71c0630e9588",
   "metadata": {},
   "source": [
    "## Introduction\n",
    "We are exploring the ability to use averages per game on different statistics to predict if a player will be an all-star or not in the NBA\n",
    "\n",
    "A few things we want to explore are: how accurately we can predict all stars and non all stars, the effect that fan voting has on all star selections, the effect that a player's city size and team valuation have on their all star status, how all star selection has changed over the years, the best features to use to predict all stars, and the effect of the three point shot on all star selection."
   ]
  },
  {
   "cell_type": "markdown",
   "id": "9e3ce632",
   "metadata": {},
   "source": [
    "## All Star Background\n",
    "Midway through the NBA season, the NBA hosts an all star game where the top talent in the league competes head-to-head in the same game. All star selection has been tweaked over the years since the first all star game in 1951. From 1951-1974, members of the media were responsible for selecting all 16 all stars (8 per team). In 1975, the NBA introduced fan voting. Fans would vote for the 10 all star starters (5 per team). Additionally, NBA coaches were responsible for voting on 14 bench players (7 per team).  In 2016, the protocol changed again. Now, to select all star starters, fans account for 50% of the vote, current players account for 25%, and the media accounts for 25%. NBA coaches still select the 14 bench players.\n",
    "https://www.deseret.com/sports/2023/1/15/23539127/how-does-nba-all-star-selection-work"
   ]
  },
  {
   "cell_type": "markdown",
   "id": "01039de2",
   "metadata": {},
   "source": [
    "## Accuracy vs Recall\n",
    "To judge our models and experiments, we will be using both accuracy and recall. As a reminder, acuracy is TP + TN / TP + TN + FP + FN. In our case, accuracy describes the total number of NBA players that are correctly classified as either an all star or not an all star. Because there are a very small number of all stars compared to non all stars, it is very easy for a model to accurately classify non all stars as non all stars. Where it gets tricky, however, is how well the model classifys known all stars. This is why recall is used to evaluate model effectiveness. Recall is TP / TP + FN. In other words, it tells what percentage of actual all stars are correctly classified as all stars."
   ]
  },
  {
   "cell_type": "markdown",
   "id": "dc2151ac",
   "metadata": {},
   "source": [
    "## Datasets\n",
    "We used one dataset from kaggle to get all the all stars from every year since 1951 and to get all players per game states since 1947: https://www.kaggle.com/datasets/sumitrodatta/nba-aba-baa-stats"
   ]
  },
  {
   "cell_type": "markdown",
   "id": "789ba4c2-d248-47a5-b121-d7e7ddc3bbef",
   "metadata": {},
   "source": [
    "## Importing required libraries"
   ]
  },
  {
   "cell_type": "code",
   "execution_count": 116,
   "id": "cf6e9c98-00dd-432e-8fd0-fce696d19ef3",
   "metadata": {},
   "outputs": [],
   "source": [
    "import pandas as pd\n",
    "import numpy as np\n",
    "import sklearn as sk\n",
    "import plotly\n",
    "import plotly.graph_objects as go\n",
    "import seaborn as sn\n",
    "from sklearn.neighbors import KNeighborsClassifier\n",
    "from sklearn.model_selection import train_test_split\n",
    "import matplotlib.pyplot as plt\n",
    "from sklearn.metrics import accuracy_score, precision_score, recall_score"
   ]
  },
  {
   "cell_type": "markdown",
   "id": "f0c74c38-7174-41eb-9687-476f1615b086",
   "metadata": {},
   "source": [
    "## Preparing data\n",
    "allstar_selections_data contains all the all-star selections since 1951\n",
    "\n",
    "player_per_game_data contains all player stats per game (ex: points per game [PPG]) since 1947"
   ]
  },
  {
   "cell_type": "code",
   "execution_count": 53,
   "id": "b258d702-832b-40c8-b5fb-02011b6ac67d",
   "metadata": {},
   "outputs": [],
   "source": [
    "# Helper function to get the results for the all-stars\n",
    "def is_all_star(name, year, allstar_df):\n",
    "    temp_df = allstar_df.loc[(allstar_df[\"player\"] == name) & (allstar_df[\"season\"] == year)]\n",
    "    if len(temp_df) == 0:\n",
    "        return 0\n",
    "    return 1"
   ]
  },
  {
   "cell_type": "code",
   "execution_count": 54,
   "id": "9bc1b210-3751-4386-8656-364a7b1c7c95",
   "metadata": {},
   "outputs": [
    {
     "data": {
      "text/html": [
       "<div>\n",
       "<style scoped>\n",
       "    .dataframe tbody tr th:only-of-type {\n",
       "        vertical-align: middle;\n",
       "    }\n",
       "\n",
       "    .dataframe tbody tr th {\n",
       "        vertical-align: top;\n",
       "    }\n",
       "\n",
       "    .dataframe thead th {\n",
       "        text-align: right;\n",
       "    }\n",
       "</style>\n",
       "<table border=\"1\" class=\"dataframe\">\n",
       "  <thead>\n",
       "    <tr style=\"text-align: right;\">\n",
       "      <th></th>\n",
       "      <th>player</th>\n",
       "      <th>team</th>\n",
       "      <th>lg</th>\n",
       "      <th>season</th>\n",
       "      <th>replaced</th>\n",
       "    </tr>\n",
       "  </thead>\n",
       "  <tbody>\n",
       "    <tr>\n",
       "      <th>0</th>\n",
       "      <td>Bam Adebayo</td>\n",
       "      <td>Giannis</td>\n",
       "      <td>NBA</td>\n",
       "      <td>2023</td>\n",
       "      <td>False</td>\n",
       "    </tr>\n",
       "    <tr>\n",
       "      <th>1</th>\n",
       "      <td>Giannis Antetokounmpo</td>\n",
       "      <td>Giannis</td>\n",
       "      <td>NBA</td>\n",
       "      <td>2023</td>\n",
       "      <td>False</td>\n",
       "    </tr>\n",
       "    <tr>\n",
       "      <th>2</th>\n",
       "      <td>DeMar DeRozan</td>\n",
       "      <td>Giannis</td>\n",
       "      <td>NBA</td>\n",
       "      <td>2023</td>\n",
       "      <td>False</td>\n",
       "    </tr>\n",
       "    <tr>\n",
       "      <th>3</th>\n",
       "      <td>Kevin Durant</td>\n",
       "      <td>Giannis</td>\n",
       "      <td>NBA</td>\n",
       "      <td>2023</td>\n",
       "      <td>False</td>\n",
       "    </tr>\n",
       "    <tr>\n",
       "      <th>4</th>\n",
       "      <td>Shai Gilgeous-Alexander</td>\n",
       "      <td>Giannis</td>\n",
       "      <td>NBA</td>\n",
       "      <td>2023</td>\n",
       "      <td>False</td>\n",
       "    </tr>\n",
       "    <tr>\n",
       "      <th>...</th>\n",
       "      <td>...</td>\n",
       "      <td>...</td>\n",
       "      <td>...</td>\n",
       "      <td>...</td>\n",
       "      <td>...</td>\n",
       "    </tr>\n",
       "    <tr>\n",
       "      <th>1969</th>\n",
       "      <td>Alex Groza</td>\n",
       "      <td>West</td>\n",
       "      <td>NBA</td>\n",
       "      <td>1951</td>\n",
       "      <td>False</td>\n",
       "    </tr>\n",
       "    <tr>\n",
       "      <th>1970</th>\n",
       "      <td>George Mikan</td>\n",
       "      <td>West</td>\n",
       "      <td>NBA</td>\n",
       "      <td>1951</td>\n",
       "      <td>False</td>\n",
       "    </tr>\n",
       "    <tr>\n",
       "      <th>1971</th>\n",
       "      <td>Vern Mikkelsen</td>\n",
       "      <td>West</td>\n",
       "      <td>NBA</td>\n",
       "      <td>1951</td>\n",
       "      <td>False</td>\n",
       "    </tr>\n",
       "    <tr>\n",
       "      <th>1972</th>\n",
       "      <td>Jim Pollard</td>\n",
       "      <td>West</td>\n",
       "      <td>NBA</td>\n",
       "      <td>1951</td>\n",
       "      <td>False</td>\n",
       "    </tr>\n",
       "    <tr>\n",
       "      <th>1973</th>\n",
       "      <td>Fred Schaus</td>\n",
       "      <td>West</td>\n",
       "      <td>NBA</td>\n",
       "      <td>1951</td>\n",
       "      <td>False</td>\n",
       "    </tr>\n",
       "  </tbody>\n",
       "</table>\n",
       "<p>1974 rows × 5 columns</p>\n",
       "</div>"
      ],
      "text/plain": [
       "                       player     team   lg  season  replaced\n",
       "0                 Bam Adebayo  Giannis  NBA    2023     False\n",
       "1       Giannis Antetokounmpo  Giannis  NBA    2023     False\n",
       "2               DeMar DeRozan  Giannis  NBA    2023     False\n",
       "3                Kevin Durant  Giannis  NBA    2023     False\n",
       "4     Shai Gilgeous-Alexander  Giannis  NBA    2023     False\n",
       "...                       ...      ...  ...     ...       ...\n",
       "1969               Alex Groza     West  NBA    1951     False\n",
       "1970             George Mikan     West  NBA    1951     False\n",
       "1971           Vern Mikkelsen     West  NBA    1951     False\n",
       "1972              Jim Pollard     West  NBA    1951     False\n",
       "1973              Fred Schaus     West  NBA    1951     False\n",
       "\n",
       "[1974 rows x 5 columns]"
      ]
     },
     "execution_count": 54,
     "metadata": {},
     "output_type": "execute_result"
    }
   ],
   "source": [
    "allstar_selections_data"
   ]
  },
  {
   "cell_type": "code",
   "execution_count": 55,
   "id": "1b7cb103-9584-42db-8b5f-5159efd85304",
   "metadata": {},
   "outputs": [
    {
     "name": "stdout",
     "output_type": "stream",
     "text": [
      "16043\n"
     ]
    }
   ],
   "source": [
    "allstar_selections_data = pd.read_csv('All-Star Selections.csv')\n",
    "allstar_selections_data = allstar_selections_data.drop_duplicates(subset=['player', 'season'])\n",
    "player_per_game_data = pd.read_csv(\"Player Per Game.csv\")\n",
    "player_per_game_data = player_per_game_data.drop_duplicates()\n",
    "player_per_game_data = player_per_game_data[player_per_game_data[\"season\"] >= 1951]\n",
    "\n",
    "tagged_player_per_game_data = player_per_game_data.copy()\n",
    "tagged_player_per_game_data['is-all-star'] = tagged_player_per_game_data.apply(lambda x: is_all_star(x[\"player\"], x[\"season\"], allstar_selections_data), axis=1)\n",
    "tagged_player_per_game_data = tagged_player_per_game_data.drop_duplicates(subset=['player', 'season'])\n",
    "tagged_player_per_game_data = tagged_player_per_game_data.drop(columns=['seas_id', 'birth_year', 'player_id', 'gs'])\n",
    "tagged_player_per_game_data = tagged_player_per_game_data.dropna()\n",
    "print(len(tagged_player_per_game_data))"
   ]
  },
  {
   "cell_type": "code",
   "execution_count": 56,
   "id": "6fccbe03-bbd2-4dfa-b4a7-26bfc49a38a2",
   "metadata": {},
   "outputs": [
    {
     "data": {
      "text/html": [
       "<div>\n",
       "<style scoped>\n",
       "    .dataframe tbody tr th:only-of-type {\n",
       "        vertical-align: middle;\n",
       "    }\n",
       "\n",
       "    .dataframe tbody tr th {\n",
       "        vertical-align: top;\n",
       "    }\n",
       "\n",
       "    .dataframe thead th {\n",
       "        text-align: right;\n",
       "    }\n",
       "</style>\n",
       "<table border=\"1\" class=\"dataframe\">\n",
       "  <thead>\n",
       "    <tr style=\"text-align: right;\">\n",
       "      <th></th>\n",
       "      <th>season</th>\n",
       "      <th>player</th>\n",
       "      <th>pos</th>\n",
       "      <th>age</th>\n",
       "      <th>experience</th>\n",
       "      <th>lg</th>\n",
       "      <th>tm</th>\n",
       "      <th>g</th>\n",
       "      <th>mp_per_game</th>\n",
       "      <th>fg_per_game</th>\n",
       "      <th>...</th>\n",
       "      <th>orb_per_game</th>\n",
       "      <th>drb_per_game</th>\n",
       "      <th>trb_per_game</th>\n",
       "      <th>ast_per_game</th>\n",
       "      <th>stl_per_game</th>\n",
       "      <th>blk_per_game</th>\n",
       "      <th>tov_per_game</th>\n",
       "      <th>pf_per_game</th>\n",
       "      <th>pts_per_game</th>\n",
       "      <th>is-all-star</th>\n",
       "    </tr>\n",
       "  </thead>\n",
       "  <tbody>\n",
       "    <tr>\n",
       "      <th>25</th>\n",
       "      <td>2023</td>\n",
       "      <td>Anthony Edwards</td>\n",
       "      <td>SG</td>\n",
       "      <td>21.0</td>\n",
       "      <td>3</td>\n",
       "      <td>NBA</td>\n",
       "      <td>MIN</td>\n",
       "      <td>79</td>\n",
       "      <td>36.0</td>\n",
       "      <td>8.9</td>\n",
       "      <td>...</td>\n",
       "      <td>0.6</td>\n",
       "      <td>5.2</td>\n",
       "      <td>5.8</td>\n",
       "      <td>4.4</td>\n",
       "      <td>1.6</td>\n",
       "      <td>0.7</td>\n",
       "      <td>3.3</td>\n",
       "      <td>2.4</td>\n",
       "      <td>24.6</td>\n",
       "      <td>1</td>\n",
       "    </tr>\n",
       "    <tr>\n",
       "      <th>31</th>\n",
       "      <td>2023</td>\n",
       "      <td>Bam Adebayo</td>\n",
       "      <td>C</td>\n",
       "      <td>25.0</td>\n",
       "      <td>6</td>\n",
       "      <td>NBA</td>\n",
       "      <td>MIA</td>\n",
       "      <td>75</td>\n",
       "      <td>34.6</td>\n",
       "      <td>8.0</td>\n",
       "      <td>...</td>\n",
       "      <td>2.5</td>\n",
       "      <td>6.7</td>\n",
       "      <td>9.2</td>\n",
       "      <td>3.2</td>\n",
       "      <td>1.2</td>\n",
       "      <td>0.8</td>\n",
       "      <td>2.5</td>\n",
       "      <td>2.8</td>\n",
       "      <td>20.4</td>\n",
       "      <td>1</td>\n",
       "    </tr>\n",
       "    <tr>\n",
       "      <th>103</th>\n",
       "      <td>2023</td>\n",
       "      <td>Damian Lillard</td>\n",
       "      <td>PG</td>\n",
       "      <td>32.0</td>\n",
       "      <td>11</td>\n",
       "      <td>NBA</td>\n",
       "      <td>POR</td>\n",
       "      <td>58</td>\n",
       "      <td>36.3</td>\n",
       "      <td>9.6</td>\n",
       "      <td>...</td>\n",
       "      <td>0.8</td>\n",
       "      <td>4.0</td>\n",
       "      <td>4.8</td>\n",
       "      <td>7.3</td>\n",
       "      <td>0.9</td>\n",
       "      <td>0.3</td>\n",
       "      <td>3.3</td>\n",
       "      <td>1.9</td>\n",
       "      <td>32.2</td>\n",
       "      <td>1</td>\n",
       "    </tr>\n",
       "    <tr>\n",
       "      <th>127</th>\n",
       "      <td>2023</td>\n",
       "      <td>De'Aaron Fox</td>\n",
       "      <td>PG</td>\n",
       "      <td>25.0</td>\n",
       "      <td>6</td>\n",
       "      <td>NBA</td>\n",
       "      <td>SAC</td>\n",
       "      <td>73</td>\n",
       "      <td>33.4</td>\n",
       "      <td>9.3</td>\n",
       "      <td>...</td>\n",
       "      <td>0.5</td>\n",
       "      <td>3.6</td>\n",
       "      <td>4.2</td>\n",
       "      <td>6.1</td>\n",
       "      <td>1.1</td>\n",
       "      <td>0.3</td>\n",
       "      <td>2.5</td>\n",
       "      <td>2.4</td>\n",
       "      <td>25.0</td>\n",
       "      <td>1</td>\n",
       "    </tr>\n",
       "    <tr>\n",
       "      <th>135</th>\n",
       "      <td>2023</td>\n",
       "      <td>DeMar DeRozan</td>\n",
       "      <td>SF</td>\n",
       "      <td>33.0</td>\n",
       "      <td>14</td>\n",
       "      <td>NBA</td>\n",
       "      <td>CHI</td>\n",
       "      <td>74</td>\n",
       "      <td>36.2</td>\n",
       "      <td>8.9</td>\n",
       "      <td>...</td>\n",
       "      <td>0.5</td>\n",
       "      <td>4.2</td>\n",
       "      <td>4.6</td>\n",
       "      <td>5.1</td>\n",
       "      <td>1.1</td>\n",
       "      <td>0.5</td>\n",
       "      <td>2.1</td>\n",
       "      <td>2.5</td>\n",
       "      <td>24.5</td>\n",
       "      <td>1</td>\n",
       "    </tr>\n",
       "    <tr>\n",
       "      <th>...</th>\n",
       "      <td>...</td>\n",
       "      <td>...</td>\n",
       "      <td>...</td>\n",
       "      <td>...</td>\n",
       "      <td>...</td>\n",
       "      <td>...</td>\n",
       "      <td>...</td>\n",
       "      <td>...</td>\n",
       "      <td>...</td>\n",
       "      <td>...</td>\n",
       "      <td>...</td>\n",
       "      <td>...</td>\n",
       "      <td>...</td>\n",
       "      <td>...</td>\n",
       "      <td>...</td>\n",
       "      <td>...</td>\n",
       "      <td>...</td>\n",
       "      <td>...</td>\n",
       "      <td>...</td>\n",
       "      <td>...</td>\n",
       "      <td>...</td>\n",
       "    </tr>\n",
       "    <tr>\n",
       "      <th>25484</th>\n",
       "      <td>1974</td>\n",
       "      <td>Willie Wise</td>\n",
       "      <td>SF</td>\n",
       "      <td>26.0</td>\n",
       "      <td>5</td>\n",
       "      <td>ABA</td>\n",
       "      <td>UTS</td>\n",
       "      <td>82</td>\n",
       "      <td>40.1</td>\n",
       "      <td>8.7</td>\n",
       "      <td>...</td>\n",
       "      <td>2.1</td>\n",
       "      <td>5.5</td>\n",
       "      <td>7.6</td>\n",
       "      <td>3.7</td>\n",
       "      <td>1.4</td>\n",
       "      <td>0.5</td>\n",
       "      <td>2.5</td>\n",
       "      <td>3.0</td>\n",
       "      <td>22.3</td>\n",
       "      <td>1</td>\n",
       "    </tr>\n",
       "    <tr>\n",
       "      <th>25496</th>\n",
       "      <td>1973</td>\n",
       "      <td>Artis Gilmore</td>\n",
       "      <td>C</td>\n",
       "      <td>23.0</td>\n",
       "      <td>2</td>\n",
       "      <td>ABA</td>\n",
       "      <td>KEN</td>\n",
       "      <td>84</td>\n",
       "      <td>41.7</td>\n",
       "      <td>8.2</td>\n",
       "      <td>...</td>\n",
       "      <td>5.3</td>\n",
       "      <td>12.2</td>\n",
       "      <td>17.6</td>\n",
       "      <td>3.5</td>\n",
       "      <td>0.9</td>\n",
       "      <td>3.1</td>\n",
       "      <td>3.4</td>\n",
       "      <td>3.6</td>\n",
       "      <td>20.8</td>\n",
       "      <td>1</td>\n",
       "    </tr>\n",
       "    <tr>\n",
       "      <th>25579</th>\n",
       "      <td>1973</td>\n",
       "      <td>Dan Issel</td>\n",
       "      <td>PF</td>\n",
       "      <td>24.0</td>\n",
       "      <td>3</td>\n",
       "      <td>ABA</td>\n",
       "      <td>KEN</td>\n",
       "      <td>84</td>\n",
       "      <td>42.0</td>\n",
       "      <td>10.7</td>\n",
       "      <td>...</td>\n",
       "      <td>3.9</td>\n",
       "      <td>7.1</td>\n",
       "      <td>11.0</td>\n",
       "      <td>2.6</td>\n",
       "      <td>1.1</td>\n",
       "      <td>0.5</td>\n",
       "      <td>2.6</td>\n",
       "      <td>3.0</td>\n",
       "      <td>27.3</td>\n",
       "      <td>1</td>\n",
       "    </tr>\n",
       "    <tr>\n",
       "      <th>25745</th>\n",
       "      <td>1973</td>\n",
       "      <td>Julius Erving</td>\n",
       "      <td>SF</td>\n",
       "      <td>22.0</td>\n",
       "      <td>2</td>\n",
       "      <td>ABA</td>\n",
       "      <td>VIR</td>\n",
       "      <td>71</td>\n",
       "      <td>42.2</td>\n",
       "      <td>12.6</td>\n",
       "      <td>...</td>\n",
       "      <td>3.7</td>\n",
       "      <td>8.5</td>\n",
       "      <td>12.2</td>\n",
       "      <td>4.2</td>\n",
       "      <td>2.5</td>\n",
       "      <td>1.8</td>\n",
       "      <td>4.6</td>\n",
       "      <td>2.8</td>\n",
       "      <td>31.9</td>\n",
       "      <td>1</td>\n",
       "    </tr>\n",
       "    <tr>\n",
       "      <th>25772</th>\n",
       "      <td>1973</td>\n",
       "      <td>Louie Dampier</td>\n",
       "      <td>PG</td>\n",
       "      <td>28.0</td>\n",
       "      <td>6</td>\n",
       "      <td>ABA</td>\n",
       "      <td>KEN</td>\n",
       "      <td>80</td>\n",
       "      <td>38.0</td>\n",
       "      <td>6.4</td>\n",
       "      <td>...</td>\n",
       "      <td>0.7</td>\n",
       "      <td>2.0</td>\n",
       "      <td>2.7</td>\n",
       "      <td>6.5</td>\n",
       "      <td>1.2</td>\n",
       "      <td>0.1</td>\n",
       "      <td>2.4</td>\n",
       "      <td>2.7</td>\n",
       "      <td>16.8</td>\n",
       "      <td>1</td>\n",
       "    </tr>\n",
       "  </tbody>\n",
       "</table>\n",
       "<p>1127 rows × 32 columns</p>\n",
       "</div>"
      ],
      "text/plain": [
       "       season           player pos   age  experience   lg   tm   g  \\\n",
       "25       2023  Anthony Edwards  SG  21.0           3  NBA  MIN  79   \n",
       "31       2023      Bam Adebayo   C  25.0           6  NBA  MIA  75   \n",
       "103      2023   Damian Lillard  PG  32.0          11  NBA  POR  58   \n",
       "127      2023     De'Aaron Fox  PG  25.0           6  NBA  SAC  73   \n",
       "135      2023    DeMar DeRozan  SF  33.0          14  NBA  CHI  74   \n",
       "...       ...              ...  ..   ...         ...  ...  ...  ..   \n",
       "25484    1974      Willie Wise  SF  26.0           5  ABA  UTS  82   \n",
       "25496    1973    Artis Gilmore   C  23.0           2  ABA  KEN  84   \n",
       "25579    1973        Dan Issel  PF  24.0           3  ABA  KEN  84   \n",
       "25745    1973    Julius Erving  SF  22.0           2  ABA  VIR  71   \n",
       "25772    1973    Louie Dampier  PG  28.0           6  ABA  KEN  80   \n",
       "\n",
       "       mp_per_game  fg_per_game  ...  orb_per_game  drb_per_game  \\\n",
       "25            36.0          8.9  ...           0.6           5.2   \n",
       "31            34.6          8.0  ...           2.5           6.7   \n",
       "103           36.3          9.6  ...           0.8           4.0   \n",
       "127           33.4          9.3  ...           0.5           3.6   \n",
       "135           36.2          8.9  ...           0.5           4.2   \n",
       "...            ...          ...  ...           ...           ...   \n",
       "25484         40.1          8.7  ...           2.1           5.5   \n",
       "25496         41.7          8.2  ...           5.3          12.2   \n",
       "25579         42.0         10.7  ...           3.9           7.1   \n",
       "25745         42.2         12.6  ...           3.7           8.5   \n",
       "25772         38.0          6.4  ...           0.7           2.0   \n",
       "\n",
       "       trb_per_game  ast_per_game  stl_per_game  blk_per_game  tov_per_game  \\\n",
       "25              5.8           4.4           1.6           0.7           3.3   \n",
       "31              9.2           3.2           1.2           0.8           2.5   \n",
       "103             4.8           7.3           0.9           0.3           3.3   \n",
       "127             4.2           6.1           1.1           0.3           2.5   \n",
       "135             4.6           5.1           1.1           0.5           2.1   \n",
       "...             ...           ...           ...           ...           ...   \n",
       "25484           7.6           3.7           1.4           0.5           2.5   \n",
       "25496          17.6           3.5           0.9           3.1           3.4   \n",
       "25579          11.0           2.6           1.1           0.5           2.6   \n",
       "25745          12.2           4.2           2.5           1.8           4.6   \n",
       "25772           2.7           6.5           1.2           0.1           2.4   \n",
       "\n",
       "       pf_per_game  pts_per_game  is-all-star  \n",
       "25             2.4          24.6            1  \n",
       "31             2.8          20.4            1  \n",
       "103            1.9          32.2            1  \n",
       "127            2.4          25.0            1  \n",
       "135            2.5          24.5            1  \n",
       "...            ...           ...          ...  \n",
       "25484          3.0          22.3            1  \n",
       "25496          3.6          20.8            1  \n",
       "25579          3.0          27.3            1  \n",
       "25745          2.8          31.9            1  \n",
       "25772          2.7          16.8            1  \n",
       "\n",
       "[1127 rows x 32 columns]"
      ]
     },
     "execution_count": 56,
     "metadata": {},
     "output_type": "execute_result"
    }
   ],
   "source": [
    "tagged_player_per_game_data[tagged_player_per_game_data[\"is-all-star\"] == 1]\n",
    "# Note: had to drop a bunch of data due to NaN's being annoying"
   ]
  },
  {
   "cell_type": "markdown",
   "id": "12bf0f37-4f5f-4fbb-b9bd-a0ac8ea343c3",
   "metadata": {},
   "source": [
    "## Visualizing the features"
   ]
  },
  {
   "cell_type": "code",
   "execution_count": 57,
   "id": "caf2ffa6-8ea4-47cc-8668-b9bc1f132c6b",
   "metadata": {},
   "outputs": [
    {
     "name": "stderr",
     "output_type": "stream",
     "text": [
      "/var/folders/mp/v67ltpmn65j65ccg42pyx0sw0000gn/T/ipykernel_13115/133615257.py:4: RuntimeWarning:\n",
      "\n",
      "More than 20 figures have been opened. Figures created through the pyplot interface (`matplotlib.pyplot.figure`) are retained until explicitly closed and may consume too much memory. (To control this warning, see the rcParam `figure.max_open_warning`).\n",
      "\n"
     ]
    },
    {
     "data": {
      "image/png": "[encoded data removed]",
      "text/plain": [
       "<Figure size 432x288 with 1 Axes>"
      ]
     },
     "metadata": {
      "needs_background": "light"
     },
     "output_type": "display_data"
    },
    {
     "data": {
      "image/png": "[encoded data removed]",
      "text/plain": [
       "<Figure size 432x288 with 1 Axes>"
      ]
     },
     "metadata": {
      "needs_background": "light"
     },
     "output_type": "display_data"
    },
    {
     "data": {
      "image/png": "[encoded data removed]",
      "text/plain": [
       "<Figure size 432x288 with 1 Axes>"
      ]
     },
     "metadata": {
      "needs_background": "light"
     },
     "output_type": "display_data"
    },
    {
     "data": {
      "image/png": "[encoded data removed]",
      "text/plain": [
       "<Figure size 432x288 with 1 Axes>"
      ]
     },
     "metadata": {
      "needs_background": "light"
     },
     "output_type": "display_data"
    },
    {
     "data": {
      "image/png": "[encoded data removed]",
      "text/plain": [
       "<Figure size 432x288 with 1 Axes>"
      ]
     },
     "metadata": {
      "needs_background": "light"
     },
     "output_type": "display_data"
    },
    {
     "data": {
      "image/png": "[encoded data removed]",
      "text/plain": [
       "<Figure size 432x288 with 1 Axes>"
      ]
     },
     "metadata": {
      "needs_background": "light"
     },
     "output_type": "display_data"
    },
    {
     "data": {
      "image/png": "[encoded data removed]",
      "text/plain": [
       "<Figure size 432x288 with 1 Axes>"
      ]
     },
     "metadata": {
      "needs_background": "light"
     },
     "output_type": "display_data"
    },
    {
     "data": {
      "image/png": "[encoded data removed]",
      "text/plain": [
       "<Figure size 432x288 with 1 Axes>"
      ]
     },
     "metadata": {
      "needs_background": "light"
     },
     "output_type": "display_data"
    },
    {
     "data": {
      "image/png": "[encoded data removed]",
      "text/plain": [
       "<Figure size 432x288 with 1 Axes>"
      ]
     },
     "metadata": {
      "needs_background": "light"
     },
     "output_type": "display_data"
    },
    {
     "data": {
      "image/png": "[encoded data removed]",
      "text/plain": [
       "<Figure size 432x288 with 1 Axes>"
      ]
     },
     "metadata": {
      "needs_background": "light"
     },
     "output_type": "display_data"
    },
    {
     "data": {
      "image/png": "[encoded data removed]",
      "text/plain": [
       "<Figure size 432x288 with 1 Axes>"
      ]
     },
     "metadata": {
      "needs_background": "light"
     },
     "output_type": "display_data"
    },
    {
     "data": {
      "image/png": "[encoded data removed]",
      "text/plain": [
       "<Figure size 432x288 with 1 Axes>"
      ]
     },
     "metadata": {
      "needs_background": "light"
     },
     "output_type": "display_data"
    },
    {
     "data": {
      "image/png": "[encoded data removed]",
      "text/plain": [
       "<Figure size 432x288 with 1 Axes>"
      ]
     },
     "metadata": {
      "needs_background": "light"
     },
     "output_type": "display_data"
    },
    {
     "data": {
      "image/png": "[encoded data removed]",
      "text/plain": [
       "<Figure size 432x288 with 1 Axes>"
      ]
     },
     "metadata": {
      "needs_background": "light"
     },
     "output_type": "display_data"
    },
    {
     "data": {
      "image/png": "[encoded data removed]",
      "text/plain": [
       "<Figure size 432x288 with 1 Axes>"
      ]
     },
     "metadata": {
      "needs_background": "light"
     },
     "output_type": "display_data"
    },
    {
     "data": {
      "image/png": "[encoded data removed]",
      "text/plain": [
       "<Figure size 432x288 with 1 Axes>"
      ]
     },
     "metadata": {
      "needs_background": "light"
     },
     "output_type": "display_data"
    },
    {
     "data": {
      "image/png": "[encoded data removed]",
      "text/plain": [
       "<Figure size 432x288 with 1 Axes>"
      ]
     },
     "metadata": {
      "needs_background": "light"
     },
     "output_type": "display_data"
    },
    {
     "data": {
      "image/png": "[encoded data removed]",
      "text/plain": [
       "<Figure size 432x288 with 1 Axes>"
      ]
     },
     "metadata": {
      "needs_background": "light"
     },
     "output_type": "display_data"
    },
    {
     "data": {
      "image/png": "[encoded data removed]",
      "text/plain": [
       "<Figure size 432x288 with 1 Axes>"
      ]
     },
     "metadata": {
      "needs_background": "light"
     },
     "output_type": "display_data"
    },
    {
     "data": {
      "image/png": "[encoded data removed]",
      "text/plain": [
       "<Figure size 432x288 with 1 Axes>"
      ]
     },
     "metadata": {
      "needs_background": "light"
     },
     "output_type": "display_data"
    },
    {
     "data": {
      "image/png": "[encoded data removed]",
      "text/plain": [
       "<Figure size 432x288 with 1 Axes>"
      ]
     },
     "metadata": {
      "needs_background": "light"
     },
     "output_type": "display_data"
    },
    {
     "data": {
      "image/png": "[encoded data removed]",
      "text/plain": [
       "<Figure size 432x288 with 1 Axes>"
      ]
     },
     "metadata": {
      "needs_background": "light"
     },
     "output_type": "display_data"
    },
    {
     "data": {
      "image/png": "[encoded data removed]",
      "text/plain": [
       "<Figure size 432x288 with 1 Axes>"
      ]
     },
     "metadata": {
      "needs_background": "light"
     },
     "output_type": "display_data"
    },
    {
     "data": {
      "image/png": "[encoded data removed]",
      "text/plain": [
       "<Figure size 432x288 with 1 Axes>"
      ]
     },
     "metadata": {
      "needs_background": "light"
     },
     "output_type": "display_data"
    },
    {
     "data": {
      "image/png": "[encoded data removed]",
      "text/plain": [
       "<Figure size 432x288 with 1 Axes>"
      ]
     },
     "metadata": {
      "needs_background": "light"
     },
     "output_type": "display_data"
    },
    {
     "data": {
      "image/png": "[encoded data removed]",
      "text/plain": [
       "<Figure size 432x288 with 1 Axes>"
      ]
     },
     "metadata": {
      "needs_background": "light"
     },
     "output_type": "display_data"
    },
    {
     "data": {
      "image/png": "[encoded data removed]",
      "text/plain": [
       "<Figure size 432x288 with 1 Axes>"
      ]
     },
     "metadata": {
      "needs_background": "light"
     },
     "output_type": "display_data"
    },
    {
     "data": {
      "image/png": "[encoded data removed]",
      "text/plain": [
       "<Figure size 432x288 with 1 Axes>"
      ]
     },
     "metadata": {
      "needs_background": "light"
     },
     "output_type": "display_data"
    },
    {
     "data": {
      "image/png": "[encoded data removed]",
      "text/plain": [
       "<Figure size 432x288 with 1 Axes>"
      ]
     },
     "metadata": {
      "needs_background": "light"
     },
     "output_type": "display_data"
    },
    {
     "data": {
      "image/png": "[encoded data removed]",
      "text/plain": [
       "<Figure size 432x288 with 1 Axes>"
      ]
     },
     "metadata": {
      "needs_background": "light"
     },
     "output_type": "display_data"
    }
   ],
   "source": [
    "feature_graphs = tagged_player_per_game_data.copy()\n",
    "feature_graphs = feature_graphs.drop(columns=['player', 'tm'])\n",
    "for i in feature_graphs.columns:\n",
    "    plt.figure()\n",
    "    plt.title(i)\n",
    "    plt.hist(feature_graphs[i])"
   ]
  },
  {
   "cell_type": "markdown",
   "id": "e2bce72a-b1bd-4904-bd7a-73a700cc56aa",
   "metadata": {},
   "source": [
    "## Helper function for generating training and testing data"
   ]
  },
  {
   "cell_type": "code",
   "execution_count": 58,
   "id": "b381ef35-1770-4d49-b29a-314b584efa7e",
   "metadata": {},
   "outputs": [],
   "source": [
    "def generate_train_test_data(years='all', testsize=0.2, randomstate=42):\n",
    "    if years =='all':\n",
    "        X = tagged_player_per_game_data.drop(columns=['player', 'pos', 'season', 'is-all-star', 'lg', 'tm'])\n",
    "        y = tagged_player_per_game_data['is-all-star'].values\n",
    "        X_train, X_test, y_train, y_test = train_test_split(X, y, test_size=testsize, random_state=randomstate)\n",
    "    else:\n",
    "        years_split = years.split('.')\n",
    "        year_start = int(years_split[0])\n",
    "        year_end = int(years_split[1])\n",
    "        temp_df = tagged_player_per_game_data.copy()\n",
    "        temp_df = temp_df.loc[(temp_df['season'] >= year_start) & (temp_df['season'] < year_end)]\n",
    "        X = temp_df.drop(columns=['player', 'pos', 'season', 'is-all-star', 'lg', 'tm'])\n",
    "        y = temp_df['is-all-star'].values\n",
    "        if testsize == 0:\n",
    "            return X, None, y, None\n",
    "        X_train, X_test, y_train, y_test = train_test_split(X, y, test_size=testsize, random_state=randomstate)\n",
    "    return X_train, X_test, y_train, y_test"
   ]
  },
  {
   "cell_type": "markdown",
   "id": "f942da74-b922-4532-a34f-a366a0566ea8",
   "metadata": {},
   "source": [
    "## Why this is an interesting problem?\n",
    "Notice the outliers in the 3D plot. x=points per game, y=assists per game, z=rebounds per game.\n",
    "There is a fair amount of clustering where points are high, but there are some outliers as all-stars like Draymond Green and Chris Paul who are playmakers/role players.\n",
    "There are also some players who appear to have all-star stats who did not make it (Anthony Davis, Kyrie Irving, etc.).\n",
    "This may be due to fan votes and other circumstances (Kyrie's antisemtic social media posts, Anthony Davis' injuries).\n",
    "Potential Solution: use many more features such as steals, blocks, turnovers, ORD, DRD, fouls, etc. Or use better features."
   ]
  },
  {
   "cell_type": "code",
   "execution_count": 117,
   "id": "2593ca52-0bfb-4e42-9456-814f64132f10",
   "metadata": {},
   "outputs": [
    {
     "data": {
      "application/vnd.plotly.v1+json": {
       "config": {
        "plotlyServerURL": "https://plot.ly"
       },
       "data": [
        {
         "mode": "markers",
         "name": "all-stars",
         "text": [
          "Andrew Wiggins",
          "Chris Paul",
          "Darius Garland",
          "Dejounte Murray",
          "DeMar DeRozan",
          "Devin Booker",
          "Donovan Mitchell",
          "Draymond Green",
          "Fred VanVleet",
          "Giannis Antetokounmpo",
          "Ja Morant",
          "James Harden",
          "James Harden",
          "James Harden",
          "Jarrett Allen",
          "Jayson Tatum",
          "Jimmy Butler",
          "Joel Embiid",
          "Karl-Anthony Towns",
          "Kevin Durant",
          "Khris Middleton",
          "LaMelo Ball",
          "LeBron James",
          "Luka Dončić",
          "Nikola Jokić",
          "Rudy Gobert",
          "Stephen Curry",
          "Trae Young",
          "Zach LaVine"
         ],
         "type": "scatter3d",
         "x": [
          17.2,
          14.7,
          21.7,
          21.1,
          27.9,
          26.8,
          25.9,
          7.5,
          20.3,
          29.9,
          27.4,
          22,
          22.5,
          21,
          16.1,
          26.9,
          21.4,
          30.6,
          24.6,
          29.9,
          20.1,
          20.1,
          30.3,
          28.4,
          27.1,
          15.6,
          25.5,
          28.4,
          24.4
         ],
         "y": [
          2.2,
          10.8,
          8.6,
          9.2,
          4.9,
          4.8,
          5.3,
          7,
          6.7,
          5.8,
          6.7,
          10.3,
          10.2,
          10.5,
          1.6,
          4.4,
          5.5,
          4.2,
          3.6,
          6.4,
          5.4,
          7.6,
          6.2,
          8.7,
          7.9,
          1.1,
          6.3,
          9.7,
          4.5
         ],
         "z": [
          4.5,
          4.4,
          3.3,
          8.3,
          5.2,
          5,
          4.2,
          7.3,
          4.4,
          11.6,
          5.7,
          7.7,
          8,
          7.1,
          10.8,
          8,
          5.9,
          11.7,
          9.8,
          7.4,
          5.4,
          6.7,
          8.2,
          9.1,
          13.8,
          14.7,
          5.2,
          3.7,
          4.6
         ]
        },
        {
         "mode": "markers",
         "name": "non-all-stars",
         "text": [
          "Aaron Gordon",
          "Aaron Henry",
          "Aaron Holiday",
          "Aaron Holiday",
          "Aaron Holiday",
          "Aaron Nesmith",
          "Aaron Wiggins",
          "Abdel Nader",
          "Ade Murkey",
          "Admiral Schofield",
          "Ahmad Caver",
          "Al Horford",
          "Alec Burks",
          "Aleem Ford",
          "Aleksej Pokusevski",
          "Alex Caruso",
          "Alex Len",
          "Alfonzo McKinnie",
          "Alize Johnson",
          "Alize Johnson",
          "Alize Johnson",
          "Alize Johnson",
          "Alperen Şengün",
          "Amir Coffey",
          "Andre Drummond",
          "Andre Drummond",
          "Andre Drummond",
          "Andre Iguodala",
          "Anfernee Simons",
          "Anthony Davis",
          "Anthony Edwards",
          "Anthony Gill",
          "Anthony Lamb",
          "Armoni Brooks",
          "Armoni Brooks",
          "Armoni Brooks",
          "Arnoldas Kulboka",
          "Austin Reaves",
          "Austin Rivers",
          "Avery Bradley",
          "Ayo Dosunmu",
          "B.J. Johnson",
          "Bam Adebayo",
          "Ben McLemore",
          "Bismack Biyombo",
          "Blake Griffin",
          "Boban Marjanović",
          "Bobby Portis",
          "Bogdan Bogdanović",
          "Bojan Bogdanović",
          "Bol Bol",
          "Bones Hyland",
          "Brad Wanamaker",
          "Brad Wanamaker",
          "Brad Wanamaker",
          "Bradley Beal",
          "Brandon Boston Jr.",
          "Brandon Clarke",
          "Brandon Goodwin",
          "Brandon Ingram",
          "Brandon Knight",
          "Brandon Williams",
          "Braxton Key",
          "Braxton Key",
          "Braxton Key",
          "Brodric Thomas",
          "Brook Lopez",
          "Bruce Brown",
          "Bruno Fernando",
          "Bruno Fernando",
          "Bruno Fernando",
          "Bryn Forbes",
          "Bryn Forbes",
          "Bryn Forbes",
          "Buddy Hield",
          "Buddy Hield",
          "Buddy Hield",
          "C.J. Miles",
          "Cade Cunningham",
          "Caleb Martin",
          "Cam Reddish",
          "Cam Reddish",
          "Cam Reddish",
          "Cam Thomas",
          "Cameron Johnson",
          "Cameron McGriff",
          "Cameron Oliver",
          "Cameron Payne",
          "Caris LeVert",
          "Caris LeVert",
          "Caris LeVert",
          "Carlik Jones",
          "Carlik Jones",
          "Carlik Jones",
          "Carmelo Anthony",
          "Carsen Edwards",
          "Cassius Stanley",
          "Cassius Winston",
          "Cat Barber",
          "Cedi Osman",
          "Chandler Hutchison",
          "Charles Bassey",
          "Charlie Brown Jr.",
          "Charlie Brown Jr.",
          "Charlie Brown Jr.",
          "Chaundee Brown Jr.",
          "Chaundee Brown Jr.",
          "Chaundee Brown Jr.",
          "Cheick Diallo",
          "Chimezie Metu",
          "Chris Boucher",
          "Chris Chiozza",
          "Chris Duarte",
          "Chris Silva",
          "Chris Silva",
          "Chris Silva",
          "Christian Wood",
          "Chuma Okeke",
          "CJ Elleby",
          "CJ McCollum",
          "CJ McCollum",
          "CJ McCollum",
          "Clint Capela",
          "Coby White",
          "Cody Martin",
          "Cody Zeller",
          "Cole Anthony",
          "Collin Sexton",
          "Corey Kispert",
          "Cory Joseph",
          "Craig Sword",
          "D.J. Augustin",
          "D.J. Augustin",
          "D.J. Augustin",
          "D.J. Wilson",
          "D'Angelo Russell",
          "Daishen Nix",
          "Dakota Mathias",
          "Dalano Banton",
          "Damian Jones",
          "Damian Lillard",
          "Damion Lee",
          "Damyean Dotson",
          "Daniel Gafford",
          "Daniel Oturu",
          "Daniel Theis",
          "Daniel Theis",
          "Daniel Theis",
          "Danilo Gallinari",
          "Danny Green",
          "Danuel House Jr.",
          "Danuel House Jr.",
          "Danuel House Jr.",
          "Danuel House Jr.",
          "DaQuan Jeffries",
          "Darius Bazley",
          "Darren Collison",
          "David Duke Jr.",
          "David Johnson",
          "David Nwaba",
          "Davion Mitchell",
          "Dāvis Bertāns",
          "Dāvis Bertāns",
          "Dāvis Bertāns",
          "Davon Reed",
          "Day'Ron Sharpe",
          "De'Aaron Fox",
          "De'Andre Hunter",
          "De'Anthony Melton",
          "Dean Wade",
          "Deandre Ayton",
          "DeAndre Jordan",
          "DeAndre Jordan",
          "DeAndre Jordan",
          "DeAndre' Bembry",
          "DeAndre' Bembry",
          "DeAndre' Bembry",
          "Deividas Sirvydis",
          "DeJon Jarreau",
          "Delon Wright",
          "DeMarcus Cousins",
          "DeMarcus Cousins",
          "DeMarcus Cousins",
          "Deni Avdija",
          "Dennis Schröder",
          "Dennis Schröder",
          "Dennis Schröder",
          "Dennis Smith Jr.",
          "Denzel Valentine",
          "Denzel Valentine",
          "Denzel Valentine",
          "Derrick Favors",
          "Derrick Jones Jr.",
          "Derrick Rose",
          "Derrick Walton",
          "Derrick White",
          "Derrick White",
          "Derrick White",
          "Desmond Bane",
          "Devin Cannady",
          "Devin Vassell",
          "Devon Dotson",
          "Devontae Cacok",
          "Devonte' Graham",
          "Dewayne Dedmon",
          "Didi Louzada",
          "Didi Louzada",
          "Didi Louzada",
          "Dillon Brooks",
          "Domantas Sabonis",
          "Domantas Sabonis",
          "Domantas Sabonis",
          "Donte DiVincenzo",
          "Donte DiVincenzo",
          "Donte DiVincenzo",
          "Dorian Finney-Smith",
          "Doug McDermott",
          "Drew Eubanks",
          "Drew Eubanks",
          "Drew Eubanks",
          "Duane Washington Jr.",
          "Duncan Robinson",
          "Dwight Howard",
          "Dwight Powell",
          "Dylan Windler",
          "Ed Davis",
          "Elfrid Payton",
          "Elijah Hughes",
          "Elijah Hughes",
          "Elijah Hughes",
          "Emanuel Terry",
          "Emmanuel Mudiay",
          "Enes Freedom",
          "Eric Bledsoe",
          "Eric Gordon",
          "Eric Paschall",
          "Eugene Omoruyi",
          "Evan Fournier",
          "Evan Mobley",
          "Facundo Campazzo",
          "Feron Hunt",
          "Frank Jackson",
          "Frank Kaminsky",
          "Frank Ntilikina",
          "Franz Wagner",
          "Freddie Gillespie",
          "Furkan Korkmaz",
          "Gabe Vincent",
          "Gabe York",
          "Gabriel Deck",
          "Gabriel Lundberg",
          "Garrett Temple",
          "Garrison Mathews",
          "Gary Clark",
          "Gary Harris",
          "Gary Payton II",
          "Gary Trent Jr.",
          "George Hill",
          "George King",
          "Georges Niang",
          "Georgios Kalaitzakis",
          "Georgios Kalaitzakis",
          "Georgios Kalaitzakis",
          "Goga Bitadze",
          "Goran Dragić",
          "Goran Dragić",
          "Goran Dragić",
          "Gordon Hayward",
          "Gorgui Dieng",
          "Grant Williams",
          "Grayson Allen",
          "Greg Brown III",
          "Greg Monroe",
          "Greg Monroe",
          "Greg Monroe",
          "Greg Monroe",
          "Greg Monroe",
          "Hamidou Diallo",
          "Harrison Barnes",
          "Hassan Whiteside",
          "Hassani Gravett",
          "Haywood Highsmith",
          "Herbert Jones",
          "Ignas Brazdeikis",
          "Immanuel Quickley",
          "Isaac Bonga",
          "Isaac Okoro",
          "Isaiah Hartenstein",
          "Isaiah Jackson",
          "Isaiah Joe",
          "Isaiah Livers",
          "Isaiah Roby",
          "Isaiah Stewart",
          "Isaiah Thomas",
          "Isaiah Thomas",
          "Isaiah Thomas",
          "Isaiah Thomas",
          "Isaiah Todd",
          "Ish Smith",
          "Ish Smith",
          "Ish Smith",
          "Ish Wainright",
          "Ivica Zubac",
          "Jabari Parker",
          "Jaden McDaniels",
          "Jaden Springer",
          "Jae Crowder",
          "Jae'Sean Tate",
          "Jahmi'us Ramsey",
          "Jaime Echenique",
          "Jake Layman",
          "Jakob Poeltl",
          "Jalen Brunson",
          "Jalen Green",
          "Jalen Johnson",
          "Jalen McDaniels",
          "Jalen Smith",
          "Jalen Smith",
          "Jalen Smith",
          "Jalen Suggs",
          "James Bouknight",
          "James Ennis III",
          "James Ennis III",
          "James Ennis III",
          "James Ennis III",
          "James Johnson",
          "Jamorko Pickett",
          "JaMychal Green",
          "JaQuori McLaughlin",
          "Jared Butler",
          "Jared Harper",
          "Jaren Jackson Jr.",
          "Jarred Vanderbilt",
          "Jarrett Culver",
          "Jarron Cumberland",
          "JaVale McGee",
          "Javin DeLaurier",
          "Javonte Green",
          "Javonte Smart",
          "Javonte Smart",
          "Javonte Smart",
          "Jaxson Hayes",
          "Jay Huff",
          "Jay Scrubb",
          "Jaylen Brown",
          "Jaylen Hoard",
          "Jaylen Morris",
          "Jaylen Nowell",
          "Jaysean Paige",
          "Jeff Dowtin",
          "Jeff Dowtin",
          "Jeff Dowtin",
          "Jeff Dowtin",
          "Jeff Green",
          "Jemerrio Jones",
          "Jerami Grant",
          "Jeremiah Robinson-Earl",
          "Jeremy Lamb",
          "Jeremy Lamb",
          "Jeremy Lamb",
          "Jericho Sims",
          "Jevon Carter",
          "Jevon Carter",
          "Jevon Carter",
          "Jock Landale",
          "Joe Harris",
          "Joe Ingles",
          "Joe Johnson",
          "Joe Wieskamp",
          "Joel Ayayi",
          "John Collins",
          "John Konchar",
          "Jon Teske",
          "Jonas Valančiūnas",
          "Jonathan Kuminga",
          "Jordan Bell",
          "Jordan Clarkson",
          "Jordan Goodwin",
          "Jordan McLaughlin",
          "Jordan Nwora",
          "Jordan Poole",
          "Jordan Schakel",
          "Jose Alvarado",
          "Josh Christopher",
          "Josh Giddey",
          "Josh Green",
          "Josh Hart",
          "Josh Hart",
          "Josh Hart",
          "Josh Jackson",
          "Josh Jackson",
          "Josh Jackson",
          "Josh Okogie",
          "Josh Richardson",
          "Josh Richardson",
          "Josh Richardson",
          "Joshua Primo",
          "Jrue Holiday",
          "JT Thor",
          "Juan Toscano-Anderson",
          "Juancho Hernangómez",
          "Juancho Hernangómez",
          "Juancho Hernangómez",
          "Juancho Hernangómez",
          "Julius Randle",
          "Justin Anderson",
          "Justin Anderson",
          "Justin Anderson",
          "Justin Champagnie",
          "Justin Holiday",
          "Justin Holiday",
          "Justin Holiday",
          "Justin Jackson",
          "Justin Jackson",
          "Justin Jackson",
          "Justin Robinson",
          "Justin Robinson",
          "Justin Robinson",
          "Justin Robinson",
          "Justise Winslow",
          "Justise Winslow",
          "Justise Winslow",
          "Jusuf Nurkić",
          "Juwan Morgan",
          "Juwan Morgan",
          "Juwan Morgan",
          "Kai Jones",
          "Keifer Sykes",
          "Keita Bates-Diop",
          "Kelan Martin",
          "Kelan Martin",
          "Kelan Martin",
          "Keldon Johnson",
          "Keljin Blevins",
          "Kelly Olynyk",
          "Kelly Oubre Jr.",
          "Kemba Walker",
          "Kenrich Williams",
          "Kent Bazemore",
          "Kentavious Caldwell-Pope",
          "Kenyon Martin Jr.",
          "Keon Johnson",
          "Keon Johnson",
          "Keon Johnson",
          "Kessler Edwards",
          "Kevin Huerter",
          "Kevin Knox",
          "Kevin Knox",
          "Kevin Knox",
          "Kevin Love",
          "Kevin Pangos",
          "Kevin Porter Jr.",
          "Kevon Looney",
          "Khem Birch",
          "Killian Hayes",
          "Killian Tillie",
          "Kira Lewis Jr.",
          "Klay Thompson",
          "Kris Dunn",
          "Kristaps Porziņģis",
          "Kristaps Porziņģis",
          "Kristaps Porziņģis",
          "Kyle Anderson",
          "Kyle Guy",
          "Kyle Kuzma",
          "Kyle Lowry",
          "Kyrie Irving",
          "KZ Okpala",
          "Lamar Stevens",
          "LaMarcus Aldridge",
          "Lance Stephenson",
          "Lance Stephenson",
          "Lance Stephenson",
          "Landry Shamet",
          "Langston Galloway",
          "Langston Galloway",
          "Langston Galloway",
          "Larry Nance Jr.",
          "Larry Nance Jr.",
          "Larry Nance Jr.",
          "Lauri Markkanen",
          "Leandro Bolmaro",
          "Lindell Wigginton",
          "Lindy Waters III",
          "Lonnie Walker IV",
          "Lonzo Ball",
          "Lou Williams",
          "Louis King",
          "Luguentz Dort",
          "Luka Garza",
          "Luke Kennard",
          "Luke Kornet",
          "Luke Kornet",
          "Luke Kornet",
          "Luke Kornet",
          "M.J. Walker",
          "Mac McClung",
          "Mac McClung",
          "Mac McClung",
          "Malachi Flynn",
          "Malcolm Brogdon",
          "Malcolm Hill",
          "Malcolm Hill",
          "Malcolm Hill",
          "Malik Beasley",
          "Malik Fitts",
          "Malik Fitts",
          "Malik Fitts",
          "Malik Monk",
          "Malik Newman",
          "Mamadi Diakite",
          "Marcus Garrett",
          "Marcus Morris",
          "Marcus Smart",
          "Markelle Fultz",
          "Markieff Morris",
          "Marko Simonovic",
          "Markus Howard",
          "Marquese Chriss",
          "Marvin Bagley III",
          "Marvin Bagley III",
          "Marvin Bagley III",
          "Mason Jones",
          "Mason Plumlee",
          "Matisse Thybulle",
          "Matt Mooney",
          "Matt Ryan",
          "Matt Thomas",
          "Maurice Harkless",
          "Max Strus",
          "Maxi Kleber",
          "McKinley Wright IV",
          "Melvin Frazier",
          "Micah Potter",
          "Michael Porter Jr.",
          "Mikal Bridges",
          "Mike Conley",
          "Mike Muscala",
          "Miles Bridges",
          "Miles McBride",
          "Mitchell Robinson",
          "Miye Oni",
          "Mo Bamba",
          "Monte Morris",
          "Montrezl Harrell",
          "Montrezl Harrell",
          "Montrezl Harrell",
          "Moritz Wagner",
          "Moses Brown",
          "Moses Brown",
          "Moses Brown",
          "Moses Moody",
          "Moses Wright",
          "Moses Wright",
          "Moses Wright",
          "Mychal Mulder",
          "Mychal Mulder",
          "Mychal Mulder",
          "Myles Powell",
          "Myles Turner",
          "Naji Marshall",
          "Nassir Little",
          "Nate Hinton",
          "Nathan Knight",
          "Naz Reid",
          "Neemias Queta",
          "Nemanja Bjelica",
          "Nerlens Noel",
          "Nic Claxton",
          "Nick Richards",
          "Nickeil Alexander-Walker",
          "Nickeil Alexander-Walker",
          "Nickeil Alexander-Walker",
          "Nicolas Batum",
          "Nik Stauskas",
          "Nik Stauskas",
          "Nik Stauskas",
          "Nikola Vučević",
          "Norman Powell",
          "Norman Powell",
          "Norman Powell",
          "Norvel Pelle",
          "Obi Toppin",
          "OG Anunoby",
          "Olivier Sarr",
          "Omer Yurtseven",
          "Onyeka Okongwu",
          "Oshae Brissett",
          "Otto Porter Jr.",
          "P.J. Tucker",
          "P.J. Washington",
          "Paris Bass",
          "Pascal Siakam",
          "Pat Connaughton",
          "Patrick Beverley",
          "Patrick Williams",
          "Patty Mills",
          "Paul George",
          "Paul Millsap",
          "Paul Millsap",
          "Paul Millsap",
          "Paul Reed",
          "Paul Watson",
          "Payton Pritchard",
          "Petr Cornelie",
          "PJ Dozier",
          "Precious Achiuwa",
          "Quentin Grimes",
          "Quinndary Weatherspoon",
          "R.J. Hampton",
          "Rajon Rondo",
          "Rajon Rondo",
          "Rajon Rondo",
          "Raul Neto",
          "Rayjon Tucker",
          "Rayjon Tucker",
          "Rayjon Tucker",
          "Reggie Bullock",
          "Reggie Jackson",
          "Reggie Perry",
          "Reggie Perry",
          "Reggie Perry",
          "Richaun Holmes",
          "Ricky Rubio",
          "RJ Barrett",
          "RJ Nembhard Jr.",
          "Rob Edwards",
          "Robert Covington",
          "Robert Covington",
          "Robert Covington",
          "Robert Williams",
          "Robert Woodard II",
          "Robin Lopez",
          "Rodney Hood",
          "Rodney Hood",
          "Rodney Hood",
          "Rodney McGruder",
          "Romeo Langford",
          "Romeo Langford",
          "Romeo Langford",
          "Royce O'Neale",
          "Rudy Gay",
          "Rui Hachimura",
          "Russell Westbrook",
          "Ryan Arcidiacono",
          "Saben Lee",
          "Saddiq Bey",
          "Sam Dekker",
          "Sam Hauser",
          "Sam Merrill",
          "Sandro Mamukelashvili",
          "Santi Aldama",
          "Scottie Barnes",
          "Scottie Lewis",
          "Scotty Hopson",
          "Sekou Doumbouya",
          "Semi Ojeleye",
          "Semi Ojeleye",
          "Semi Ojeleye",
          "Serge Ibaka",
          "Serge Ibaka",
          "Serge Ibaka",
          "Seth Curry",
          "Seth Curry",
          "Seth Curry",
          "Shai Gilgeous-Alexander",
          "Shake Milton",
          "Shaq Buchanan",
          "Shaquille Harrison",
          "Sharife Cooper",
          "Skylar Mays",
          "Solomon Hill",
          "Spencer Dinwiddie",
          "Spencer Dinwiddie",
          "Spencer Dinwiddie",
          "Stanley Johnson",
          "Sterling Brown",
          "Steven Adams",
          "Svi Mykhailiuk",
          "T.J. McConnell",
          "Tacko Fall",
          "Taj Gibson",
          "Talen Horton-Tucker",
          "Taurean Prince",
          "Terance Mann",
          "Terence Davis",
          "Terrence Ross",
          "Terry Rozier",
          "Terry Taylor",
          "Thaddeus Young",
          "Thaddeus Young",
          "Thaddeus Young",
          "Thanasis Antetokounmpo",
          "Théo Maledon",
          "Theo Pinson",
          "Thomas Bryant",
          "Tim Frazier",
          "Tim Frazier",
          "Tim Frazier",
          "Tim Hardaway Jr.",
          "Timothé Luwawu-Cabarrot",
          "Tobias Harris",
          "Tomáš Satoranský",
          "Tomáš Satoranský",
          "Tomáš Satoranský",
          "Tomáš Satoranský",
          "Tony Bradley",
          "Tony Snell",
          "Tony Snell",
          "Tony Snell",
          "Torrey Craig",
          "Torrey Craig",
          "Torrey Craig",
          "Trayvon Palmer",
          "Tre Jones",
          "Tre Mann",
          "Tre Scott",
          "Tremont Waters",
          "Tremont Waters",
          "Tremont Waters",
          "Trendon Watford",
          "Trent Forrest",
          "Trevelin Queen",
          "Trevor Ariza",
          "Trey Burke",
          "Trey Lyles",
          "Trey Lyles",
          "Trey Lyles",
          "Trey Murphy III",
          "Tristan Thompson",
          "Tristan Thompson",
          "Tristan Thompson",
          "Tristan Thompson",
          "Troy Brown Jr.",
          "Ty Jerome",
          "Tyler Cook",
          "Tyler Hall",
          "Tyler Herro",
          "Tyler Johnson",
          "Tyler Johnson",
          "Tyler Johnson",
          "Tyrell Terry",
          "Tyrese Haliburton",
          "Tyrese Haliburton",
          "Tyrese Haliburton",
          "Tyrese Maxey",
          "Tyrone Wallace",
          "Tyus Jones",
          "Udoka Azubuike",
          "Udonis Haslem",
          "Usman Garuba",
          "Vernon Carey Jr.",
          "Vernon Carey Jr.",
          "Vernon Carey Jr.",
          "Victor Oladipo",
          "Vit Krejci",
          "Vlatko Čančar",
          "Wayne Ellington",
          "Wayne Selden",
          "Wendell Carter Jr.",
          "Wenyen Gabriel",
          "Wenyen Gabriel",
          "Wenyen Gabriel",
          "Wenyen Gabriel",
          "Wes Iwundu",
          "Wesley Matthews",
          "Will Barton",
          "Willie Cauley-Stein",
          "Willie Cauley-Stein",
          "Willie Cauley-Stein",
          "Willy Hernangómez",
          "Xavier Moon",
          "Xavier Sneed",
          "Xavier Sneed",
          "Xavier Sneed",
          "Xavier Tillman Sr.",
          "Yuta Watanabe",
          "Yves Pons",
          "Zach Collins",
          "Zavier Simpson",
          "Zeke Nnaji",
          "Ziaire Williams",
          "Zylan Cheatham"
         ],
         "type": "scatter3d",
         "x": [
          15,
          0.3,
          6.3,
          6.1,
          6.8,
          3.8,
          8.3,
          2.4,
          0,
          3.8,
          2,
          10.2,
          11.7,
          2.8,
          7.6,
          7.4,
          6,
          3.5,
          1.8,
          1.8,
          1.3,
          2.3,
          9.6,
          9,
          7.9,
          6.1,
          11.8,
          4,
          17.3,
          23.2,
          21.3,
          4.1,
          0,
          5.3,
          6.2,
          2.6,
          0,
          7.3,
          6,
          6.4,
          8.8,
          6.5,
          19.1,
          10.2,
          5.8,
          6.4,
          4.3,
          14.6,
          15.1,
          18.1,
          2.4,
          10.1,
          3.6,
          3.5,
          7,
          23.2,
          6.7,
          10.4,
          4.8,
          22.7,
          6.4,
          12.9,
          7.2,
          1,
          8.6,
          1.8,
          12.4,
          9,
          2.9,
          1,
          6.9,
          8.8,
          9.1,
          8.6,
          15.6,
          14.4,
          18.2,
          0,
          17.4,
          9.2,
          10.1,
          11.9,
          6.1,
          8.5,
          12.5,
          4.7,
          11.5,
          10.8,
          17,
          18.7,
          13.6,
          0.8,
          0.7,
          1,
          13.3,
          5.8,
          5.8,
          2,
          0,
          10.7,
          0.7,
          3,
          1.4,
          0.7,
          1.5,
          6.2,
          1,
          9.7,
          3.7,
          8.9,
          9.4,
          2,
          13.1,
          2.6,
          0,
          2.9,
          17.9,
          8.6,
          5.8,
          22.1,
          20.5,
          24.3,
          11.1,
          12.7,
          7.7,
          5.2,
          16.3,
          16,
          8.2,
          8,
          2,
          5.3,
          5.4,
          5.3,
          7.5,
          18.1,
          3.2,
          1,
          3.2,
          8.1,
          24,
          7.4,
          2,
          9.4,
          3,
          8.2,
          8.4,
          7.9,
          11.7,
          5.9,
          5.9,
          4.8,
          0,
          6.8,
          0.7,
          10.8,
          1.3,
          4.7,
          0,
          5.1,
          11.5,
          5.6,
          5.7,
          5.3,
          4.4,
          6.2,
          23.2,
          13.4,
          10.8,
          5.3,
          17.2,
          4.3,
          4.1,
          4.6,
          5.1,
          5.8,
          0.8,
          1,
          0,
          4.4,
          9,
          9.1,
          8.9,
          8.4,
          13.5,
          14.4,
          10.9,
          5.6,
          2.9,
          2.9,
          2.5,
          5.3,
          5.6,
          12,
          6.3,
          13.2,
          14.4,
          11,
          18.2,
          10,
          12.3,
          2.6,
          3.1,
          11.9,
          6.3,
          3.9,
          0,
          5,
          18.4,
          18.9,
          18.9,
          18.9,
          9,
          7.2,
          10.3,
          11,
          11.3,
          7.7,
          4.7,
          14.5,
          9.9,
          10.9,
          6.2,
          8.7,
          2.2,
          0.9,
          3,
          3.5,
          3.1,
          3.8,
          0,
          1.5,
          3.7,
          9.9,
          13.4,
          5.8,
          1.8,
          14.1,
          15,
          5.1,
          0,
          10.6,
          10.6,
          4.1,
          15.2,
          2.3,
          7.6,
          8.7,
          4,
          2.6,
          3.3,
          5.2,
          10,
          2.7,
          11.1,
          7.1,
          18.3,
          6.2,
          0.3,
          9.2,
          6.6,
          1.8,
          17.5,
          7,
          7.5,
          8,
          7.3,
          15.9,
          3.5,
          7.8,
          11.1,
          4.7,
          5.4,
          7.3,
          4,
          5.4,
          4,
          11,
          16.4,
          8.2,
          6.3,
          2.3,
          9.5,
          5,
          11.3,
          0.8,
          8.8,
          8.3,
          8.3,
          3.6,
          6.4,
          10.1,
          8.3,
          8.4,
          9.3,
          6,
          8.3,
          1.7,
          6.3,
          4.5,
          8.6,
          2.4,
          10.3,
          4.4,
          9.2,
          1,
          9.4,
          11.8,
          3.2,
          0,
          2.4,
          13.5,
          16.3,
          17.3,
          2.4,
          6.2,
          9.2,
          6,
          13.4,
          11.8,
          4.6,
          4.1,
          2.5,
          10,
          1.3,
          5.5,
          3.8,
          6.4,
          0,
          3.8,
          7.4,
          16.3,
          6.9,
          3.5,
          0.7,
          9.2,
          0,
          7.2,
          3,
          2.4,
          5,
          9.3,
          0,
          2.7,
          23.6,
          14.7,
          0.7,
          8.5,
          0,
          2.1,
          1.5,
          0,
          3.3,
          10.3,
          2,
          19.2,
          7.5,
          7.3,
          7.1,
          7.9,
          2.2,
          4.2,
          3.6,
          5.6,
          4.9,
          11.3,
          7.2,
          2,
          2.1,
          0.3,
          16.2,
          4.8,
          0,
          17.8,
          9.3,
          0,
          16,
          0,
          3.8,
          7.9,
          18.5,
          1.3,
          6.1,
          7.9,
          12.5,
          4.8,
          14.9,
          13.4,
          19.9,
          6.4,
          7.1,
          4.3,
          2.7,
          10.2,
          9.7,
          11.4,
          5.8,
          18.3,
          2,
          4.1,
          3.3,
          1.1,
          1.4,
          6.2,
          20.1,
          6.4,
          4.3,
          6.8,
          2.3,
          10.1,
          11,
          8.3,
          2.1,
          2,
          2.2,
          3.1,
          2.8,
          0.7,
          5.6,
          5.7,
          4.2,
          10.7,
          15,
          2.5,
          5,
          0,
          1,
          5.6,
          5.7,
          5.7,
          6.3,
          0,
          17,
          3.1,
          9.1,
          15,
          11.6,
          7.4,
          3.4,
          13.2,
          8.8,
          7.2,
          3.5,
          9.7,
          5.9,
          12.1,
          3.1,
          3.6,
          2.7,
          13.6,
          1.6,
          15.6,
          6,
          4.5,
          6.9,
          3.3,
          5.9,
          20.4,
          7.6,
          20.2,
          19.2,
          22.1,
          7.6,
          3.9,
          17.1,
          13.4,
          27.4,
          3.7,
          6.1,
          12.9,
          8.3,
          1.8,
          9.3,
          8.3,
          2,
          3,
          0.7,
          7,
          6.9,
          7.3,
          14.8,
          1.4,
          4.2,
          8,
          12.1,
          13,
          6.3,
          4.5,
          17.2,
          5.8,
          11.9,
          2,
          2,
          0,
          2.2,
          0,
          4,
          2,
          6,
          4.3,
          19.1,
          3.8,
          5.7,
          3.4,
          12.1,
          1.4,
          0.9,
          1.9,
          13.8,
          8,
          4.3,
          1.1,
          15.4,
          12.1,
          10.8,
          7.6,
          1.9,
          4.1,
          4.5,
          11.3,
          9.3,
          14.6,
          6.8,
          6.5,
          5.7,
          0,
          3,
          4,
          4.6,
          10.6,
          7,
          1,
          10.7,
          4,
          9.9,
          14.2,
          13.7,
          8,
          20.2,
          2.2,
          8.5,
          0.3,
          10.6,
          12.6,
          13.1,
          14.1,
          11.4,
          9,
          4.3,
          3.1,
          6.4,
          4.4,
          1.3,
          0,
          1.7,
          4.1,
          3.7,
          7,
          1.2,
          12.9,
          5.7,
          9.8,
          0,
          3.7,
          8.3,
          3.2,
          6.1,
          3.4,
          8.7,
          3,
          10.6,
          12.8,
          3.5,
          8.3,
          2.3,
          5.5,
          1.2,
          17.6,
          19,
          18.7,
          21.4,
          2,
          9,
          17.1,
          7,
          5.3,
          8.2,
          9.1,
          8.2,
          7.6,
          10.3,
          3,
          22.8,
          9.9,
          9.2,
          9,
          11.4,
          24.3,
          3.5,
          3.4,
          3.7,
          3.1,
          3.4,
          6.2,
          1.1,
          5.4,
          9.1,
          6,
          2.7,
          7.6,
          4.8,
          3.1,
          6.2,
          7.5,
          4.2,
          2,
          7.5,
          8.6,
          16.8,
          9.2,
          10,
          2,
          10.4,
          13.1,
          20,
          1.1,
          1.5,
          8.5,
          7.6,
          10.4,
          10,
          0.6,
          7.1,
          3.1,
          3.3,
          2.6,
          5.4,
          4.5,
          4.7,
          2.8,
          7.4,
          8.1,
          11.3,
          18.5,
          1.6,
          5.6,
          16.1,
          0,
          2.5,
          4.2,
          3.8,
          4.1,
          15.3,
          0.5,
          4,
          7,
          3.3,
          2.9,
          4.1,
          6.8,
          6.6,
          7,
          15,
          15,
          14.9,
          24.5,
          8.2,
          1,
          2,
          0.5,
          2.9,
          0.6,
          13.7,
          12.6,
          15.8,
          6.7,
          3.3,
          6.9,
          4.6,
          8.5,
          1.1,
          4.4,
          10,
          7.3,
          10.8,
          10.4,
          10,
          19.3,
          9.6,
          6.2,
          6.1,
          6.3,
          3.6,
          7.1,
          2.5,
          7.4,
          3.3,
          3.7,
          1,
          14.2,
          4.4,
          17.2,
          3.6,
          2.8,
          3,
          4.9,
          3,
          3.5,
          2.6,
          5.9,
          6.6,
          6.5,
          6.9,
          0,
          6,
          10.4,
          3,
          3.3,
          4,
          2,
          7.6,
          3.3,
          4.3,
          4,
          5.1,
          10.5,
          10.4,
          10.6,
          5.4,
          6,
          6.2,
          7.3,
          5.7,
          4.3,
          7.1,
          3.4,
          0,
          20.7,
          2.8,
          3.7,
          2,
          1,
          15.3,
          14.3,
          17.5,
          17.5,
          2.8,
          8.7,
          4.7,
          2.5,
          2,
          2.9,
          2,
          4,
          12.4,
          6.2,
          4.1,
          6.7,
          1.7,
          15,
          5.4,
          0,
          2.3,
          6.7,
          7.3,
          5.1,
          14.7,
          1.7,
          1.9,
          0,
          9.1,
          5.8,
          0.6,
          0,
          0.7,
          4.8,
          4.3,
          1.1,
          7.8,
          11,
          6.6,
          8.1,
          0
         ],
         "y": [
          2.5,
          0,
          2.4,
          1.9,
          3.4,
          0.4,
          1.4,
          0.5,
          0,
          0.7,
          0,
          3.4,
          3,
          0.4,
          2.1,
          4,
          1.2,
          0.3,
          0.4,
          0.5,
          0,
          0.3,
          2.6,
          1.8,
          1.8,
          2,
          1.4,
          3.7,
          3.9,
          3.1,
          3.8,
          0.6,
          1,
          1.1,
          1.2,
          1,
          0,
          1.8,
          1.3,
          0.8,
          3.3,
          0,
          3.4,
          0.9,
          0.6,
          1.9,
          0.1,
          1.2,
          3.1,
          1.7,
          0.4,
          2.8,
          2.4,
          2.2,
          7,
          6.6,
          1,
          1.3,
          2.5,
          5.6,
          1.6,
          3.9,
          1,
          0.5,
          1.1,
          0.9,
          0.5,
          2.1,
          0.2,
          0.2,
          0.3,
          1,
          1,
          1,
          2.8,
          1.9,
          4.8,
          0,
          5.6,
          1.1,
          1,
          1.1,
          0.7,
          1.2,
          1.5,
          1,
          1.5,
          4.9,
          4.3,
          4.4,
          3.9,
          1,
          1.7,
          0,
          1,
          3.5,
          0.4,
          1,
          1,
          2,
          0.3,
          0.3,
          0.3,
          0.3,
          0.3,
          0.8,
          0,
          1.3,
          0,
          1,
          0.3,
          1.9,
          2.1,
          0.7,
          0,
          0.8,
          2.3,
          1.7,
          1.5,
          5.1,
          4.5,
          5.8,
          1.2,
          2.9,
          2.5,
          0.8,
          5.7,
          2.1,
          1.1,
          3.6,
          0.3,
          1.9,
          2.2,
          1.6,
          1.3,
          7.1,
          1.7,
          0.2,
          1.5,
          1.2,
          7.3,
          1,
          0.5,
          0.9,
          0,
          0.9,
          0.8,
          1,
          1.5,
          1,
          1,
          1.2,
          0,
          1,
          0.3,
          1.4,
          0.7,
          0.8,
          0,
          0.8,
          4.2,
          0.6,
          0.5,
          0.7,
          1.1,
          0.5,
          5.6,
          1.3,
          2.7,
          1,
          1.4,
          0.4,
          0.4,
          0.5,
          1.2,
          1.3,
          0.8,
          0.3,
          0,
          2.4,
          1.5,
          1.1,
          1.7,
          2,
          4.6,
          4.2,
          5.9,
          3.6,
          0.5,
          0.5,
          0,
          0.6,
          0.6,
          4,
          7,
          4.9,
          5.6,
          3.5,
          2.7,
          2,
          1.9,
          1.4,
          0.4,
          4.2,
          0.7,
          0.6,
          0.5,
          0.6,
          2.8,
          5.2,
          5,
          5.8,
          2.8,
          1.7,
          3.6,
          1.9,
          1.3,
          1.2,
          1,
          1.6,
          1.8,
          1.6,
          0.6,
          1.2,
          0.7,
          0.2,
          2,
          0.6,
          0.4,
          0.7,
          0.7,
          2,
          0.2,
          4.2,
          2.7,
          0.6,
          0.5,
          2.1,
          2.5,
          3.4,
          0.5,
          1,
          1.4,
          1.2,
          2.9,
          0.6,
          1.9,
          3.1,
          2,
          0.7,
          2.8,
          1.3,
          1,
          0.5,
          1.8,
          0.9,
          2,
          2.2,
          0,
          1.3,
          0.9,
          0,
          3,
          1.1,
          4.1,
          1.8,
          4.8,
          3.6,
          0.8,
          1,
          1.5,
          0.7,
          1.6,
          4,
          0.5,
          0.4,
          1,
          1.3,
          2.4,
          0.4,
          2.5,
          0.3,
          2.1,
          0.9,
          3.5,
          0.3,
          1.8,
          2.4,
          0.3,
          0.6,
          1.1,
          1.6,
          1.2,
          1.5,
          1.5,
          4,
          1.4,
          0.3,
          3.8,
          2.6,
          5.2,
          0.3,
          1.6,
          0.5,
          1.1,
          0,
          1.9,
          2.8,
          0.4,
          0,
          0.3,
          2.8,
          4.8,
          2.6,
          0.1,
          1.1,
          0.5,
          0.2,
          0.8,
          4.4,
          0.8,
          0.4,
          0,
          0,
          1,
          2.1,
          0.5,
          0.9,
          0.5,
          1.5,
          2.8,
          1.1,
          1.3,
          0.9,
          0.3,
          0.6,
          0,
          0.9,
          0.9,
          1.1,
          0.5,
          0.6,
          0.3,
          0.4,
          3.5,
          2.4,
          0.7,
          2.1,
          1,
          1.1,
          0.8,
          0,
          1.8,
          1.3,
          0,
          2.4,
          1,
          1.4,
          1.3,
          1.8,
          0.5,
          1.5,
          1,
          2.5,
          0.8,
          1,
          3.5,
          0,
          0.3,
          0.6,
          1.8,
          1.5,
          0.3,
          2.6,
          0.9,
          0,
          2.5,
          0,
          2.9,
          1,
          4,
          0,
          2.8,
          2,
          6.4,
          1.2,
          4.1,
          4.1,
          4.3,
          1.1,
          1.3,
          0.4,
          0.5,
          1.8,
          1.5,
          2.3,
          1.6,
          6.8,
          0.6,
          1.7,
          0.5,
          0.2,
          0.6,
          0.8,
          5.1,
          2.1,
          2,
          2.1,
          0.3,
          1.7,
          1.8,
          1.5,
          0.3,
          0,
          0.3,
          1.3,
          1.2,
          0.7,
          1.8,
          1.8,
          1.4,
          2.9,
          2.8,
          0.5,
          1,
          0,
          0.2,
          1.9,
          0.7,
          0.7,
          0.8,
          0,
          2.1,
          0.6,
          2.8,
          1.1,
          3.5,
          2.2,
          0.9,
          1.9,
          1.3,
          2.1,
          0.9,
          2.9,
          0.6,
          2.7,
          0.3,
          0.2,
          0.4,
          2.2,
          1.3,
          6.2,
          2,
          1,
          4.2,
          0.6,
          2,
          2.8,
          5.6,
          2.3,
          2,
          2.9,
          2.7,
          0.9,
          3.5,
          7.5,
          5.8,
          0.7,
          0.7,
          0.9,
          3.6,
          1.8,
          3.9,
          1.6,
          1.7,
          1.3,
          2.3,
          1.8,
          2,
          0.9,
          1.3,
          0.6,
          1.2,
          1,
          2.2,
          5.1,
          1.9,
          0.9,
          1.7,
          0.6,
          2.1,
          0.6,
          0.5,
          0,
          0.7,
          0.5,
          0.5,
          0,
          1,
          1.6,
          5.9,
          0.4,
          0.3,
          0.4,
          1.5,
          0.3,
          0,
          0.6,
          2.9,
          1,
          0.2,
          0.6,
          2.1,
          5.9,
          5.5,
          1.4,
          0,
          0.2,
          0.5,
          0.8,
          0.6,
          1.1,
          1,
          3.1,
          1.1,
          0,
          0,
          0.5,
          0.5,
          1.4,
          1.2,
          0.6,
          0.3,
          0,
          1.9,
          2.3,
          5.3,
          0.5,
          3.8,
          1,
          0.5,
          0.3,
          1.2,
          4.4,
          2,
          2.1,
          2,
          1.4,
          0,
          0,
          0,
          0.4,
          0.5,
          1,
          0.3,
          0.3,
          0.2,
          1,
          0.3,
          1,
          1.1,
          1.3,
          0,
          0.6,
          0.9,
          0.4,
          2.2,
          0.9,
          0.9,
          0.3,
          2.4,
          2.8,
          1.1,
          1.7,
          0.3,
          0.5,
          0.2,
          3.2,
          2.1,
          2.1,
          2.8,
          0,
          1.1,
          2.6,
          0.9,
          0.9,
          1.1,
          1.1,
          1.5,
          2.1,
          2.3,
          0,
          5.3,
          1.3,
          4.6,
          0.9,
          2.3,
          5.7,
          0.9,
          1,
          0.6,
          0.4,
          0.9,
          2,
          0.2,
          1.6,
          1.1,
          1,
          0.5,
          2.5,
          4.4,
          3.7,
          4.9,
          3.1,
          2,
          1.3,
          3,
          1.2,
          4.8,
          1.2,
          1.3,
          0,
          1.1,
          6.6,
          3,
          0.9,
          0,
          1.3,
          1.4,
          1,
          2,
          0.3,
          1.5,
          0.7,
          0.8,
          0.6,
          0.9,
          0.4,
          0.4,
          0.5,
          2.5,
          1,
          1.1,
          7.1,
          0.4,
          2.9,
          2.8,
          0,
          0.4,
          0.7,
          0.5,
          0.7,
          3.5,
          0.5,
          1,
          0,
          0.3,
          0.3,
          0.4,
          0.9,
          1,
          0.7,
          3.6,
          4,
          2.6,
          5.9,
          2.5,
          1,
          1.5,
          0.4,
          0.6,
          0.9,
          5.2,
          5.8,
          3.9,
          1.7,
          0.7,
          3.4,
          0.8,
          4.9,
          0.2,
          0.6,
          2.7,
          1,
          2.6,
          1.3,
          1.8,
          4.5,
          1.2,
          2,
          2.3,
          1.7,
          0.5,
          2.2,
          0.9,
          0.9,
          2.8,
          3.3,
          0.5,
          2.2,
          0.8,
          3.5,
          3.3,
          2.4,
          0,
          4.9,
          0.5,
          0.5,
          0.5,
          0.5,
          1.2,
          1.1,
          1.2,
          0,
          3.4,
          1.5,
          0,
          2.3,
          3.5,
          0,
          1.7,
          1.8,
          0.4,
          1.1,
          1.4,
          1.2,
          1.1,
          1.3,
          0.6,
          0.6,
          0.6,
          0.5,
          0.6,
          1,
          2.3,
          0.2,
          0,
          4,
          1.2,
          0.7,
          1.7,
          0,
          8.2,
          7.4,
          9.6,
          4.3,
          0.2,
          4.4,
          0,
          0.3,
          0.7,
          0,
          0,
          0,
          3.5,
          1.9,
          1.1,
          0.7,
          0.3,
          2.8,
          0.5,
          0,
          0.3,
          0.6,
          0,
          0.7,
          3.9,
          0.5,
          0.5,
          0.5,
          1.3,
          2.4,
          0.1,
          0,
          0.1,
          1.2,
          0.6,
          0.1,
          2.2,
          7.5,
          0.4,
          1,
          0
         ],
         "z": [
          5.9,
          0.2,
          1.9,
          1.6,
          2.5,
          1.7,
          3.6,
          1.9,
          0,
          2.3,
          0,
          7.7,
          4.9,
          3,
          5.2,
          3.6,
          4.1,
          1.9,
          2.7,
          2.3,
          4,
          3.3,
          5.5,
          2.9,
          9.3,
          8.8,
          10.3,
          3.2,
          2.6,
          9.9,
          4.8,
          1.9,
          0.5,
          1.9,
          2,
          1.7,
          0,
          3.2,
          1.7,
          2.2,
          2.8,
          3.8,
          10.1,
          1.6,
          4.6,
          4.1,
          1.7,
          9.1,
          4,
          4.3,
          1.4,
          2.7,
          1.7,
          1.6,
          4,
          4.7,
          2.2,
          5.3,
          1.9,
          5.8,
          1.6,
          3.1,
          4.5,
          1,
          5.3,
          0.8,
          4.1,
          4.8,
          1.8,
          0.8,
          4,
          1.2,
          1.6,
          0.9,
          4.4,
          4,
          5.1,
          0,
          5.5,
          3.8,
          2.1,
          2.5,
          1.4,
          2.4,
          4.1,
          5,
          3,
          3,
          3.7,
          3.8,
          3.4,
          0.6,
          1,
          0,
          4.2,
          1.5,
          2.1,
          0.1,
          1,
          2.2,
          0.8,
          2.7,
          1.5,
          0.3,
          1.6,
          3.2,
          1,
          4.7,
          4,
          5.6,
          6.2,
          1.1,
          4.1,
          3.6,
          1,
          3.9,
          10.1,
          5,
          3.9,
          4.3,
          4.3,
          4.5,
          11.9,
          3,
          4,
          4.6,
          5.4,
          3.3,
          2.7,
          2.7,
          0,
          1.2,
          1.2,
          1.3,
          4,
          3.3,
          1.4,
          0.3,
          1.9,
          4.4,
          4.1,
          3.2,
          1,
          5.7,
          1.7,
          4.9,
          5,
          4.7,
          4.7,
          2.5,
          2.6,
          2.7,
          0,
          2.7,
          0.7,
          6.3,
          1.3,
          3,
          0,
          3.3,
          2.2,
          2.1,
          1.8,
          2.5,
          2.3,
          5,
          3.9,
          3.3,
          4.5,
          2.9,
          10.2,
          5.5,
          5.4,
          5.8,
          2.9,
          3.2,
          1.4,
          2,
          0,
          2.9,
          5.6,
          5.8,
          5.5,
          5.2,
          3.3,
          3.3,
          3.3,
          2.4,
          1.8,
          1.7,
          2,
          4.7,
          3.3,
          3,
          3.3,
          3.5,
          3.5,
          3.4,
          4.4,
          1.2,
          4.3,
          0.8,
          2.8,
          2.3,
          5.8,
          1.9,
          1,
          2.1,
          3.2,
          12.1,
          12.1,
          12.3,
          4,
          3.5,
          4.4,
          4.7,
          2.3,
          5.4,
          4,
          8.5,
          1.7,
          2.6,
          5.9,
          4.9,
          1.8,
          2.1,
          1.8,
          1.6,
          1.2,
          1.9,
          5,
          0,
          4.6,
          3.4,
          2,
          1.8,
          1.8,
          2.6,
          8.3,
          1.8,
          0.5,
          1.6,
          4.6,
          1.4,
          4.5,
          4,
          2.6,
          1.9,
          1,
          0.9,
          1.8,
          2.4,
          2.9,
          2.4,
          2,
          3.5,
          2.7,
          2.9,
          1.3,
          2.7,
          1.6,
          0.9,
          3.3,
          3.5,
          3.1,
          2.8,
          3.2,
          4.6,
          2.8,
          3.6,
          3.4,
          2.8,
          4.6,
          6,
          5,
          4.2,
          3,
          4.8,
          5.6,
          7.6,
          2.6,
          1.4,
          3.8,
          1.7,
          3.2,
          0.5,
          3,
          4.9,
          4.1,
          1,
          3,
          4.8,
          8.7,
          1.3,
          2,
          0,
          1.2,
          1,
          2.2,
          1.5,
          3,
          1.2,
          8.5,
          2.3,
          4.2,
          1,
          5.3,
          5.4,
          0.7,
          0,
          1.1,
          9.3,
          3.9,
          3.4,
          1.2,
          3.1,
          6,
          4.8,
          7.6,
          3.6,
          1.7,
          1.7,
          2.5,
          2.5,
          0.7,
          3.5,
          2.5,
          4.2,
          0,
          1.1,
          0.4,
          5.8,
          8.4,
          1.3,
          1,
          6.7,
          1,
          4.2,
          1.4,
          1.5,
          1.3,
          4.5,
          1,
          0.9,
          6.1,
          12,
          0.7,
          2,
          1,
          2,
          1.8,
          0,
          2.8,
          3.1,
          1.5,
          4.1,
          5.6,
          2.8,
          2.4,
          3.5,
          4.1,
          1.7,
          1.5,
          2.2,
          2.6,
          4,
          2.9,
          0,
          0.5,
          0.4,
          7.8,
          4.6,
          0.7,
          11.4,
          3.3,
          1,
          3.5,
          0.5,
          1.5,
          3.6,
          3.4,
          2,
          1.9,
          2.5,
          7.8,
          2.4,
          7.2,
          7.8,
          5.4,
          2.8,
          3.2,
          1.5,
          1.4,
          2.8,
          2.8,
          2.9,
          2.3,
          4.5,
          1.3,
          2.4,
          2.5,
          1.4,
          3,
          3.5,
          9.9,
          2.9,
          2,
          3.1,
          2,
          2.6,
          2.8,
          2.2,
          1,
          0,
          1.2,
          0.8,
          0.8,
          0.3,
          1.4,
          4.2,
          3.6,
          6.3,
          11.1,
          2,
          4,
          0,
          0.5,
          1.4,
          3.9,
          1.8,
          2,
          0.7,
          6.1,
          1.5,
          4.4,
          4,
          3,
          4.5,
          1.8,
          3.4,
          3.8,
          2.2,
          1.4,
          2.7,
          3.6,
          3.4,
          1.5,
          1.7,
          1.3,
          7.2,
          0.5,
          4.4,
          7.3,
          4.3,
          3.2,
          1.7,
          1.6,
          3.9,
          3.5,
          8.1,
          7.7,
          8.8,
          5.3,
          0.9,
          8.5,
          4.5,
          4.4,
          2,
          2.6,
          5.5,
          2.8,
          2.5,
          2.8,
          1.8,
          2.6,
          2,
          3.3,
          5.4,
          5.6,
          4.3,
          5.7,
          1.2,
          1.3,
          2.9,
          2.6,
          5.4,
          1.6,
          1.2,
          4.2,
          3.1,
          3.3,
          1.9,
          1.5,
          1,
          2.1,
          0.5,
          1.5,
          0,
          3,
          1.4,
          5.1,
          1.8,
          2,
          1.8,
          2.9,
          1.1,
          1.4,
          0.9,
          3.4,
          1,
          4.5,
          1.9,
          4.4,
          3.8,
          2.7,
          2.6,
          1.1,
          0.4,
          3,
          7,
          7.2,
          6.8,
          2.5,
          7.7,
          2.3,
          0,
          0,
          1.3,
          2.4,
          3,
          5.9,
          0,
          4.3,
          3,
          6.6,
          4.2,
          3,
          3,
          7,
          1.1,
          8.6,
          0.4,
          8.1,
          3,
          6.1,
          6.7,
          4.9,
          3.7,
          3.4,
          2.3,
          5.3,
          1.5,
          0.8,
          0,
          1,
          1.4,
          1.4,
          1.5,
          0.5,
          7.1,
          2.6,
          5.6,
          0,
          2.3,
          3.9,
          2.2,
          4.1,
          5.6,
          5.6,
          1.7,
          2.9,
          3.3,
          1.5,
          4.3,
          0.4,
          1.5,
          0,
          11,
          3.2,
          3.3,
          2.8,
          2,
          3.7,
          5.5,
          4.2,
          5.3,
          5.9,
          5.3,
          5.7,
          5.5,
          5.2,
          2,
          8.5,
          4.2,
          4.1,
          4.1,
          1.9,
          6.9,
          3.5,
          3.7,
          2.8,
          2.4,
          3,
          1.9,
          1.1,
          3.5,
          6.5,
          2,
          1.3,
          3,
          2.8,
          2.7,
          2.8,
          1.9,
          1.6,
          1.3,
          2,
          3.5,
          3.6,
          4.7,
          5.1,
          1,
          7,
          4.1,
          5.8,
          0.5,
          1.5,
          5.5,
          5.7,
          5.1,
          9.6,
          0.9,
          3.5,
          1.5,
          1.7,
          0.8,
          2.2,
          2.3,
          2.4,
          1,
          4.8,
          4.4,
          3.8,
          7.4,
          0.8,
          2.4,
          5.4,
          0,
          1.1,
          1.2,
          2,
          2.7,
          7.5,
          0,
          1,
          3,
          2.5,
          2.9,
          1.6,
          4.6,
          4.3,
          5.3,
          3.1,
          3.4,
          2.6,
          5,
          2.6,
          1,
          2,
          0.4,
          0.9,
          1.8,
          4.2,
          4.7,
          3.1,
          3.2,
          3,
          10,
          1.6,
          3.3,
          2.1,
          4.4,
          3.2,
          2.5,
          5.2,
          3.1,
          2.6,
          4.3,
          5.2,
          4,
          3.6,
          4.4,
          2.1,
          2.6,
          1.1,
          4,
          1.6,
          1.9,
          0,
          3.7,
          1.6,
          6.8,
          2.3,
          2,
          1,
          2.8,
          3.4,
          1.9,
          1.9,
          2.1,
          4,
          3.8,
          4.3,
          2,
          2.2,
          2.9,
          1,
          1.3,
          2,
          0,
          4.1,
          1.7,
          1.6,
          3.4,
          0.8,
          5.1,
          4.8,
          5.6,
          2.4,
          5.1,
          5.4,
          4.5,
          4.7,
          3.1,
          1.6,
          2.7,
          0,
          5,
          2,
          2,
          2,
          0,
          4,
          3.9,
          4.3,
          3.2,
          1.3,
          2.4,
          4.2,
          1.9,
          3.5,
          1.7,
          1.3,
          2.3,
          2.9,
          3.4,
          2.1,
          1.8,
          0.3,
          10.5,
          3.7,
          1,
          2.3,
          4.3,
          4.3,
          1.9,
          4.8,
          2,
          2.1,
          1,
          6.8,
          1.4,
          0.7,
          1,
          0.6,
          3,
          2.4,
          1,
          5.5,
          5.3,
          3.6,
          2.1,
          0
         ]
        }
       ],
       "layout": {
        "template": {
         "data": {
          "bar": [
           {
            "error_x": {
             "color": "#2a3f5f"
            },
            "error_y": {
             "color": "#2a3f5f"
            },
            "marker": {
             "line": {
              "color": "#E5ECF6",
              "width": 0.5
             },
             "pattern": {
              "fillmode": "overlay",
              "size": 10,
              "solidity": 0.2
             }
            },
            "type": "bar"
           }
          ],
          "barpolar": [
           {
            "marker": {
             "line": {
              "color": "#E5ECF6",
              "width": 0.5
             },
             "pattern": {
              "fillmode": "overlay",
              "size": 10,
              "solidity": 0.2
             }
            },
            "type": "barpolar"
           }
          ],
          "carpet": [
           {
            "aaxis": {
             "endlinecolor": "#2a3f5f",
             "gridcolor": "white",
             "linecolor": "white",
             "minorgridcolor": "white",
             "startlinecolor": "#2a3f5f"
            },
            "baxis": {
             "endlinecolor": "#2a3f5f",
             "gridcolor": "white",
             "linecolor": "white",
             "minorgridcolor": "white",
             "startlinecolor": "#2a3f5f"
            },
            "type": "carpet"
           }
          ],
          "choropleth": [
           {
            "colorbar": {
             "outlinewidth": 0,
             "ticks": ""
            },
            "type": "choropleth"
           }
          ],
          "contour": [
           {
            "colorbar": {
             "outlinewidth": 0,
             "ticks": ""
            },
            "colorscale": [
             [
              0,
              "#0d0887"
             ],
             [
              0.1111111111111111,
              "#46039f"
             ],
             [
              0.2222222222222222,
              "#7201a8"
             ],
             [
              0.3333333333333333,
              "#9c179e"
             ],
             [
              0.4444444444444444,
              "#bd3786"
             ],
             [
              0.5555555555555556,
              "#d8576b"
             ],
             [
              0.6666666666666666,
              "#ed7953"
             ],
             [
              0.7777777777777778,
              "#fb9f3a"
             ],
             [
              0.8888888888888888,
              "#fdca26"
             ],
             [
              1,
              "#f0f921"
             ]
            ],
            "type": "contour"
           }
          ],
          "contourcarpet": [
           {
            "colorbar": {
             "outlinewidth": 0,
             "ticks": ""
            },
            "type": "contourcarpet"
           }
          ],
          "heatmap": [
           {
            "colorbar": {
             "outlinewidth": 0,
             "ticks": ""
            },
            "colorscale": [
             [
              0,
              "#0d0887"
             ],
             [
              0.1111111111111111,
              "#46039f"
             ],
             [
              0.2222222222222222,
              "#7201a8"
             ],
             [
              0.3333333333333333,
              "#9c179e"
             ],
             [
              0.4444444444444444,
              "#bd3786"
             ],
             [
              0.5555555555555556,
              "#d8576b"
             ],
             [
              0.6666666666666666,
              "#ed7953"
             ],
             [
              0.7777777777777778,
              "#fb9f3a"
             ],
             [
              0.8888888888888888,
              "#fdca26"
             ],
             [
              1,
              "#f0f921"
             ]
            ],
            "type": "heatmap"
           }
          ],
          "heatmapgl": [
           {
            "colorbar": {
             "outlinewidth": 0,
             "ticks": ""
            },
            "colorscale": [
             [
              0,
              "#0d0887"
             ],
             [
              0.1111111111111111,
              "#46039f"
             ],
             [
              0.2222222222222222,
              "#7201a8"
             ],
             [
              0.3333333333333333,
              "#9c179e"
             ],
             [
              0.4444444444444444,
              "#bd3786"
             ],
             [
              0.5555555555555556,
              "#d8576b"
             ],
             [
              0.6666666666666666,
              "#ed7953"
             ],
             [
              0.7777777777777778,
              "#fb9f3a"
             ],
             [
              0.8888888888888888,
              "#fdca26"
             ],
             [
              1,
              "#f0f921"
             ]
            ],
            "type": "heatmapgl"
           }
          ],
          "histogram": [
           {
            "marker": {
             "pattern": {
              "fillmode": "overlay",
              "size": 10,
              "solidity": 0.2
             }
            },
            "type": "histogram"
           }
          ],
          "histogram2d": [
           {
            "colorbar": {
             "outlinewidth": 0,
             "ticks": ""
            },
            "colorscale": [
             [
              0,
              "#0d0887"
             ],
             [
              0.1111111111111111,
              "#46039f"
             ],
             [
              0.2222222222222222,
              "#7201a8"
             ],
             [
              0.3333333333333333,
              "#9c179e"
             ],
             [
              0.4444444444444444,
              "#bd3786"
             ],
             [
              0.5555555555555556,
              "#d8576b"
             ],
             [
              0.6666666666666666,
              "#ed7953"
             ],
             [
              0.7777777777777778,
              "#fb9f3a"
             ],
             [
              0.8888888888888888,
              "#fdca26"
             ],
             [
              1,
              "#f0f921"
             ]
            ],
            "type": "histogram2d"
           }
          ],
          "histogram2dcontour": [
           {
            "colorbar": {
             "outlinewidth": 0,
             "ticks": ""
            },
            "colorscale": [
             [
              0,
              "#0d0887"
             ],
             [
              0.1111111111111111,
              "#46039f"
             ],
             [
              0.2222222222222222,
              "#7201a8"
             ],
             [
              0.3333333333333333,
              "#9c179e"
             ],
             [
              0.4444444444444444,
              "#bd3786"
             ],
             [
              0.5555555555555556,
              "#d8576b"
             ],
             [
              0.6666666666666666,
              "#ed7953"
             ],
             [
              0.7777777777777778,
              "#fb9f3a"
             ],
             [
              0.8888888888888888,
              "#fdca26"
             ],
             [
              1,
              "#f0f921"
             ]
            ],
            "type": "histogram2dcontour"
           }
          ],
          "mesh3d": [
           {
            "colorbar": {
             "outlinewidth": 0,
             "ticks": ""
            },
            "type": "mesh3d"
           }
          ],
          "parcoords": [
           {
            "line": {
             "colorbar": {
              "outlinewidth": 0,
              "ticks": ""
             }
            },
            "type": "parcoords"
           }
          ],
          "pie": [
           {
            "automargin": true,
            "type": "pie"
           }
          ],
          "scatter": [
           {
            "fillpattern": {
             "fillmode": "overlay",
             "size": 10,
             "solidity": 0.2
            },
            "type": "scatter"
           }
          ],
          "scatter3d": [
           {
            "line": {
             "colorbar": {
              "outlinewidth": 0,
              "ticks": ""
             }
            },
            "marker": {
             "colorbar": {
              "outlinewidth": 0,
              "ticks": ""
             }
            },
            "type": "scatter3d"
           }
          ],
          "scattercarpet": [
           {
            "marker": {
             "colorbar": {
              "outlinewidth": 0,
              "ticks": ""
             }
            },
            "type": "scattercarpet"
           }
          ],
          "scattergeo": [
           {
            "marker": {
             "colorbar": {
              "outlinewidth": 0,
              "ticks": ""
             }
            },
            "type": "scattergeo"
           }
          ],
          "scattergl": [
           {
            "marker": {
             "colorbar": {
              "outlinewidth": 0,
              "ticks": ""
             }
            },
            "type": "scattergl"
           }
          ],
          "scattermapbox": [
           {
            "marker": {
             "colorbar": {
              "outlinewidth": 0,
              "ticks": ""
             }
            },
            "type": "scattermapbox"
           }
          ],
          "scatterpolar": [
           {
            "marker": {
             "colorbar": {
              "outlinewidth": 0,
              "ticks": ""
             }
            },
            "type": "scatterpolar"
           }
          ],
          "scatterpolargl": [
           {
            "marker": {
             "colorbar": {
              "outlinewidth": 0,
              "ticks": ""
             }
            },
            "type": "scatterpolargl"
           }
          ],
          "scatterternary": [
           {
            "marker": {
             "colorbar": {
              "outlinewidth": 0,
              "ticks": ""
             }
            },
            "type": "scatterternary"
           }
          ],
          "surface": [
           {
            "colorbar": {
             "outlinewidth": 0,
             "ticks": ""
            },
            "colorscale": [
             [
              0,
              "#0d0887"
             ],
             [
              0.1111111111111111,
              "#46039f"
             ],
             [
              0.2222222222222222,
              "#7201a8"
             ],
             [
              0.3333333333333333,
              "#9c179e"
             ],
             [
              0.4444444444444444,
              "#bd3786"
             ],
             [
              0.5555555555555556,
              "#d8576b"
             ],
             [
              0.6666666666666666,
              "#ed7953"
             ],
             [
              0.7777777777777778,
              "#fb9f3a"
             ],
             [
              0.8888888888888888,
              "#fdca26"
             ],
             [
              1,
              "#f0f921"
             ]
            ],
            "type": "surface"
           }
          ],
          "table": [
           {
            "cells": {
             "fill": {
              "color": "#EBF0F8"
             },
             "line": {
              "color": "white"
             }
            },
            "header": {
             "fill": {
              "color": "#C8D4E3"
             },
             "line": {
              "color": "white"
             }
            },
            "type": "table"
           }
          ]
         },
         "layout": {
          "annotationdefaults": {
           "arrowcolor": "#2a3f5f",
           "arrowhead": 0,
           "arrowwidth": 1
          },
          "autotypenumbers": "strict",
          "coloraxis": {
           "colorbar": {
            "outlinewidth": 0,
            "ticks": ""
           }
          },
          "colorscale": {
           "diverging": [
            [
             0,
             "#8e0152"
            ],
            [
             0.1,
             "#c51b7d"
            ],
            [
             0.2,
             "#de77ae"
            ],
            [
             0.3,
             "#f1b6da"
            ],
            [
             0.4,
             "#fde0ef"
            ],
            [
             0.5,
             "#f7f7f7"
            ],
            [
             0.6,
             "#e6f5d0"
            ],
            [
             0.7,
             "#b8e186"
            ],
            [
             0.8,
             "#7fbc41"
            ],
            [
             0.9,
             "#4d9221"
            ],
            [
             1,
             "#276419"
            ]
           ],
           "sequential": [
            [
             0,
             "#0d0887"
            ],
            [
             0.1111111111111111,
             "#46039f"
            ],
            [
             0.2222222222222222,
             "#7201a8"
            ],
            [
             0.3333333333333333,
             "#9c179e"
            ],
            [
             0.4444444444444444,
             "#bd3786"
            ],
            [
             0.5555555555555556,
             "#d8576b"
            ],
            [
             0.6666666666666666,
             "#ed7953"
            ],
            [
             0.7777777777777778,
             "#fb9f3a"
            ],
            [
             0.8888888888888888,
             "#fdca26"
            ],
            [
             1,
             "#f0f921"
            ]
           ],
           "sequentialminus": [
            [
             0,
             "#0d0887"
            ],
            [
             0.1111111111111111,
             "#46039f"
            ],
            [
             0.2222222222222222,
             "#7201a8"
            ],
            [
             0.3333333333333333,
             "#9c179e"
            ],
            [
             0.4444444444444444,
             "#bd3786"
            ],
            [
             0.5555555555555556,
             "#d8576b"
            ],
            [
             0.6666666666666666,
             "#ed7953"
            ],
            [
             0.7777777777777778,
             "#fb9f3a"
            ],
            [
             0.8888888888888888,
             "#fdca26"
            ],
            [
             1,
             "#f0f921"
            ]
           ]
          },
          "colorway": [
           "#636efa",
           "#EF553B",
           "#00cc96",
           "#ab63fa",
           "#FFA15A",
           "#19d3f3",
           "#FF6692",
           "#B6E880",
           "#FF97FF",
           "#FECB52"
          ],
          "font": {
           "color": "#2a3f5f"
          },
          "geo": {
           "bgcolor": "white",
           "lakecolor": "white",
           "landcolor": "#E5ECF6",
           "showlakes": true,
           "showland": true,
           "subunitcolor": "white"
          },
          "hoverlabel": {
           "align": "left"
          },
          "hovermode": "closest",
          "mapbox": {
           "style": "light"
          },
          "paper_bgcolor": "white",
          "plot_bgcolor": "#E5ECF6",
          "polar": {
           "angularaxis": {
            "gridcolor": "white",
            "linecolor": "white",
            "ticks": ""
           },
           "bgcolor": "#E5ECF6",
           "radialaxis": {
            "gridcolor": "white",
            "linecolor": "white",
            "ticks": ""
           }
          },
          "scene": {
           "xaxis": {
            "backgroundcolor": "#E5ECF6",
            "gridcolor": "white",
            "gridwidth": 2,
            "linecolor": "white",
            "showbackground": true,
            "ticks": "",
            "zerolinecolor": "white"
           },
           "yaxis": {
            "backgroundcolor": "#E5ECF6",
            "gridcolor": "white",
            "gridwidth": 2,
            "linecolor": "white",
            "showbackground": true,
            "ticks": "",
            "zerolinecolor": "white"
           },
           "zaxis": {
            "backgroundcolor": "#E5ECF6",
            "gridcolor": "white",
            "gridwidth": 2,
            "linecolor": "white",
            "showbackground": true,
            "ticks": "",
            "zerolinecolor": "white"
           }
          },
          "shapedefaults": {
           "line": {
            "color": "#2a3f5f"
           }
          },
          "ternary": {
           "aaxis": {
            "gridcolor": "white",
            "linecolor": "white",
            "ticks": ""
           },
           "baxis": {
            "gridcolor": "white",
            "linecolor": "white",
            "ticks": ""
           },
           "bgcolor": "#E5ECF6",
           "caxis": {
            "gridcolor": "white",
            "linecolor": "white",
            "ticks": ""
           }
          },
          "title": {
           "x": 0.05
          },
          "xaxis": {
           "automargin": true,
           "gridcolor": "white",
           "linecolor": "white",
           "ticks": "",
           "title": {
            "standoff": 15
           },
           "zerolinecolor": "white",
           "zerolinewidth": 2
          },
          "yaxis": {
           "automargin": true,
           "gridcolor": "white",
           "linecolor": "white",
           "ticks": "",
           "title": {
            "standoff": 15
           },
           "zerolinecolor": "white",
           "zerolinewidth": 2
          }
         }
        }
       }
      },
      "text/html": [
       "<div>                            <div id=\"6fbe0253-ba3a-4342-ab74-22092a155bcd\" class=\"plotly-graph-div\" style=\"height:525px; width:100%;\"></div>            <script type=\"text/javascript\">                require([\"plotly\"], function(Plotly) {                    window.PLOTLYENV=window.PLOTLYENV || {};                                    if (document.getElementById(\"6fbe0253-ba3a-4342-ab74-22092a155bcd\")) {                    Plotly.newPlot(                        \"6fbe0253-ba3a-4342-ab74-22092a155bcd\",                        [{\"mode\":\"markers\",\"name\":\"all-stars\",\"text\":[\"Andrew Wiggins\",\"Chris Paul\",\"Darius Garland\",\"Dejounte Murray\",\"DeMar DeRozan\",\"Devin Booker\",\"Donovan Mitchell\",\"Draymond Green\",\"Fred VanVleet\",\"Giannis Antetokounmpo\",\"Ja Morant\",\"James Harden\",\"James Harden\",\"James Harden\",\"Jarrett Allen\",\"Jayson Tatum\",\"Jimmy Butler\",\"Joel Embiid\",\"Karl-Anthony Towns\",\"Kevin Durant\",\"Khris Middleton\",\"LaMelo Ball\",\"LeBron James\",\"Luka Don\\u010di\\u0107\",\"Nikola Joki\\u0107\",\"Rudy Gobert\",\"Stephen Curry\",\"Trae Young\",\"Zach LaVine\"],\"x\":[17.2,14.7,21.7,21.1,27.9,26.8,25.9,7.5,20.3,29.9,27.4,22.0,22.5,21.0,16.1,26.9,21.4,30.6,24.6,29.9,20.1,20.1,30.3,28.4,27.1,15.6,25.5,28.4,24.4],\"y\":[2.2,10.8,8.6,9.2,4.9,4.8,5.3,7.0,6.7,5.8,6.7,10.3,10.2,10.5,1.6,4.4,5.5,4.2,3.6,6.4,5.4,7.6,6.2,8.7,7.9,1.1,6.3,9.7,4.5],\"z\":[4.5,4.4,3.3,8.3,5.2,5.0,4.2,7.3,4.4,11.6,5.7,7.7,8.0,7.1,10.8,8.0,5.9,11.7,9.8,7.4,5.4,6.7,8.2,9.1,13.8,14.7,5.2,3.7,4.6],\"type\":\"scatter3d\"},{\"mode\":\"markers\",\"name\":\"non-all-stars\",\"text\":[\"Aaron Gordon\",\"Aaron Henry\",\"Aaron Holiday\",\"Aaron Holiday\",\"Aaron Holiday\",\"Aaron Nesmith\",\"Aaron Wiggins\",\"Abdel Nader\",\"Ade Murkey\",\"Admiral Schofield\",\"Ahmad Caver\",\"Al Horford\",\"Alec Burks\",\"Aleem Ford\",\"Aleksej Pokusevski\",\"Alex Caruso\",\"Alex Len\",\"Alfonzo McKinnie\",\"Alize Johnson\",\"Alize Johnson\",\"Alize Johnson\",\"Alize Johnson\",\"Alperen \\u015eeng\\u00fcn\",\"Amir Coffey\",\"Andre Drummond\",\"Andre Drummond\",\"Andre Drummond\",\"Andre Iguodala\",\"Anfernee Simons\",\"Anthony Davis\",\"Anthony Edwards\",\"Anthony Gill\",\"Anthony Lamb\",\"Armoni Brooks\",\"Armoni Brooks\",\"Armoni Brooks\",\"Arnoldas Kulboka\",\"Austin Reaves\",\"Austin Rivers\",\"Avery Bradley\",\"Ayo Dosunmu\",\"B.J. Johnson\",\"Bam Adebayo\",\"Ben McLemore\",\"Bismack Biyombo\",\"Blake Griffin\",\"Boban Marjanovi\\u0107\",\"Bobby Portis\",\"Bogdan Bogdanovi\\u0107\",\"Bojan Bogdanovi\\u0107\",\"Bol Bol\",\"Bones Hyland\",\"Brad Wanamaker\",\"Brad Wanamaker\",\"Brad Wanamaker\",\"Bradley Beal\",\"Brandon Boston Jr.\",\"Brandon Clarke\",\"Brandon Goodwin\",\"Brandon Ingram\",\"Brandon Knight\",\"Brandon Williams\",\"Braxton Key\",\"Braxton Key\",\"Braxton Key\",\"Brodric Thomas\",\"Brook Lopez\",\"Bruce Brown\",\"Bruno Fernando\",\"Bruno Fernando\",\"Bruno Fernando\",\"Bryn Forbes\",\"Bryn Forbes\",\"Bryn Forbes\",\"Buddy Hield\",\"Buddy Hield\",\"Buddy Hield\",\"C.J. Miles\",\"Cade Cunningham\",\"Caleb Martin\",\"Cam Reddish\",\"Cam Reddish\",\"Cam Reddish\",\"Cam Thomas\",\"Cameron Johnson\",\"Cameron McGriff\",\"Cameron Oliver\",\"Cameron Payne\",\"Caris LeVert\",\"Caris LeVert\",\"Caris LeVert\",\"Carlik Jones\",\"Carlik Jones\",\"Carlik Jones\",\"Carmelo Anthony\",\"Carsen Edwards\",\"Cassius Stanley\",\"Cassius Winston\",\"Cat Barber\",\"Cedi Osman\",\"Chandler Hutchison\",\"Charles Bassey\",\"Charlie Brown Jr.\",\"Charlie Brown Jr.\",\"Charlie Brown Jr.\",\"Chaundee Brown Jr.\",\"Chaundee Brown Jr.\",\"Chaundee Brown Jr.\",\"Cheick Diallo\",\"Chimezie Metu\",\"Chris Boucher\",\"Chris Chiozza\",\"Chris Duarte\",\"Chris Silva\",\"Chris Silva\",\"Chris Silva\",\"Christian Wood\",\"Chuma Okeke\",\"CJ Elleby\",\"CJ McCollum\",\"CJ McCollum\",\"CJ McCollum\",\"Clint Capela\",\"Coby White\",\"Cody Martin\",\"Cody Zeller\",\"Cole Anthony\",\"Collin Sexton\",\"Corey Kispert\",\"Cory Joseph\",\"Craig Sword\",\"D.J. Augustin\",\"D.J. Augustin\",\"D.J. Augustin\",\"D.J. Wilson\",\"D'Angelo Russell\",\"Daishen Nix\",\"Dakota Mathias\",\"Dalano Banton\",\"Damian Jones\",\"Damian Lillard\",\"Damion Lee\",\"Damyean Dotson\",\"Daniel Gafford\",\"Daniel Oturu\",\"Daniel Theis\",\"Daniel Theis\",\"Daniel Theis\",\"Danilo Gallinari\",\"Danny Green\",\"Danuel House Jr.\",\"Danuel House Jr.\",\"Danuel House Jr.\",\"Danuel House Jr.\",\"DaQuan Jeffries\",\"Darius Bazley\",\"Darren Collison\",\"David Duke Jr.\",\"David Johnson\",\"David Nwaba\",\"Davion Mitchell\",\"D\\u0101vis Bert\\u0101ns\",\"D\\u0101vis Bert\\u0101ns\",\"D\\u0101vis Bert\\u0101ns\",\"Davon Reed\",\"Day'Ron Sharpe\",\"De'Aaron Fox\",\"De'Andre Hunter\",\"De'Anthony Melton\",\"Dean Wade\",\"Deandre Ayton\",\"DeAndre Jordan\",\"DeAndre Jordan\",\"DeAndre Jordan\",\"DeAndre' Bembry\",\"DeAndre' Bembry\",\"DeAndre' Bembry\",\"Deividas Sirvydis\",\"DeJon Jarreau\",\"Delon Wright\",\"DeMarcus Cousins\",\"DeMarcus Cousins\",\"DeMarcus Cousins\",\"Deni Avdija\",\"Dennis Schr\\u00f6der\",\"Dennis Schr\\u00f6der\",\"Dennis Schr\\u00f6der\",\"Dennis Smith Jr.\",\"Denzel Valentine\",\"Denzel Valentine\",\"Denzel Valentine\",\"Derrick Favors\",\"Derrick Jones Jr.\",\"Derrick Rose\",\"Derrick Walton\",\"Derrick White\",\"Derrick White\",\"Derrick White\",\"Desmond Bane\",\"Devin Cannady\",\"Devin Vassell\",\"Devon Dotson\",\"Devontae Cacok\",\"Devonte' Graham\",\"Dewayne Dedmon\",\"Didi Louzada\",\"Didi Louzada\",\"Didi Louzada\",\"Dillon Brooks\",\"Domantas Sabonis\",\"Domantas Sabonis\",\"Domantas Sabonis\",\"Donte DiVincenzo\",\"Donte DiVincenzo\",\"Donte DiVincenzo\",\"Dorian Finney-Smith\",\"Doug McDermott\",\"Drew Eubanks\",\"Drew Eubanks\",\"Drew Eubanks\",\"Duane Washington Jr.\",\"Duncan Robinson\",\"Dwight Howard\",\"Dwight Powell\",\"Dylan Windler\",\"Ed Davis\",\"Elfrid Payton\",\"Elijah Hughes\",\"Elijah Hughes\",\"Elijah Hughes\",\"Emanuel Terry\",\"Emmanuel Mudiay\",\"Enes Freedom\",\"Eric Bledsoe\",\"Eric Gordon\",\"Eric Paschall\",\"Eugene Omoruyi\",\"Evan Fournier\",\"Evan Mobley\",\"Facundo Campazzo\",\"Feron Hunt\",\"Frank Jackson\",\"Frank Kaminsky\",\"Frank Ntilikina\",\"Franz Wagner\",\"Freddie Gillespie\",\"Furkan Korkmaz\",\"Gabe Vincent\",\"Gabe York\",\"Gabriel Deck\",\"Gabriel Lundberg\",\"Garrett Temple\",\"Garrison Mathews\",\"Gary Clark\",\"Gary Harris\",\"Gary Payton II\",\"Gary Trent Jr.\",\"George Hill\",\"George King\",\"Georges Niang\",\"Georgios Kalaitzakis\",\"Georgios Kalaitzakis\",\"Georgios Kalaitzakis\",\"Goga Bitadze\",\"Goran Dragi\\u0107\",\"Goran Dragi\\u0107\",\"Goran Dragi\\u0107\",\"Gordon Hayward\",\"Gorgui Dieng\",\"Grant Williams\",\"Grayson Allen\",\"Greg Brown III\",\"Greg Monroe\",\"Greg Monroe\",\"Greg Monroe\",\"Greg Monroe\",\"Greg Monroe\",\"Hamidou Diallo\",\"Harrison Barnes\",\"Hassan Whiteside\",\"Hassani Gravett\",\"Haywood Highsmith\",\"Herbert Jones\",\"Ignas Brazdeikis\",\"Immanuel Quickley\",\"Isaac Bonga\",\"Isaac Okoro\",\"Isaiah Hartenstein\",\"Isaiah Jackson\",\"Isaiah Joe\",\"Isaiah Livers\",\"Isaiah Roby\",\"Isaiah Stewart\",\"Isaiah Thomas\",\"Isaiah Thomas\",\"Isaiah Thomas\",\"Isaiah Thomas\",\"Isaiah Todd\",\"Ish Smith\",\"Ish Smith\",\"Ish Smith\",\"Ish Wainright\",\"Ivica Zubac\",\"Jabari Parker\",\"Jaden McDaniels\",\"Jaden Springer\",\"Jae Crowder\",\"Jae'Sean Tate\",\"Jahmi'us Ramsey\",\"Jaime Echenique\",\"Jake Layman\",\"Jakob Poeltl\",\"Jalen Brunson\",\"Jalen Green\",\"Jalen Johnson\",\"Jalen McDaniels\",\"Jalen Smith\",\"Jalen Smith\",\"Jalen Smith\",\"Jalen Suggs\",\"James Bouknight\",\"James Ennis III\",\"James Ennis III\",\"James Ennis III\",\"James Ennis III\",\"James Johnson\",\"Jamorko Pickett\",\"JaMychal Green\",\"JaQuori McLaughlin\",\"Jared Butler\",\"Jared Harper\",\"Jaren Jackson Jr.\",\"Jarred Vanderbilt\",\"Jarrett Culver\",\"Jarron Cumberland\",\"JaVale McGee\",\"Javin DeLaurier\",\"Javonte Green\",\"Javonte Smart\",\"Javonte Smart\",\"Javonte Smart\",\"Jaxson Hayes\",\"Jay Huff\",\"Jay Scrubb\",\"Jaylen Brown\",\"Jaylen Hoard\",\"Jaylen Morris\",\"Jaylen Nowell\",\"Jaysean Paige\",\"Jeff Dowtin\",\"Jeff Dowtin\",\"Jeff Dowtin\",\"Jeff Dowtin\",\"Jeff Green\",\"Jemerrio Jones\",\"Jerami Grant\",\"Jeremiah Robinson-Earl\",\"Jeremy Lamb\",\"Jeremy Lamb\",\"Jeremy Lamb\",\"Jericho Sims\",\"Jevon Carter\",\"Jevon Carter\",\"Jevon Carter\",\"Jock Landale\",\"Joe Harris\",\"Joe Ingles\",\"Joe Johnson\",\"Joe Wieskamp\",\"Joel Ayayi\",\"John Collins\",\"John Konchar\",\"Jon Teske\",\"Jonas Valan\\u010di\\u016bnas\",\"Jonathan Kuminga\",\"Jordan Bell\",\"Jordan Clarkson\",\"Jordan Goodwin\",\"Jordan McLaughlin\",\"Jordan Nwora\",\"Jordan Poole\",\"Jordan Schakel\",\"Jose Alvarado\",\"Josh Christopher\",\"Josh Giddey\",\"Josh Green\",\"Josh Hart\",\"Josh Hart\",\"Josh Hart\",\"Josh Jackson\",\"Josh Jackson\",\"Josh Jackson\",\"Josh Okogie\",\"Josh Richardson\",\"Josh Richardson\",\"Josh Richardson\",\"Joshua Primo\",\"Jrue Holiday\",\"JT Thor\",\"Juan Toscano-Anderson\",\"Juancho Hernang\\u00f3mez\",\"Juancho Hernang\\u00f3mez\",\"Juancho Hernang\\u00f3mez\",\"Juancho Hernang\\u00f3mez\",\"Julius Randle\",\"Justin Anderson\",\"Justin Anderson\",\"Justin Anderson\",\"Justin Champagnie\",\"Justin Holiday\",\"Justin Holiday\",\"Justin Holiday\",\"Justin Jackson\",\"Justin Jackson\",\"Justin Jackson\",\"Justin Robinson\",\"Justin Robinson\",\"Justin Robinson\",\"Justin Robinson\",\"Justise Winslow\",\"Justise Winslow\",\"Justise Winslow\",\"Jusuf Nurki\\u0107\",\"Juwan Morgan\",\"Juwan Morgan\",\"Juwan Morgan\",\"Kai Jones\",\"Keifer Sykes\",\"Keita Bates-Diop\",\"Kelan Martin\",\"Kelan Martin\",\"Kelan Martin\",\"Keldon Johnson\",\"Keljin Blevins\",\"Kelly Olynyk\",\"Kelly Oubre Jr.\",\"Kemba Walker\",\"Kenrich Williams\",\"Kent Bazemore\",\"Kentavious Caldwell-Pope\",\"Kenyon Martin Jr.\",\"Keon Johnson\",\"Keon Johnson\",\"Keon Johnson\",\"Kessler Edwards\",\"Kevin Huerter\",\"Kevin Knox\",\"Kevin Knox\",\"Kevin Knox\",\"Kevin Love\",\"Kevin Pangos\",\"Kevin Porter Jr.\",\"Kevon Looney\",\"Khem Birch\",\"Killian Hayes\",\"Killian Tillie\",\"Kira Lewis Jr.\",\"Klay Thompson\",\"Kris Dunn\",\"Kristaps Porzi\\u0146\\u0123is\",\"Kristaps Porzi\\u0146\\u0123is\",\"Kristaps Porzi\\u0146\\u0123is\",\"Kyle Anderson\",\"Kyle Guy\",\"Kyle Kuzma\",\"Kyle Lowry\",\"Kyrie Irving\",\"KZ Okpala\",\"Lamar Stevens\",\"LaMarcus Aldridge\",\"Lance Stephenson\",\"Lance Stephenson\",\"Lance Stephenson\",\"Landry Shamet\",\"Langston Galloway\",\"Langston Galloway\",\"Langston Galloway\",\"Larry Nance Jr.\",\"Larry Nance Jr.\",\"Larry Nance Jr.\",\"Lauri Markkanen\",\"Leandro Bolmaro\",\"Lindell Wigginton\",\"Lindy Waters III\",\"Lonnie Walker IV\",\"Lonzo Ball\",\"Lou Williams\",\"Louis King\",\"Luguentz Dort\",\"Luka Garza\",\"Luke Kennard\",\"Luke Kornet\",\"Luke Kornet\",\"Luke Kornet\",\"Luke Kornet\",\"M.J. Walker\",\"Mac McClung\",\"Mac McClung\",\"Mac McClung\",\"Malachi Flynn\",\"Malcolm Brogdon\",\"Malcolm Hill\",\"Malcolm Hill\",\"Malcolm Hill\",\"Malik Beasley\",\"Malik Fitts\",\"Malik Fitts\",\"Malik Fitts\",\"Malik Monk\",\"Malik Newman\",\"Mamadi Diakite\",\"Marcus Garrett\",\"Marcus Morris\",\"Marcus Smart\",\"Markelle Fultz\",\"Markieff Morris\",\"Marko Simonovic\",\"Markus Howard\",\"Marquese Chriss\",\"Marvin Bagley III\",\"Marvin Bagley III\",\"Marvin Bagley III\",\"Mason Jones\",\"Mason Plumlee\",\"Matisse Thybulle\",\"Matt Mooney\",\"Matt Ryan\",\"Matt Thomas\",\"Maurice Harkless\",\"Max Strus\",\"Maxi Kleber\",\"McKinley Wright IV\",\"Melvin Frazier\",\"Micah Potter\",\"Michael Porter Jr.\",\"Mikal Bridges\",\"Mike Conley\",\"Mike Muscala\",\"Miles Bridges\",\"Miles McBride\",\"Mitchell Robinson\",\"Miye Oni\",\"Mo Bamba\",\"Monte Morris\",\"Montrezl Harrell\",\"Montrezl Harrell\",\"Montrezl Harrell\",\"Moritz Wagner\",\"Moses Brown\",\"Moses Brown\",\"Moses Brown\",\"Moses Moody\",\"Moses Wright\",\"Moses Wright\",\"Moses Wright\",\"Mychal Mulder\",\"Mychal Mulder\",\"Mychal Mulder\",\"Myles Powell\",\"Myles Turner\",\"Naji Marshall\",\"Nassir Little\",\"Nate Hinton\",\"Nathan Knight\",\"Naz Reid\",\"Neemias Queta\",\"Nemanja Bjelica\",\"Nerlens Noel\",\"Nic Claxton\",\"Nick Richards\",\"Nickeil Alexander-Walker\",\"Nickeil Alexander-Walker\",\"Nickeil Alexander-Walker\",\"Nicolas Batum\",\"Nik Stauskas\",\"Nik Stauskas\",\"Nik Stauskas\",\"Nikola Vu\\u010devi\\u0107\",\"Norman Powell\",\"Norman Powell\",\"Norman Powell\",\"Norvel Pelle\",\"Obi Toppin\",\"OG Anunoby\",\"Olivier Sarr\",\"Omer Yurtseven\",\"Onyeka Okongwu\",\"Oshae Brissett\",\"Otto Porter Jr.\",\"P.J. Tucker\",\"P.J. Washington\",\"Paris Bass\",\"Pascal Siakam\",\"Pat Connaughton\",\"Patrick Beverley\",\"Patrick Williams\",\"Patty Mills\",\"Paul George\",\"Paul Millsap\",\"Paul Millsap\",\"Paul Millsap\",\"Paul Reed\",\"Paul Watson\",\"Payton Pritchard\",\"Petr Cornelie\",\"PJ Dozier\",\"Precious Achiuwa\",\"Quentin Grimes\",\"Quinndary Weatherspoon\",\"R.J. Hampton\",\"Rajon Rondo\",\"Rajon Rondo\",\"Rajon Rondo\",\"Raul Neto\",\"Rayjon Tucker\",\"Rayjon Tucker\",\"Rayjon Tucker\",\"Reggie Bullock\",\"Reggie Jackson\",\"Reggie Perry\",\"Reggie Perry\",\"Reggie Perry\",\"Richaun Holmes\",\"Ricky Rubio\",\"RJ Barrett\",\"RJ Nembhard Jr.\",\"Rob Edwards\",\"Robert Covington\",\"Robert Covington\",\"Robert Covington\",\"Robert Williams\",\"Robert Woodard II\",\"Robin Lopez\",\"Rodney Hood\",\"Rodney Hood\",\"Rodney Hood\",\"Rodney McGruder\",\"Romeo Langford\",\"Romeo Langford\",\"Romeo Langford\",\"Royce O'Neale\",\"Rudy Gay\",\"Rui Hachimura\",\"Russell Westbrook\",\"Ryan Arcidiacono\",\"Saben Lee\",\"Saddiq Bey\",\"Sam Dekker\",\"Sam Hauser\",\"Sam Merrill\",\"Sandro Mamukelashvili\",\"Santi Aldama\",\"Scottie Barnes\",\"Scottie Lewis\",\"Scotty Hopson\",\"Sekou Doumbouya\",\"Semi Ojeleye\",\"Semi Ojeleye\",\"Semi Ojeleye\",\"Serge Ibaka\",\"Serge Ibaka\",\"Serge Ibaka\",\"Seth Curry\",\"Seth Curry\",\"Seth Curry\",\"Shai Gilgeous-Alexander\",\"Shake Milton\",\"Shaq Buchanan\",\"Shaquille Harrison\",\"Sharife Cooper\",\"Skylar Mays\",\"Solomon Hill\",\"Spencer Dinwiddie\",\"Spencer Dinwiddie\",\"Spencer Dinwiddie\",\"Stanley Johnson\",\"Sterling Brown\",\"Steven Adams\",\"Svi Mykhailiuk\",\"T.J. McConnell\",\"Tacko Fall\",\"Taj Gibson\",\"Talen Horton-Tucker\",\"Taurean Prince\",\"Terance Mann\",\"Terence Davis\",\"Terrence Ross\",\"Terry Rozier\",\"Terry Taylor\",\"Thaddeus Young\",\"Thaddeus Young\",\"Thaddeus Young\",\"Thanasis Antetokounmpo\",\"Th\\u00e9o Maledon\",\"Theo Pinson\",\"Thomas Bryant\",\"Tim Frazier\",\"Tim Frazier\",\"Tim Frazier\",\"Tim Hardaway Jr.\",\"Timoth\\u00e9 Luwawu-Cabarrot\",\"Tobias Harris\",\"Tom\\u00e1\\u0161 Satoransk\\u00fd\",\"Tom\\u00e1\\u0161 Satoransk\\u00fd\",\"Tom\\u00e1\\u0161 Satoransk\\u00fd\",\"Tom\\u00e1\\u0161 Satoransk\\u00fd\",\"Tony Bradley\",\"Tony Snell\",\"Tony Snell\",\"Tony Snell\",\"Torrey Craig\",\"Torrey Craig\",\"Torrey Craig\",\"Trayvon Palmer\",\"Tre Jones\",\"Tre Mann\",\"Tre Scott\",\"Tremont Waters\",\"Tremont Waters\",\"Tremont Waters\",\"Trendon Watford\",\"Trent Forrest\",\"Trevelin Queen\",\"Trevor Ariza\",\"Trey Burke\",\"Trey Lyles\",\"Trey Lyles\",\"Trey Lyles\",\"Trey Murphy III\",\"Tristan Thompson\",\"Tristan Thompson\",\"Tristan Thompson\",\"Tristan Thompson\",\"Troy Brown Jr.\",\"Ty Jerome\",\"Tyler Cook\",\"Tyler Hall\",\"Tyler Herro\",\"Tyler Johnson\",\"Tyler Johnson\",\"Tyler Johnson\",\"Tyrell Terry\",\"Tyrese Haliburton\",\"Tyrese Haliburton\",\"Tyrese Haliburton\",\"Tyrese Maxey\",\"Tyrone Wallace\",\"Tyus Jones\",\"Udoka Azubuike\",\"Udonis Haslem\",\"Usman Garuba\",\"Vernon Carey Jr.\",\"Vernon Carey Jr.\",\"Vernon Carey Jr.\",\"Victor Oladipo\",\"Vit Krejci\",\"Vlatko \\u010can\\u010dar\",\"Wayne Ellington\",\"Wayne Selden\",\"Wendell Carter Jr.\",\"Wenyen Gabriel\",\"Wenyen Gabriel\",\"Wenyen Gabriel\",\"Wenyen Gabriel\",\"Wes Iwundu\",\"Wesley Matthews\",\"Will Barton\",\"Willie Cauley-Stein\",\"Willie Cauley-Stein\",\"Willie Cauley-Stein\",\"Willy Hernang\\u00f3mez\",\"Xavier Moon\",\"Xavier Sneed\",\"Xavier Sneed\",\"Xavier Sneed\",\"Xavier Tillman Sr.\",\"Yuta Watanabe\",\"Yves Pons\",\"Zach Collins\",\"Zavier Simpson\",\"Zeke Nnaji\",\"Ziaire Williams\",\"Zylan Cheatham\"],\"x\":[15.0,0.3,6.3,6.1,6.8,3.8,8.3,2.4,0.0,3.8,2.0,10.2,11.7,2.8,7.6,7.4,6.0,3.5,1.8,1.8,1.3,2.3,9.6,9.0,7.9,6.1,11.8,4.0,17.3,23.2,21.3,4.1,0.0,5.3,6.2,2.6,0.0,7.3,6.0,6.4,8.8,6.5,19.1,10.2,5.8,6.4,4.3,14.6,15.1,18.1,2.4,10.1,3.6,3.5,7.0,23.2,6.7,10.4,4.8,22.7,6.4,12.9,7.2,1.0,8.6,1.8,12.4,9.0,2.9,1.0,6.9,8.8,9.1,8.6,15.6,14.4,18.2,0.0,17.4,9.2,10.1,11.9,6.1,8.5,12.5,4.7,11.5,10.8,17.0,18.7,13.6,0.8,0.7,1.0,13.3,5.8,5.8,2.0,0.0,10.7,0.7,3.0,1.4,0.7,1.5,6.2,1.0,9.7,3.7,8.9,9.4,2.0,13.1,2.6,0.0,2.9,17.9,8.6,5.8,22.1,20.5,24.3,11.1,12.7,7.7,5.2,16.3,16.0,8.2,8.0,2.0,5.3,5.4,5.3,7.5,18.1,3.2,1.0,3.2,8.1,24.0,7.4,2.0,9.4,3.0,8.2,8.4,7.9,11.7,5.9,5.9,4.8,0.0,6.8,0.7,10.8,1.3,4.7,0.0,5.1,11.5,5.6,5.7,5.3,4.4,6.2,23.2,13.4,10.8,5.3,17.2,4.3,4.1,4.6,5.1,5.8,0.8,1.0,0.0,4.4,9.0,9.1,8.9,8.4,13.5,14.4,10.9,5.6,2.9,2.9,2.5,5.3,5.6,12.0,6.3,13.2,14.4,11.0,18.2,10.0,12.3,2.6,3.1,11.9,6.3,3.9,0.0,5.0,18.4,18.9,18.9,18.9,9.0,7.2,10.3,11.0,11.3,7.7,4.7,14.5,9.9,10.9,6.2,8.7,2.2,0.9,3.0,3.5,3.1,3.8,0.0,1.5,3.7,9.9,13.4,5.8,1.8,14.1,15.0,5.1,0.0,10.6,10.6,4.1,15.2,2.3,7.6,8.7,4.0,2.6,3.3,5.2,10.0,2.7,11.1,7.1,18.3,6.2,0.3,9.2,6.6,1.8,17.5,7.0,7.5,8.0,7.3,15.9,3.5,7.8,11.1,4.7,5.4,7.3,4.0,5.4,4.0,11.0,16.4,8.2,6.3,2.3,9.5,5.0,11.3,0.8,8.8,8.3,8.3,3.6,6.4,10.1,8.3,8.4,9.3,6.0,8.3,1.7,6.3,4.5,8.6,2.4,10.3,4.4,9.2,1.0,9.4,11.8,3.2,0.0,2.4,13.5,16.3,17.3,2.4,6.2,9.2,6.0,13.4,11.8,4.6,4.1,2.5,10.0,1.3,5.5,3.8,6.4,0.0,3.8,7.4,16.3,6.9,3.5,0.7,9.2,0.0,7.2,3.0,2.4,5.0,9.3,0.0,2.7,23.6,14.7,0.7,8.5,0.0,2.1,1.5,0.0,3.3,10.3,2.0,19.2,7.5,7.3,7.1,7.9,2.2,4.2,3.6,5.6,4.9,11.3,7.2,2.0,2.1,0.3,16.2,4.8,0.0,17.8,9.3,0.0,16.0,0.0,3.8,7.9,18.5,1.3,6.1,7.9,12.5,4.8,14.9,13.4,19.9,6.4,7.1,4.3,2.7,10.2,9.7,11.4,5.8,18.3,2.0,4.1,3.3,1.1,1.4,6.2,20.1,6.4,4.3,6.8,2.3,10.1,11.0,8.3,2.1,2.0,2.2,3.1,2.8,0.7,5.6,5.7,4.2,10.7,15.0,2.5,5.0,0.0,1.0,5.6,5.7,5.7,6.3,0.0,17.0,3.1,9.1,15.0,11.6,7.4,3.4,13.2,8.8,7.2,3.5,9.7,5.9,12.1,3.1,3.6,2.7,13.6,1.6,15.6,6.0,4.5,6.9,3.3,5.9,20.4,7.6,20.2,19.2,22.1,7.6,3.9,17.1,13.4,27.4,3.7,6.1,12.9,8.3,1.8,9.3,8.3,2.0,3.0,0.7,7.0,6.9,7.3,14.8,1.4,4.2,8.0,12.1,13.0,6.3,4.5,17.2,5.8,11.9,2.0,2.0,0.0,2.2,0.0,4.0,2.0,6.0,4.3,19.1,3.8,5.7,3.4,12.1,1.4,0.9,1.9,13.8,8.0,4.3,1.1,15.4,12.1,10.8,7.6,1.9,4.1,4.5,11.3,9.3,14.6,6.8,6.5,5.7,0.0,3.0,4.0,4.6,10.6,7.0,1.0,10.7,4.0,9.9,14.2,13.7,8.0,20.2,2.2,8.5,0.3,10.6,12.6,13.1,14.1,11.4,9.0,4.3,3.1,6.4,4.4,1.3,0.0,1.7,4.1,3.7,7.0,1.2,12.9,5.7,9.8,0.0,3.7,8.3,3.2,6.1,3.4,8.7,3.0,10.6,12.8,3.5,8.3,2.3,5.5,1.2,17.6,19.0,18.7,21.4,2.0,9.0,17.1,7.0,5.3,8.2,9.1,8.2,7.6,10.3,3.0,22.8,9.9,9.2,9.0,11.4,24.3,3.5,3.4,3.7,3.1,3.4,6.2,1.1,5.4,9.1,6.0,2.7,7.6,4.8,3.1,6.2,7.5,4.2,2.0,7.5,8.6,16.8,9.2,10.0,2.0,10.4,13.1,20.0,1.1,1.5,8.5,7.6,10.4,10.0,0.6,7.1,3.1,3.3,2.6,5.4,4.5,4.7,2.8,7.4,8.1,11.3,18.5,1.6,5.6,16.1,0.0,2.5,4.2,3.8,4.1,15.3,0.5,4.0,7.0,3.3,2.9,4.1,6.8,6.6,7.0,15.0,15.0,14.9,24.5,8.2,1.0,2.0,0.5,2.9,0.6,13.7,12.6,15.8,6.7,3.3,6.9,4.6,8.5,1.1,4.4,10.0,7.3,10.8,10.4,10.0,19.3,9.6,6.2,6.1,6.3,3.6,7.1,2.5,7.4,3.3,3.7,1.0,14.2,4.4,17.2,3.6,2.8,3.0,4.9,3.0,3.5,2.6,5.9,6.6,6.5,6.9,0.0,6.0,10.4,3.0,3.3,4.0,2.0,7.6,3.3,4.3,4.0,5.1,10.5,10.4,10.6,5.4,6.0,6.2,7.3,5.7,4.3,7.1,3.4,0.0,20.7,2.8,3.7,2.0,1.0,15.3,14.3,17.5,17.5,2.8,8.7,4.7,2.5,2.0,2.9,2.0,4.0,12.4,6.2,4.1,6.7,1.7,15.0,5.4,0.0,2.3,6.7,7.3,5.1,14.7,1.7,1.9,0.0,9.1,5.8,0.6,0.0,0.7,4.8,4.3,1.1,7.8,11.0,6.6,8.1,0.0],\"y\":[2.5,0.0,2.4,1.9,3.4,0.4,1.4,0.5,0.0,0.7,0.0,3.4,3.0,0.4,2.1,4.0,1.2,0.3,0.4,0.5,0.0,0.3,2.6,1.8,1.8,2.0,1.4,3.7,3.9,3.1,3.8,0.6,1.0,1.1,1.2,1.0,0.0,1.8,1.3,0.8,3.3,0.0,3.4,0.9,0.6,1.9,0.1,1.2,3.1,1.7,0.4,2.8,2.4,2.2,7.0,6.6,1.0,1.3,2.5,5.6,1.6,3.9,1.0,0.5,1.1,0.9,0.5,2.1,0.2,0.2,0.3,1.0,1.0,1.0,2.8,1.9,4.8,0.0,5.6,1.1,1.0,1.1,0.7,1.2,1.5,1.0,1.5,4.9,4.3,4.4,3.9,1.0,1.7,0.0,1.0,3.5,0.4,1.0,1.0,2.0,0.3,0.3,0.3,0.3,0.3,0.8,0.0,1.3,0.0,1.0,0.3,1.9,2.1,0.7,0.0,0.8,2.3,1.7,1.5,5.1,4.5,5.8,1.2,2.9,2.5,0.8,5.7,2.1,1.1,3.6,0.3,1.9,2.2,1.6,1.3,7.1,1.7,0.2,1.5,1.2,7.3,1.0,0.5,0.9,0.0,0.9,0.8,1.0,1.5,1.0,1.0,1.2,0.0,1.0,0.3,1.4,0.7,0.8,0.0,0.8,4.2,0.6,0.5,0.7,1.1,0.5,5.6,1.3,2.7,1.0,1.4,0.4,0.4,0.5,1.2,1.3,0.8,0.3,0.0,2.4,1.5,1.1,1.7,2.0,4.6,4.2,5.9,3.6,0.5,0.5,0.0,0.6,0.6,4.0,7.0,4.9,5.6,3.5,2.7,2.0,1.9,1.4,0.4,4.2,0.7,0.6,0.5,0.6,2.8,5.2,5.0,5.8,2.8,1.7,3.6,1.9,1.3,1.2,1.0,1.6,1.8,1.6,0.6,1.2,0.7,0.2,2.0,0.6,0.4,0.7,0.7,2.0,0.2,4.2,2.7,0.6,0.5,2.1,2.5,3.4,0.5,1.0,1.4,1.2,2.9,0.6,1.9,3.1,2.0,0.7,2.8,1.3,1.0,0.5,1.8,0.9,2.0,2.2,0.0,1.3,0.9,0.0,3.0,1.1,4.1,1.8,4.8,3.6,0.8,1.0,1.5,0.7,1.6,4.0,0.5,0.4,1.0,1.3,2.4,0.4,2.5,0.3,2.1,0.9,3.5,0.3,1.8,2.4,0.3,0.6,1.1,1.6,1.2,1.5,1.5,4.0,1.4,0.3,3.8,2.6,5.2,0.3,1.6,0.5,1.1,0.0,1.9,2.8,0.4,0.0,0.3,2.8,4.8,2.6,0.1,1.1,0.5,0.2,0.8,4.4,0.8,0.4,0.0,0.0,1.0,2.1,0.5,0.9,0.5,1.5,2.8,1.1,1.3,0.9,0.3,0.6,0.0,0.9,0.9,1.1,0.5,0.6,0.3,0.4,3.5,2.4,0.7,2.1,1.0,1.1,0.8,0.0,1.8,1.3,0.0,2.4,1.0,1.4,1.3,1.8,0.5,1.5,1.0,2.5,0.8,1.0,3.5,0.0,0.3,0.6,1.8,1.5,0.3,2.6,0.9,0.0,2.5,0.0,2.9,1.0,4.0,0.0,2.8,2.0,6.4,1.2,4.1,4.1,4.3,1.1,1.3,0.4,0.5,1.8,1.5,2.3,1.6,6.8,0.6,1.7,0.5,0.2,0.6,0.8,5.1,2.1,2.0,2.1,0.3,1.7,1.8,1.5,0.3,0.0,0.3,1.3,1.2,0.7,1.8,1.8,1.4,2.9,2.8,0.5,1.0,0.0,0.2,1.9,0.7,0.7,0.8,0.0,2.1,0.6,2.8,1.1,3.5,2.2,0.9,1.9,1.3,2.1,0.9,2.9,0.6,2.7,0.3,0.2,0.4,2.2,1.3,6.2,2.0,1.0,4.2,0.6,2.0,2.8,5.6,2.3,2.0,2.9,2.7,0.9,3.5,7.5,5.8,0.7,0.7,0.9,3.6,1.8,3.9,1.6,1.7,1.3,2.3,1.8,2.0,0.9,1.3,0.6,1.2,1.0,2.2,5.1,1.9,0.9,1.7,0.6,2.1,0.6,0.5,0.0,0.7,0.5,0.5,0.0,1.0,1.6,5.9,0.4,0.3,0.4,1.5,0.3,0.0,0.6,2.9,1.0,0.2,0.6,2.1,5.9,5.5,1.4,0.0,0.2,0.5,0.8,0.6,1.1,1.0,3.1,1.1,0.0,0.0,0.5,0.5,1.4,1.2,0.6,0.3,0.0,1.9,2.3,5.3,0.5,3.8,1.0,0.5,0.3,1.2,4.4,2.0,2.1,2.0,1.4,0.0,0.0,0.0,0.4,0.5,1.0,0.3,0.3,0.2,1.0,0.3,1.0,1.1,1.3,0.0,0.6,0.9,0.4,2.2,0.9,0.9,0.3,2.4,2.8,1.1,1.7,0.3,0.5,0.2,3.2,2.1,2.1,2.8,0.0,1.1,2.6,0.9,0.9,1.1,1.1,1.5,2.1,2.3,0.0,5.3,1.3,4.6,0.9,2.3,5.7,0.9,1.0,0.6,0.4,0.9,2.0,0.2,1.6,1.1,1.0,0.5,2.5,4.4,3.7,4.9,3.1,2.0,1.3,3.0,1.2,4.8,1.2,1.3,0.0,1.1,6.6,3.0,0.9,0.0,1.3,1.4,1.0,2.0,0.3,1.5,0.7,0.8,0.6,0.9,0.4,0.4,0.5,2.5,1.0,1.1,7.1,0.4,2.9,2.8,0.0,0.4,0.7,0.5,0.7,3.5,0.5,1.0,0.0,0.3,0.3,0.4,0.9,1.0,0.7,3.6,4.0,2.6,5.9,2.5,1.0,1.5,0.4,0.6,0.9,5.2,5.8,3.9,1.7,0.7,3.4,0.8,4.9,0.2,0.6,2.7,1.0,2.6,1.3,1.8,4.5,1.2,2.0,2.3,1.7,0.5,2.2,0.9,0.9,2.8,3.3,0.5,2.2,0.8,3.5,3.3,2.4,0.0,4.9,0.5,0.5,0.5,0.5,1.2,1.1,1.2,0.0,3.4,1.5,0.0,2.3,3.5,0.0,1.7,1.8,0.4,1.1,1.4,1.2,1.1,1.3,0.6,0.6,0.6,0.5,0.6,1.0,2.3,0.2,0.0,4.0,1.2,0.7,1.7,0.0,8.2,7.4,9.6,4.3,0.2,4.4,0.0,0.3,0.7,0.0,0.0,0.0,3.5,1.9,1.1,0.7,0.3,2.8,0.5,0.0,0.3,0.6,0.0,0.7,3.9,0.5,0.5,0.5,1.3,2.4,0.1,0.0,0.1,1.2,0.6,0.1,2.2,7.5,0.4,1.0,0.0],\"z\":[5.9,0.2,1.9,1.6,2.5,1.7,3.6,1.9,0.0,2.3,0.0,7.7,4.9,3.0,5.2,3.6,4.1,1.9,2.7,2.3,4.0,3.3,5.5,2.9,9.3,8.8,10.3,3.2,2.6,9.9,4.8,1.9,0.5,1.9,2.0,1.7,0.0,3.2,1.7,2.2,2.8,3.8,10.1,1.6,4.6,4.1,1.7,9.1,4.0,4.3,1.4,2.7,1.7,1.6,4.0,4.7,2.2,5.3,1.9,5.8,1.6,3.1,4.5,1.0,5.3,0.8,4.1,4.8,1.8,0.8,4.0,1.2,1.6,0.9,4.4,4.0,5.1,0.0,5.5,3.8,2.1,2.5,1.4,2.4,4.1,5.0,3.0,3.0,3.7,3.8,3.4,0.6,1.0,0.0,4.2,1.5,2.1,0.1,1.0,2.2,0.8,2.7,1.5,0.3,1.6,3.2,1.0,4.7,4.0,5.6,6.2,1.1,4.1,3.6,1.0,3.9,10.1,5.0,3.9,4.3,4.3,4.5,11.9,3.0,4.0,4.6,5.4,3.3,2.7,2.7,0.0,1.2,1.2,1.3,4.0,3.3,1.4,0.3,1.9,4.4,4.1,3.2,1.0,5.7,1.7,4.9,5.0,4.7,4.7,2.5,2.6,2.7,0.0,2.7,0.7,6.3,1.3,3.0,0.0,3.3,2.2,2.1,1.8,2.5,2.3,5.0,3.9,3.3,4.5,2.9,10.2,5.5,5.4,5.8,2.9,3.2,1.4,2.0,0.0,2.9,5.6,5.8,5.5,5.2,3.3,3.3,3.3,2.4,1.8,1.7,2.0,4.7,3.3,3.0,3.3,3.5,3.5,3.4,4.4,1.2,4.3,0.8,2.8,2.3,5.8,1.9,1.0,2.1,3.2,12.1,12.1,12.3,4.0,3.5,4.4,4.7,2.3,5.4,4.0,8.5,1.7,2.6,5.9,4.9,1.8,2.1,1.8,1.6,1.2,1.9,5.0,0.0,4.6,3.4,2.0,1.8,1.8,2.6,8.3,1.8,0.5,1.6,4.6,1.4,4.5,4.0,2.6,1.9,1.0,0.9,1.8,2.4,2.9,2.4,2.0,3.5,2.7,2.9,1.3,2.7,1.6,0.9,3.3,3.5,3.1,2.8,3.2,4.6,2.8,3.6,3.4,2.8,4.6,6.0,5.0,4.2,3.0,4.8,5.6,7.6,2.6,1.4,3.8,1.7,3.2,0.5,3.0,4.9,4.1,1.0,3.0,4.8,8.7,1.3,2.0,0.0,1.2,1.0,2.2,1.5,3.0,1.2,8.5,2.3,4.2,1.0,5.3,5.4,0.7,0.0,1.1,9.3,3.9,3.4,1.2,3.1,6.0,4.8,7.6,3.6,1.7,1.7,2.5,2.5,0.7,3.5,2.5,4.2,0.0,1.1,0.4,5.8,8.4,1.3,1.0,6.7,1.0,4.2,1.4,1.5,1.3,4.5,1.0,0.9,6.1,12.0,0.7,2.0,1.0,2.0,1.8,0.0,2.8,3.1,1.5,4.1,5.6,2.8,2.4,3.5,4.1,1.7,1.5,2.2,2.6,4.0,2.9,0.0,0.5,0.4,7.8,4.6,0.7,11.4,3.3,1.0,3.5,0.5,1.5,3.6,3.4,2.0,1.9,2.5,7.8,2.4,7.2,7.8,5.4,2.8,3.2,1.5,1.4,2.8,2.8,2.9,2.3,4.5,1.3,2.4,2.5,1.4,3.0,3.5,9.9,2.9,2.0,3.1,2.0,2.6,2.8,2.2,1.0,0.0,1.2,0.8,0.8,0.3,1.4,4.2,3.6,6.3,11.1,2.0,4.0,0.0,0.5,1.4,3.9,1.8,2.0,0.7,6.1,1.5,4.4,4.0,3.0,4.5,1.8,3.4,3.8,2.2,1.4,2.7,3.6,3.4,1.5,1.7,1.3,7.2,0.5,4.4,7.3,4.3,3.2,1.7,1.6,3.9,3.5,8.1,7.7,8.8,5.3,0.9,8.5,4.5,4.4,2.0,2.6,5.5,2.8,2.5,2.8,1.8,2.6,2.0,3.3,5.4,5.6,4.3,5.7,1.2,1.3,2.9,2.6,5.4,1.6,1.2,4.2,3.1,3.3,1.9,1.5,1.0,2.1,0.5,1.5,0.0,3.0,1.4,5.1,1.8,2.0,1.8,2.9,1.1,1.4,0.9,3.4,1.0,4.5,1.9,4.4,3.8,2.7,2.6,1.1,0.4,3.0,7.0,7.2,6.8,2.5,7.7,2.3,0.0,0.0,1.3,2.4,3.0,5.9,0.0,4.3,3.0,6.6,4.2,3.0,3.0,7.0,1.1,8.6,0.4,8.1,3.0,6.1,6.7,4.9,3.7,3.4,2.3,5.3,1.5,0.8,0.0,1.0,1.4,1.4,1.5,0.5,7.1,2.6,5.6,0.0,2.3,3.9,2.2,4.1,5.6,5.6,1.7,2.9,3.3,1.5,4.3,0.4,1.5,0.0,11.0,3.2,3.3,2.8,2.0,3.7,5.5,4.2,5.3,5.9,5.3,5.7,5.5,5.2,2.0,8.5,4.2,4.1,4.1,1.9,6.9,3.5,3.7,2.8,2.4,3.0,1.9,1.1,3.5,6.5,2.0,1.3,3.0,2.8,2.7,2.8,1.9,1.6,1.3,2.0,3.5,3.6,4.7,5.1,1.0,7.0,4.1,5.8,0.5,1.5,5.5,5.7,5.1,9.6,0.9,3.5,1.5,1.7,0.8,2.2,2.3,2.4,1.0,4.8,4.4,3.8,7.4,0.8,2.4,5.4,0.0,1.1,1.2,2.0,2.7,7.5,0.0,1.0,3.0,2.5,2.9,1.6,4.6,4.3,5.3,3.1,3.4,2.6,5.0,2.6,1.0,2.0,0.4,0.9,1.8,4.2,4.7,3.1,3.2,3.0,10.0,1.6,3.3,2.1,4.4,3.2,2.5,5.2,3.1,2.6,4.3,5.2,4.0,3.6,4.4,2.1,2.6,1.1,4.0,1.6,1.9,0.0,3.7,1.6,6.8,2.3,2.0,1.0,2.8,3.4,1.9,1.9,2.1,4.0,3.8,4.3,2.0,2.2,2.9,1.0,1.3,2.0,0.0,4.1,1.7,1.6,3.4,0.8,5.1,4.8,5.6,2.4,5.1,5.4,4.5,4.7,3.1,1.6,2.7,0.0,5.0,2.0,2.0,2.0,0.0,4.0,3.9,4.3,3.2,1.3,2.4,4.2,1.9,3.5,1.7,1.3,2.3,2.9,3.4,2.1,1.8,0.3,10.5,3.7,1.0,2.3,4.3,4.3,1.9,4.8,2.0,2.1,1.0,6.8,1.4,0.7,1.0,0.6,3.0,2.4,1.0,5.5,5.3,3.6,2.1,0.0],\"type\":\"scatter3d\"}],                        {\"template\":{\"data\":{\"histogram2dcontour\":[{\"type\":\"histogram2dcontour\",\"colorbar\":{\"outlinewidth\":0,\"ticks\":\"\"},\"colorscale\":[[0.0,\"#0d0887\"],[0.1111111111111111,\"#46039f\"],[0.2222222222222222,\"#7201a8\"],[0.3333333333333333,\"#9c179e\"],[0.4444444444444444,\"#bd3786\"],[0.5555555555555556,\"#d8576b\"],[0.6666666666666666,\"#ed7953\"],[0.7777777777777778,\"#fb9f3a\"],[0.8888888888888888,\"#fdca26\"],[1.0,\"#f0f921\"]]}],\"choropleth\":[{\"type\":\"choropleth\",\"colorbar\":{\"outlinewidth\":0,\"ticks\":\"\"}}],\"histogram2d\":[{\"type\":\"histogram2d\",\"colorbar\":{\"outlinewidth\":0,\"ticks\":\"\"},\"colorscale\":[[0.0,\"#0d0887\"],[0.1111111111111111,\"#46039f\"],[0.2222222222222222,\"#7201a8\"],[0.3333333333333333,\"#9c179e\"],[0.4444444444444444,\"#bd3786\"],[0.5555555555555556,\"#d8576b\"],[0.6666666666666666,\"#ed7953\"],[0.7777777777777778,\"#fb9f3a\"],[0.8888888888888888,\"#fdca26\"],[1.0,\"#f0f921\"]]}],\"heatmap\":[{\"type\":\"heatmap\",\"colorbar\":{\"outlinewidth\":0,\"ticks\":\"\"},\"colorscale\":[[0.0,\"#0d0887\"],[0.1111111111111111,\"#46039f\"],[0.2222222222222222,\"#7201a8\"],[0.3333333333333333,\"#9c179e\"],[0.4444444444444444,\"#bd3786\"],[0.5555555555555556,\"#d8576b\"],[0.6666666666666666,\"#ed7953\"],[0.7777777777777778,\"#fb9f3a\"],[0.8888888888888888,\"#fdca26\"],[1.0,\"#f0f921\"]]}],\"heatmapgl\":[{\"type\":\"heatmapgl\",\"colorbar\":{\"outlinewidth\":0,\"ticks\":\"\"},\"colorscale\":[[0.0,\"#0d0887\"],[0.1111111111111111,\"#46039f\"],[0.2222222222222222,\"#7201a8\"],[0.3333333333333333,\"#9c179e\"],[0.4444444444444444,\"#bd3786\"],[0.5555555555555556,\"#d8576b\"],[0.6666666666666666,\"#ed7953\"],[0.7777777777777778,\"#fb9f3a\"],[0.8888888888888888,\"#fdca26\"],[1.0,\"#f0f921\"]]}],\"contourcarpet\":[{\"type\":\"contourcarpet\",\"colorbar\":{\"outlinewidth\":0,\"ticks\":\"\"}}],\"contour\":[{\"type\":\"contour\",\"colorbar\":{\"outlinewidth\":0,\"ticks\":\"\"},\"colorscale\":[[0.0,\"#0d0887\"],[0.1111111111111111,\"#46039f\"],[0.2222222222222222,\"#7201a8\"],[0.3333333333333333,\"#9c179e\"],[0.4444444444444444,\"#bd3786\"],[0.5555555555555556,\"#d8576b\"],[0.6666666666666666,\"#ed7953\"],[0.7777777777777778,\"#fb9f3a\"],[0.8888888888888888,\"#fdca26\"],[1.0,\"#f0f921\"]]}],\"surface\":[{\"type\":\"surface\",\"colorbar\":{\"outlinewidth\":0,\"ticks\":\"\"},\"colorscale\":[[0.0,\"#0d0887\"],[0.1111111111111111,\"#46039f\"],[0.2222222222222222,\"#7201a8\"],[0.3333333333333333,\"#9c179e\"],[0.4444444444444444,\"#bd3786\"],[0.5555555555555556,\"#d8576b\"],[0.6666666666666666,\"#ed7953\"],[0.7777777777777778,\"#fb9f3a\"],[0.8888888888888888,\"#fdca26\"],[1.0,\"#f0f921\"]]}],\"mesh3d\":[{\"type\":\"mesh3d\",\"colorbar\":{\"outlinewidth\":0,\"ticks\":\"\"}}],\"scatter\":[{\"fillpattern\":{\"fillmode\":\"overlay\",\"size\":10,\"solidity\":0.2},\"type\":\"scatter\"}],\"parcoords\":[{\"type\":\"parcoords\",\"line\":{\"colorbar\":{\"outlinewidth\":0,\"ticks\":\"\"}}}],\"scatterpolargl\":[{\"type\":\"scatterpolargl\",\"marker\":{\"colorbar\":{\"outlinewidth\":0,\"ticks\":\"\"}}}],\"bar\":[{\"error_x\":{\"color\":\"#2a3f5f\"},\"error_y\":{\"color\":\"#2a3f5f\"},\"marker\":{\"line\":{\"color\":\"#E5ECF6\",\"width\":0.5},\"pattern\":{\"fillmode\":\"overlay\",\"size\":10,\"solidity\":0.2}},\"type\":\"bar\"}],\"scattergeo\":[{\"type\":\"scattergeo\",\"marker\":{\"colorbar\":{\"outlinewidth\":0,\"ticks\":\"\"}}}],\"scatterpolar\":[{\"type\":\"scatterpolar\",\"marker\":{\"colorbar\":{\"outlinewidth\":0,\"ticks\":\"\"}}}],\"histogram\":[{\"marker\":{\"pattern\":{\"fillmode\":\"overlay\",\"size\":10,\"solidity\":0.2}},\"type\":\"histogram\"}],\"scattergl\":[{\"type\":\"scattergl\",\"marker\":{\"colorbar\":{\"outlinewidth\":0,\"ticks\":\"\"}}}],\"scatter3d\":[{\"type\":\"scatter3d\",\"line\":{\"colorbar\":{\"outlinewidth\":0,\"ticks\":\"\"}},\"marker\":{\"colorbar\":{\"outlinewidth\":0,\"ticks\":\"\"}}}],\"scattermapbox\":[{\"type\":\"scattermapbox\",\"marker\":{\"colorbar\":{\"outlinewidth\":0,\"ticks\":\"\"}}}],\"scatterternary\":[{\"type\":\"scatterternary\",\"marker\":{\"colorbar\":{\"outlinewidth\":0,\"ticks\":\"\"}}}],\"scattercarpet\":[{\"type\":\"scattercarpet\",\"marker\":{\"colorbar\":{\"outlinewidth\":0,\"ticks\":\"\"}}}],\"carpet\":[{\"aaxis\":{\"endlinecolor\":\"#2a3f5f\",\"gridcolor\":\"white\",\"linecolor\":\"white\",\"minorgridcolor\":\"white\",\"startlinecolor\":\"#2a3f5f\"},\"baxis\":{\"endlinecolor\":\"#2a3f5f\",\"gridcolor\":\"white\",\"linecolor\":\"white\",\"minorgridcolor\":\"white\",\"startlinecolor\":\"#2a3f5f\"},\"type\":\"carpet\"}],\"table\":[{\"cells\":{\"fill\":{\"color\":\"#EBF0F8\"},\"line\":{\"color\":\"white\"}},\"header\":{\"fill\":{\"color\":\"#C8D4E3\"},\"line\":{\"color\":\"white\"}},\"type\":\"table\"}],\"barpolar\":[{\"marker\":{\"line\":{\"color\":\"#E5ECF6\",\"width\":0.5},\"pattern\":{\"fillmode\":\"overlay\",\"size\":10,\"solidity\":0.2}},\"type\":\"barpolar\"}],\"pie\":[{\"automargin\":true,\"type\":\"pie\"}]},\"layout\":{\"autotypenumbers\":\"strict\",\"colorway\":[\"#636efa\",\"#EF553B\",\"#00cc96\",\"#ab63fa\",\"#FFA15A\",\"#19d3f3\",\"#FF6692\",\"#B6E880\",\"#FF97FF\",\"#FECB52\"],\"font\":{\"color\":\"#2a3f5f\"},\"hovermode\":\"closest\",\"hoverlabel\":{\"align\":\"left\"},\"paper_bgcolor\":\"white\",\"plot_bgcolor\":\"#E5ECF6\",\"polar\":{\"bgcolor\":\"#E5ECF6\",\"angularaxis\":{\"gridcolor\":\"white\",\"linecolor\":\"white\",\"ticks\":\"\"},\"radialaxis\":{\"gridcolor\":\"white\",\"linecolor\":\"white\",\"ticks\":\"\"}},\"ternary\":{\"bgcolor\":\"#E5ECF6\",\"aaxis\":{\"gridcolor\":\"white\",\"linecolor\":\"white\",\"ticks\":\"\"},\"baxis\":{\"gridcolor\":\"white\",\"linecolor\":\"white\",\"ticks\":\"\"},\"caxis\":{\"gridcolor\":\"white\",\"linecolor\":\"white\",\"ticks\":\"\"}},\"coloraxis\":{\"colorbar\":{\"outlinewidth\":0,\"ticks\":\"\"}},\"colorscale\":{\"sequential\":[[0.0,\"#0d0887\"],[0.1111111111111111,\"#46039f\"],[0.2222222222222222,\"#7201a8\"],[0.3333333333333333,\"#9c179e\"],[0.4444444444444444,\"#bd3786\"],[0.5555555555555556,\"#d8576b\"],[0.6666666666666666,\"#ed7953\"],[0.7777777777777778,\"#fb9f3a\"],[0.8888888888888888,\"#fdca26\"],[1.0,\"#f0f921\"]],\"sequentialminus\":[[0.0,\"#0d0887\"],[0.1111111111111111,\"#46039f\"],[0.2222222222222222,\"#7201a8\"],[0.3333333333333333,\"#9c179e\"],[0.4444444444444444,\"#bd3786\"],[0.5555555555555556,\"#d8576b\"],[0.6666666666666666,\"#ed7953\"],[0.7777777777777778,\"#fb9f3a\"],[0.8888888888888888,\"#fdca26\"],[1.0,\"#f0f921\"]],\"diverging\":[[0,\"#8e0152\"],[0.1,\"#c51b7d\"],[0.2,\"#de77ae\"],[0.3,\"#f1b6da\"],[0.4,\"#fde0ef\"],[0.5,\"#f7f7f7\"],[0.6,\"#e6f5d0\"],[0.7,\"#b8e186\"],[0.8,\"#7fbc41\"],[0.9,\"#4d9221\"],[1,\"#276419\"]]},\"xaxis\":{\"gridcolor\":\"white\",\"linecolor\":\"white\",\"ticks\":\"\",\"title\":{\"standoff\":15},\"zerolinecolor\":\"white\",\"automargin\":true,\"zerolinewidth\":2},\"yaxis\":{\"gridcolor\":\"white\",\"linecolor\":\"white\",\"ticks\":\"\",\"title\":{\"standoff\":15},\"zerolinecolor\":\"white\",\"automargin\":true,\"zerolinewidth\":2},\"scene\":{\"xaxis\":{\"backgroundcolor\":\"#E5ECF6\",\"gridcolor\":\"white\",\"linecolor\":\"white\",\"showbackground\":true,\"ticks\":\"\",\"zerolinecolor\":\"white\",\"gridwidth\":2},\"yaxis\":{\"backgroundcolor\":\"#E5ECF6\",\"gridcolor\":\"white\",\"linecolor\":\"white\",\"showbackground\":true,\"ticks\":\"\",\"zerolinecolor\":\"white\",\"gridwidth\":2},\"zaxis\":{\"backgroundcolor\":\"#E5ECF6\",\"gridcolor\":\"white\",\"linecolor\":\"white\",\"showbackground\":true,\"ticks\":\"\",\"zerolinecolor\":\"white\",\"gridwidth\":2}},\"shapedefaults\":{\"line\":{\"color\":\"#2a3f5f\"}},\"annotationdefaults\":{\"arrowcolor\":\"#2a3f5f\",\"arrowhead\":0,\"arrowwidth\":1},\"geo\":{\"bgcolor\":\"white\",\"landcolor\":\"#E5ECF6\",\"subunitcolor\":\"white\",\"showland\":true,\"showlakes\":true,\"lakecolor\":\"white\"},\"title\":{\"x\":0.05},\"mapbox\":{\"style\":\"light\"}}}},                        {\"responsive\": true}                    ).then(function(){\n",
       "                            \n",
       "var gd = document.getElementById('6fbe0253-ba3a-4342-ab74-22092a155bcd');\n",
       "var x = new MutationObserver(function (mutations, observer) {{\n",
       "        var display = window.getComputedStyle(gd).display;\n",
       "        if (!display || display === 'none') {{\n",
       "            console.log([gd, 'removed!']);\n",
       "            Plotly.purge(gd);\n",
       "            observer.disconnect();\n",
       "        }}\n",
       "}});\n",
       "\n",
       "// Listen for the removal of the full notebook cells\n",
       "var notebookContainer = gd.closest('#notebook-container');\n",
       "if (notebookContainer) {{\n",
       "    x.observe(notebookContainer, {childList: true});\n",
       "}}\n",
       "\n",
       "// Listen for the clearing of the current output cell\n",
       "var outputEl = gd.closest('.output');\n",
       "if (outputEl) {{\n",
       "    x.observe(outputEl, {childList: true});\n",
       "}}\n",
       "\n",
       "                        })                };                });            </script>        </div>"
      ]
     },
     "metadata": {},
     "output_type": "display_data"
    }
   ],
   "source": [
    "allstar_2022 = allstar_selections_data[allstar_selections_data[\"season\"] == 2022]\n",
    "allstar_2022_list = allstar_2022[\"player\"].tolist()\n",
    "allstar_2023 = allstar_selections_data[allstar_selections_data[\"season\"] == 2023]\n",
    "allstar_2023_list = allstar_2023[\"player\"].tolist()\n",
    "player_per_game_data = pd.read_csv(\"Player Per Game.csv\")\n",
    "allstar_2022_player_data = player_per_game_data[player_per_game_data[\"season\"] == 2022]\n",
    "not_allstar_2022_player_data = allstar_2022_player_data.loc[~allstar_2022_player_data[\"player\"].isin(allstar_2022_list)]\n",
    "allstar_2022_player_data = allstar_2022_player_data.loc[allstar_2022_player_data[\"player\"].isin(allstar_2022_list)]\n",
    "allstar_2023_player_data = player_per_game_data[player_per_game_data[\"season\"] == 2023]\n",
    "not_allstar_2023_player_data = allstar_2023_player_data.loc[~allstar_2023_player_data[\"player\"].isin(allstar_2023_list)]\n",
    "allstar_2023_player_data = allstar_2023_player_data.loc[allstar_2023_player_data[\"player\"].isin(allstar_2023_list)]\n",
    "allstar_2023_player_data = allstar_2023_player_data[[\"season\", \"player\", \"pos\", \"pts_per_game\", \"ast_per_game\", \"trb_per_game\"]]\n",
    "allstar_2022_player_data = allstar_2022_player_data[[\"season\", \"player\", \"pos\", \"pts_per_game\", \"ast_per_game\", \"trb_per_game\"]]\n",
    "fig = go.Figure()\n",
    "fig.add_trace(go.Scatter3d(x=allstar_2022_player_data['pts_per_game'], y=allstar_2022_player_data['ast_per_game'], z=allstar_2022_player_data['trb_per_game'],\n",
    "                                   mode='markers', text=allstar_2022_player_data['player'], name='all-stars'))\n",
    "fig.add_trace(go.Scatter3d(x=not_allstar_2022_player_data['pts_per_game'], y=not_allstar_2022_player_data['ast_per_game'], z=not_allstar_2022_player_data['trb_per_game'],\n",
    "                                   mode='markers', text=not_allstar_2022_player_data['player'], name='non-all-stars'))\n",
    "fig.show()"
   ]
  },
  {
   "cell_type": "markdown",
   "id": "25462910-2013-4aaa-9635-6ff659039c5b",
   "metadata": {},
   "source": [
    "## KNN Classifier test with all data\n",
    "First, we will train a K-Nearest-Neighbors model on data from 1951-2023 and test it on a subset of this data."
   ]
  },
  {
   "cell_type": "code",
   "execution_count": 34,
   "id": "c395e384-d9fb-422f-9c55-64b948d88bf6",
   "metadata": {},
   "outputs": [
    {
     "name": "stdout",
     "output_type": "stream",
     "text": [
      "Number of neighbors:  3\n",
      "Train data accuracy: 0.9732741156303568\n",
      "Test data accuracy: 0.9504518541601745\n",
      "Test Accuracy: 0.9504518541601745\n",
      "Test Precision: 0.7083333333333334\n",
      "Test Recall: 0.5690376569037657\n"
     ]
    }
   ],
   "source": [
    "# for n in range(1,10):\n",
    "#     X_train, X_test, y_train, y_test = generate_train_test_data()\n",
    "#     knn = KNeighborsClassifier(n_neighbors = n)\n",
    "#     knn.fit(X_train,y_train)\n",
    "#     print(\"Number of neighbors: \", n)\n",
    "#     print(\"Train data results:\", knn.score(X_train, y_train))\n",
    "#     print(\"Test data results:\", knn.score(X_test, y_test))\n",
    "#     print()\n",
    "# 3 typically yielded the best results\n",
    "X_train, X_test, y_train, y_test = generate_train_test_data()\n",
    "knn = KNeighborsClassifier(n_neighbors = 3)\n",
    "knn.fit(X_train,y_train)\n",
    "print(\"Number of neighbors: \", 3)\n",
    "print(\"Train data accuracy:\", knn.score(X_train, y_train))\n",
    "print(\"Test data accuracy:\", knn.score(X_test, y_test))\n",
    "y_pred = knn.predict(X_test)\n",
    "print(\"Test Accuracy:\", accuracy_score(y_test, y_pred))\n",
    "print(\"Test Precision:\", precision_score(y_test, y_pred))\n",
    "print(\"Test Recall:\", recall_score(y_test, y_pred))"
   ]
  },
  {
   "cell_type": "markdown",
   "id": "c55d640f-5548-4e57-a08e-89156915dcda",
   "metadata": {},
   "source": [
    "## KNN Classifier before fans voted (1951 to 1974)\n",
    "Fan voting for all stars was introduced in 1974. Here, we will look at how well we can train a model on what should be \"less subjective\" all stars. Observe the problem of overfitting here. This is in part because of a much smaller sample size."
   ]
  },
  {
   "cell_type": "code",
   "execution_count": 60,
   "id": "0ef818bf-2336-419d-bcfb-69e3eb569e11",
   "metadata": {},
   "outputs": [
    {
     "name": "stdout",
     "output_type": "stream",
     "text": [
      "Number of neighbors:  3\n",
      "Train data results: 1.0\n",
      "Test data results: 0.6666666666666666\n",
      "Test Accuracy: 0.6666666666666666\n",
      "Test Precision: 1.0\n",
      "Test Recall: 0.5\n"
     ]
    }
   ],
   "source": [
    "X_train, X_test, y_train, y_test = generate_train_test_data(\"1951.1974\")\n",
    "knn = KNeighborsClassifier(n_neighbors = 3)\n",
    "knn.fit(X_train,y_train)\n",
    "print(\"Number of neighbors: \", 3)\n",
    "print(\"Train data results:\", knn.score(X_train, y_train))\n",
    "print(\"Test data results:\", knn.score(X_test, y_test))\n",
    "y_pred = knn.predict(X_test)\n",
    "print(\"Test Accuracy:\", accuracy_score(y_test, y_pred))\n",
    "print(\"Test Precision:\", precision_score(y_test, y_pred))\n",
    "print(\"Test Recall:\", recall_score(y_test, y_pred))"
   ]
  },
  {
   "cell_type": "markdown",
   "id": "464e6558-cd4c-498d-afd6-54c378936054",
   "metadata": {},
   "source": [
    "## KNN Classifier after fans voted (1974 to Present)\n",
    "Here, we look at how well a model performs on data from after fan voting was introduced. Theoretically, you might expect subjective fan voting to be volatile and therefore the model will not perform well. However, this is not the case in our experiment. Accuracy has increased but likely due to an increase in data and more correct non-allstars classified"
   ]
  },
  {
   "cell_type": "code",
   "execution_count": 61,
   "id": "bbd6f862-7fce-440a-85f9-7aec801db5e8",
   "metadata": {},
   "outputs": [
    {
     "name": "stdout",
     "output_type": "stream",
     "text": [
      "Number of neighbors:  3\n",
      "Train data results: 0.971909207984546\n",
      "Test data results: 0.9571796522858983\n",
      "Test Accuracy: 0.9571796522858983\n",
      "Test Precision: 0.757396449704142\n",
      "Test Recall: 0.5818181818181818\n"
     ]
    }
   ],
   "source": [
    "X_train, X_test, y_train, y_test = generate_train_test_data(\"1974.2023\")\n",
    "knn = KNeighborsClassifier(n_neighbors = 3)\n",
    "knn.fit(X_train,y_train)\n",
    "print(\"Number of neighbors: \", 3)\n",
    "print(\"Train data results:\", knn.score(X_train, y_train))\n",
    "print(\"Test data results:\", knn.score(X_test, y_test))\n",
    "y_pred = knn.predict(X_test)\n",
    "print(\"Test Accuracy:\", accuracy_score(y_test, y_pred))\n",
    "print(\"Test Precision:\", precision_score(y_test, y_pred))\n",
    "print(\"Test Recall:\", recall_score(y_test, y_pred))"
   ]
  },
  {
   "cell_type": "markdown",
   "id": "1c081188-5c5a-4413-91bb-6a0267db5b30",
   "metadata": {},
   "source": [
    "## Applying PCA\n",
    "Here, we applied PCA to our model so that it would not have to deal with so many features."
   ]
  },
  {
   "cell_type": "code",
   "execution_count": 62,
   "id": "b25321a6-8420-4e61-b020-e6ff5a10b34e",
   "metadata": {},
   "outputs": [
    {
     "name": "stdout",
     "output_type": "stream",
     "text": [
      "Number of PCA components: 11\n",
      "Number of neighbors:  3\n",
      "Train data results: 0.974520804114072\n",
      "Test data results: 0.9492053599252104\n",
      "Test Accuracy: 0.9492053599252104\n",
      "Test Precision: 0.69\n",
      "Test Recall: 0.5774058577405857\n"
     ]
    }
   ],
   "source": [
    "from sklearn.preprocessing import StandardScaler\n",
    "from sklearn.decomposition import PCA\n",
    "scaler = StandardScaler()\n",
    "X_train, X_test, y_train, y_test = generate_train_test_data()\n",
    "scaler.fit(X_train)\n",
    "X_train = scaler.transform(X_train)\n",
    "X_test = scaler.transform(X_test)\n",
    "pca = PCA(.95) # 0.95 means it will choose n amount of components to retain 95% of the variance\n",
    "pca.fit(X_train)\n",
    "X_train = pca.transform(X_train)\n",
    "X_test = pca.transform(X_test)\n",
    "knn = KNeighborsClassifier(n_neighbors = 3)\n",
    "knn.fit(X_train,y_train)\n",
    "print(\"Number of PCA components:\", pca.n_components_)\n",
    "print(\"Number of neighbors: \", 3)\n",
    "print(\"Train data results:\", knn.score(X_train, y_train))\n",
    "print(\"Test data results:\", knn.score(X_test, y_test))\n",
    "y_pred = knn.predict(X_test)\n",
    "print(\"Test Accuracy:\", accuracy_score(y_test, y_pred))\n",
    "print(\"Test Precision:\", precision_score(y_test, y_pred))\n",
    "print(\"Test Recall:\", recall_score(y_test, y_pred))"
   ]
  },
  {
   "cell_type": "markdown",
   "id": "5c88dcbe",
   "metadata": {},
   "source": [
    "## How well do certain years predict other years?\n",
    "Here, we repeatedly trained a knn model on data from one year and used it to predict every other individual year. We were curious to see if years would better predict other chronologically close years. Perhaps over the years what is been valued in an all star has changed.\n",
    "\n",
    "Note: we only use three features (pts per game, ast per game, and reb per game) for simplicity sake and because these are some of the only stats that have always been tracked in the nba."
   ]
  },
  {
   "cell_type": "code",
   "execution_count": 73,
   "id": "4b856335",
   "metadata": {},
   "outputs": [],
   "source": [
    "all_stars = pd.read_csv('All-Star Selections.csv')\n",
    "statistics = pd.read_csv(\"Player Per Game.csv\")\n",
    "statistics.drop_duplicates(inplace=True, subset=[\"player\", \"season\"])\n",
    "def knn_classify(number_of_neighbors, training_year, test_year, feature_1, feature_2, feature_3):\n",
    "    training_year_all_stars = (all_stars[all_stars[\"season\"] == training_year][\"player\"]).tolist()\n",
    "    test_year_all_stars = (all_stars[all_stars[\"season\"] == test_year][\"player\"]).tolist()\n",
    "\n",
    "    tagged_training_year_statistics = statistics[statistics[\"season\"] == training_year][[\"season\", \"player\", feature_1, feature_2, feature_3]].dropna()\n",
    "    tagged_training_year_statistics['all_star'] = tagged_training_year_statistics['player'].apply(lambda x: 1 if x in training_year_all_stars else 0)\n",
    "    tagged_test_year_statistics = statistics[statistics[\"season\"] == test_year][[\"season\", \"player\", feature_1, feature_2, feature_3]].dropna()\n",
    "    tagged_test_year_statistics['all_star'] = tagged_test_year_statistics['player'].apply(lambda x: 1 if x in test_year_all_stars else 0)\n",
    "    \n",
    "    X_train = list(zip(tagged_training_year_statistics[feature_1], tagged_training_year_statistics[feature_2], tagged_training_year_statistics[feature_3]))\n",
    "    y_train = tagged_training_year_statistics['all_star']\n",
    "    \n",
    "    X_test = list(zip(tagged_test_year_statistics[feature_1], tagged_test_year_statistics[feature_2], tagged_test_year_statistics[feature_3]))\n",
    "    y_test = tagged_test_year_statistics['all_star']\n",
    "    \n",
    "    knn = KNeighborsClassifier(n_neighbors=number_of_neighbors)\n",
    "    knn.fit(X_train, y_train)\n",
    "    \n",
    "    y_pred = knn.predict(X_test)\n",
    "    \n",
    "    return (accuracy_score(y_test, y_pred), recall_score(y_test, y_pred, zero_division=0))"
   ]
  },
  {
   "cell_type": "code",
   "execution_count": 74,
   "id": "fa886208",
   "metadata": {},
   "outputs": [],
   "source": [
    "accuracies = []\n",
    "recalls = []\n",
    "for i in range(1951, 2024):\n",
    "    year_accuracies = []\n",
    "    year_recalls = []\n",
    "    for j in range(1951, 2024):\n",
    "        result = knn_classify(5, i, j, \"pts_per_game\", \"ast_per_game\", \"trb_per_game\")\n",
    "        year_accuracies.append(result[0])\n",
    "        year_recalls.append(result[1])\n",
    "    accuracies.append(year_accuracies)\n",
    "    recalls.append(year_recalls)"
   ]
  },
  {
   "cell_type": "code",
   "execution_count": 77,
   "id": "d567ab45",
   "metadata": {},
   "outputs": [
    {
     "data": {
      "image/png": "[encoded data removed]",
      "text/plain": [
       "<Figure size 1152x1152 with 2 Axes>"
      ]
     },
     "metadata": {},
     "output_type": "display_data"
    }
   ],
   "source": [
    "plt.style.use(\"seaborn\")\n",
    "plt.figure(figsize=(16,16))\n",
    "plt.title( \"Accuracy Heatmap\" )\n",
    "\n",
    "hm = sn.heatmap(data = accuracies, square = True, xticklabels = range(1951, 2024), yticklabels = range(1951, 2024))\n",
    "\n",
    "hm.set(xlabel = \"Test Year\", ylabel = \"Training Year\")\n",
    "  \n",
    "plt.show()"
   ]
  },
  {
   "cell_type": "code",
   "execution_count": 78,
   "id": "6714f1d8",
   "metadata": {},
   "outputs": [
    {
     "data": {
      "image/png": "[encoded data removed]",
      "text/plain": [
       "<Figure size 1152x1152 with 2 Axes>"
      ]
     },
     "metadata": {},
     "output_type": "display_data"
    }
   ],
   "source": [
    "plt.style.use(\"seaborn\")\n",
    "plt.figure(figsize=(16,16))\n",
    "plt.title( \"Recall Heatmap\" )\n",
    "\n",
    "hm = sn.heatmap(data = recalls, square = True, xticklabels = range(1951, 2024), yticklabels = range(1951, 2024))\n",
    "\n",
    "hm.set(xlabel = \"Test Year\", ylabel = \"Training Year\")\n",
    "  \n",
    "plt.show()"
   ]
  },
  {
   "cell_type": "markdown",
   "id": "389fbf81",
   "metadata": {},
   "source": [
    "## What features are the best to use? Has this changed historically?\n",
    "Here we look at what combination of 3 features out of the 25 provided in our dataset are the most useful in training a model. Also, we look at this for each decade. We hope to see if certain statistics are valued more or less across decades."
   ]
  },
  {
   "cell_type": "code",
   "execution_count": 104,
   "id": "1bacdc39",
   "metadata": {},
   "outputs": [],
   "source": [
    "def knn_classify_year_range(number_of_neighbors, years, feature_1, feature_2, feature_3):\n",
    "    years_split = years.split('.')\n",
    "    year_start = int(years_split[0])\n",
    "    year_end = int(years_split[1])\n",
    "    temp_df = tagged_player_per_game_data.copy()\n",
    "    temp_df = temp_df.loc[(temp_df['season'] >= year_start) & (temp_df['season'] < year_end)]\n",
    "    #X = temp_df.drop(columns=['player', 'pos', 'season', 'is-all-star', 'lg', 'tm'])\n",
    "    X = temp_df[[feature_1, feature_2, feature_3]]\n",
    "    y = temp_df['is-all-star'].values\n",
    "    X_train, X_test, y_train, y_test = train_test_split(X, y, test_size=0.2, random_state=42)\n",
    "    \n",
    "    knn = KNeighborsClassifier(n_neighbors=number_of_neighbors)\n",
    "    knn.fit(X_train, y_train)\n",
    "    \n",
    "    y_pred = knn.predict(X_test)\n",
    "    \n",
    "    return (accuracy_score(y_test, y_pred), recall_score(y_test, y_pred, zero_division=0))"
   ]
  },
  {
   "cell_type": "code",
   "execution_count": 114,
   "id": "3af400d4",
   "metadata": {},
   "outputs": [],
   "source": [
    "def find_three_best_features(years):\n",
    "    features = ['experience', 'g', 'mp_per_game' ,'fg_per_game', 'fga_per_game', 'fg_percent', 'x3p_per_game', 'x3pa_per_game', 'x3p_percent', 'x2p_per_game', 'x2pa_per_game', 'x2p_percent', 'e_fg_percent', 'ft_per_game', 'fta_per_game', 'ft_percent', 'orb_per_game', 'drb_per_game', 'trb_per_game', 'ast_per_game', 'stl_per_game', 'blk_per_game', 'tov_per_game', 'pf_per_game', 'pts_per_game']\n",
    "    results = []\n",
    "\n",
    "    for i in range(len(features)):\n",
    "        for j in range(len(features)):\n",
    "            for k in range(len(features)):\n",
    "                if i != j and i != k and j != k:\n",
    "                    result = knn_classify_year_range(5, years, features[i], features[j], features[k])\n",
    "                    results.append((features[i], features[j], features[k], result[0], result[1]))\n",
    "\n",
    "    max_accuracy = results[0]\n",
    "    max_recall = results[0]\n",
    "\n",
    "    for i in range(len(results)):\n",
    "        if results[i][3] > max_accuracy[3]:\n",
    "            max_accuracy = results[i]\n",
    "        if results[i][4] > max_recall[4]:\n",
    "            max_recall = results[i]\n",
    "\n",
    "    print(\"Max accuracy: \", max_accuracy[:3], max_accuracy[3])\n",
    "    print(\"Max recall: \", max_recall[:3], max_recall[4])"
   ]
  },
  {
   "cell_type": "markdown",
   "id": "606f2de1",
   "metadata": {},
   "source": [
    "## 1970s"
   ]
  },
  {
   "cell_type": "code",
   "execution_count": 106,
   "id": "208781f1",
   "metadata": {},
   "outputs": [
    {
     "name": "stdout",
     "output_type": "stream",
     "text": [
      "Max accuracy:  ('experience', 'fg_per_game', 'drb_per_game') 0.9354838709677419\n",
      "Max recall:  ('fg_per_game', 'ft_percent', 'stl_per_game') 0.875\n"
     ]
    }
   ],
   "source": [
    "find_three_best_features('1970.1980')"
   ]
  },
  {
   "cell_type": "markdown",
   "id": "4af25155",
   "metadata": {},
   "source": [
    "## 1980s"
   ]
  },
  {
   "cell_type": "code",
   "execution_count": 107,
   "id": "b90f57c6",
   "metadata": {},
   "outputs": [
    {
     "name": "stdout",
     "output_type": "stream",
     "text": [
      "Max accuracy:  ('experience', 'tov_per_game', 'pts_per_game') 0.9533980582524272\n",
      "Max recall:  ('fg_per_game', 'stl_per_game', 'tov_per_game') 0.6458333333333334\n"
     ]
    }
   ],
   "source": [
    "find_three_best_features('1980.1990')"
   ]
  },
  {
   "cell_type": "markdown",
   "id": "bae5f1dc",
   "metadata": {},
   "source": [
    "## 1990s"
   ]
  },
  {
   "cell_type": "code",
   "execution_count": 108,
   "id": "43e70f03",
   "metadata": {},
   "outputs": [
    {
     "name": "stdout",
     "output_type": "stream",
     "text": [
      "Max accuracy:  ('g', 'fta_per_game', 'pts_per_game') 0.9542097488921714\n",
      "Max recall:  ('g', 'fta_per_game', 'pts_per_game') 0.5434782608695652\n"
     ]
    }
   ],
   "source": [
    "find_three_best_features('1990.2000')"
   ]
  },
  {
   "cell_type": "markdown",
   "id": "a079c340",
   "metadata": {},
   "source": [
    "## 2000s"
   ]
  },
  {
   "cell_type": "code",
   "execution_count": 109,
   "id": "46b73e13",
   "metadata": {},
   "outputs": [
    {
     "name": "stdout",
     "output_type": "stream",
     "text": [
      "Max accuracy:  ('fg_per_game', 'orb_per_game', 'pts_per_game') 0.9626038781163435\n",
      "Max recall:  ('fg_percent', 'x2p_per_game', 'orb_per_game') 0.6666666666666666\n"
     ]
    }
   ],
   "source": [
    "find_three_best_features('2000.2010')"
   ]
  },
  {
   "cell_type": "markdown",
   "id": "3e73d1cc",
   "metadata": {},
   "source": [
    "## 2010s"
   ]
  },
  {
   "cell_type": "code",
   "execution_count": 115,
   "id": "5dbf6fc8",
   "metadata": {
    "scrolled": false
   },
   "outputs": [
    {
     "name": "stdout",
     "output_type": "stream",
     "text": [
      "Max accuracy:  ('fta_per_game', 'ast_per_game', 'pts_per_game') 0.963985594237695\n",
      "Max recall:  ('fta_per_game', 'ast_per_game', 'pts_per_game') 0.6551724137931034\n"
     ]
    }
   ],
   "source": [
    "find_three_best_features('2010.2020')"
   ]
  },
  {
   "cell_type": "markdown",
   "id": "bd3f0bae-00be-495d-a9d9-72bdb2f3e9ef",
   "metadata": {},
   "source": [
    "## How well would it have done this year?\n",
    "Here, we train the model on data from 1973 to 2022 and test it on this year's all stars."
   ]
  },
  {
   "cell_type": "code",
   "execution_count": 66,
   "id": "b06b3e61-976b-425d-a30e-99ba888165ea",
   "metadata": {},
   "outputs": [
    {
     "name": "stdout",
     "output_type": "stream",
     "text": [
      "Train data results: 0.9727173283572486\n",
      "2023 accuracy: 0.9561752988047809\n",
      "2023 recall: 0.7407407407407407\n"
     ]
    }
   ],
   "source": [
    "X_train, X_test, y_train, y_test = generate_train_test_data('1973.2023', 0)\n",
    "# Training model with all the test data minus 2023 (what we will predict)\n",
    "knn = KNeighborsClassifier(n_neighbors = 3)\n",
    "knn.fit(X_train,y_train)\n",
    "print(\"Train data results:\", knn.score(X_train, y_train))\n",
    "tagged_data_2023 = tagged_player_per_game_data[tagged_player_per_game_data[\"season\"] == 2023]\n",
    "playernames_2023 = tagged_data_2023['player'].tolist()\n",
    "X = tagged_data_2023.drop(columns=['player', 'pos', 'season', 'is-all-star', 'lg', 'tm'])\n",
    "y = tagged_data_2023['is-all-star'].values\n",
    "predictions_2023 = knn.predict(X).tolist()\n",
    "print(\"2023 accuracy:\", knn.score(X, y))\n",
    "print(\"2023 recall:\", recall_score(y, predictions_2023))"
   ]
  },
  {
   "cell_type": "markdown",
   "id": "4452fdcf-f062-4cfd-9e88-68f0ff6fc275",
   "metadata": {},
   "source": [
    "### Diving deeper into 2023 and who was actually selected and who was not"
   ]
  },
  {
   "cell_type": "code",
   "execution_count": 39,
   "id": "5badc7a5-6c08-41f3-a4c9-ac65824ef265",
   "metadata": {},
   "outputs": [
    {
     "name": "stdout",
     "output_type": "stream",
     "text": [
      "['Anthony Davis', 'Bojan Bogdanović', 'Bradley Beal', 'Brandon Ingram', 'Damian Lillard', 'Darius Garland', \"De'Aaron Fox\", 'DeMar DeRozan', 'Devin Booker', 'Donovan Mitchell', 'Fred VanVleet', 'Giannis Antetokounmpo', 'Jalen Brunson', 'James Harden', 'Jaylen Brown', 'Jayson Tatum', 'Joel Embiid', 'Jrue Holiday', 'Julius Randle', 'Kawhi Leonard', 'Kevin Durant', 'Klay Thompson', 'Kyle Kuzma', 'Kyrie Irving', 'Lauri Markkanen', 'LeBron James', 'Luka Dončić', 'Nikola Jokić', 'Pascal Siakam', 'Paul George', 'Russell Westbrook', 'Shai Gilgeous-Alexander', 'Stephen Curry', 'Trae Young', 'Zach LaVine']\n"
     ]
    }
   ],
   "source": [
    "actual_2023_allstars_names = allstar_selections_data[allstar_selections_data[\"season\"] == 2023][\"player\"].tolist()\n",
    "all_stars_predicted = [(playernames_2023[i]) for i in range(len(predictions_2023)) if predictions_2023[i] == 1]\n",
    "print(all_stars_predicted)"
   ]
  },
  {
   "cell_type": "code",
   "execution_count": 40,
   "id": "ae3c8c83-a4ea-4c8b-8048-edd72346f212",
   "metadata": {},
   "outputs": [
    {
     "name": "stdout",
     "output_type": "stream",
     "text": [
      "Number of actual all-stars selected: 27  Number model selected: 35\n"
     ]
    }
   ],
   "source": [
    "print(\"Number of actual all-stars selected:\", len(actual_2023_allstars_names), \" Number model selected:\", len(all_stars_predicted))"
   ]
  },
  {
   "cell_type": "markdown",
   "id": "4cee4064-678e-4193-8fcd-b1f621abb1d5",
   "metadata": {},
   "source": [
    "### Taking the intersection of our model and the actual results"
   ]
  },
  {
   "cell_type": "code",
   "execution_count": 41,
   "id": "80ac11da-1969-4548-ac09-04358c37837e",
   "metadata": {},
   "outputs": [
    {
     "name": "stdout",
     "output_type": "stream",
     "text": [
      "['LeBron James', 'Shai Gilgeous-Alexander', 'Kevin Durant', \"De'Aaron Fox\", 'Damian Lillard', 'Lauri Markkanen', 'Julius Randle', 'Stephen Curry', 'Kyrie Irving', 'Jrue Holiday', 'Luka Dončić', 'Joel Embiid', 'Nikola Jokić', 'DeMar DeRozan', 'Giannis Antetokounmpo', 'Pascal Siakam', 'Jaylen Brown', 'Paul George', 'Jayson Tatum', 'Donovan Mitchell']\n",
      "20\n"
     ]
    }
   ],
   "source": [
    "intersection_lists = list(set(all_stars_predicted) & set(actual_2023_allstars_names))\n",
    "print(intersection_lists)\n",
    "print(len(intersection_lists))"
   ]
  },
  {
   "cell_type": "markdown",
   "id": "c211c23e-9467-4863-a662-151cfb309310",
   "metadata": {},
   "source": [
    "### Looking at the differences between our model and the actual results"
   ]
  },
  {
   "cell_type": "code",
   "execution_count": 42,
   "id": "8aa9210a-0c13-4af6-9740-fb88b060736e",
   "metadata": {},
   "outputs": [
    {
     "name": "stdout",
     "output_type": "stream",
     "text": [
      "['Anthony Davis', 'Bojan Bogdanović', 'Bradley Beal', 'Brandon Ingram', 'Darius Garland', 'Devin Booker', 'Fred VanVleet', 'Jalen Brunson', 'James Harden', 'Kawhi Leonard', 'Klay Thompson', 'Kyle Kuzma', 'Russell Westbrook', 'Trae Young', 'Zach LaVine']\n",
      "15\n"
     ]
    }
   ],
   "source": [
    "falsely_predicted = [i for i in all_stars_predicted if i not in actual_2023_allstars_names]\n",
    "print(falsely_predicted)\n",
    "print(len(falsely_predicted))"
   ]
  },
  {
   "cell_type": "code",
   "execution_count": 43,
   "id": "e33f909a-8e1e-4f41-9973-5a6e5b1f3516",
   "metadata": {},
   "outputs": [
    {
     "name": "stdout",
     "output_type": "stream",
     "text": [
      "['Bam Adebayo', 'Ja Morant', 'Domantas Sabonis', 'Anthony Edwards', 'Tyrese Haliburton', 'Jaren Jackson Jr.', 'Zion Williamson']\n",
      "7\n"
     ]
    }
   ],
   "source": [
    "not_predicted = [i for i in actual_2023_allstars_names if i not in all_stars_predicted]\n",
    "print(not_predicted)\n",
    "print(len(not_predicted))"
   ]
  },
  {
   "cell_type": "code",
   "execution_count": 44,
   "id": "d3faf1b1-c305-4d9d-ad52-d484896186de",
   "metadata": {},
   "outputs": [
    {
     "name": "stdout",
     "output_type": "stream",
     "text": [
      "Total Accuracy 0.9561752988047809 0.9561752988047809\n"
     ]
    }
   ],
   "source": [
    "# Sanity check\n",
    "total_misclassified = len(falsely_predicted + not_predicted)\n",
    "total_data_points = len(y)\n",
    "accuracy = 1 - (total_misclassified / total_data_points)\n",
    "print(\"Total Accuracy\", accuracy, knn.score(X, y))"
   ]
  },
  {
   "cell_type": "markdown",
   "id": "053deaee-cc0d-49ef-8072-033ab3078936",
   "metadata": {},
   "source": [
    "## How has the evolution in the game in regards to the 3 point line affect classification?\n",
    "The 3 point line was introduced in the NBA in 1979. Originally, it was not utilized very much. However, in recent years the NBA game has undergone a revolution whereby the 3 pointer is one of the primary means of scoring. Here, we look at if that revolution has any affect on prediciting all stars. We train our model on the four decades since the 3 was introduced and on three statistics relating to 3 pointers: 3 pts attempted, 3 pts made, and 3 pt percentage. The results do indicate that a heavier and heavier emphasis is being placed on the 3 over time as recall steadily increases each decade."
   ]
  },
  {
   "cell_type": "markdown",
   "id": "866f710b",
   "metadata": {},
   "source": [
    "## 1980s"
   ]
  },
  {
   "cell_type": "code",
   "execution_count": 83,
   "id": "8565a30e-0d8f-4b6a-a8f5-7695f214fe67",
   "metadata": {},
   "outputs": [
    {
     "name": "stdout",
     "output_type": "stream",
     "text": [
      "Accuracy: 0.9048543689320389\n",
      "Recall: 0.0\n"
     ]
    }
   ],
   "source": [
    "print(\"Accuracy:\", knn_classify_year_range(6, '1980.1990', 'x3p_per_game', 'x3pa_per_game', 'x3p_percent')[0])\n",
    "print(\"Recall:\", knn_classify_year_range(6, '1980.1990', 'x3p_per_game', 'x3pa_per_game', 'x3p_percent')[1])"
   ]
  },
  {
   "cell_type": "markdown",
   "id": "04cdab6c",
   "metadata": {},
   "source": [
    "## 1990s"
   ]
  },
  {
   "cell_type": "code",
   "execution_count": 84,
   "id": "aa649de7",
   "metadata": {},
   "outputs": [
    {
     "name": "stdout",
     "output_type": "stream",
     "text": [
      "Accuracy: 0.9276218611521418\n",
      "Recall: 0.0\n"
     ]
    }
   ],
   "source": [
    "print(\"Accuracy:\", knn_classify_year_range(6, '1990.2000', 'x3p_per_game', 'x3pa_per_game', 'x3p_percent')[0])\n",
    "print(\"Recall:\", knn_classify_year_range(6, '1990.2000', 'x3p_per_game', 'x3pa_per_game', 'x3p_percent')[1])"
   ]
  },
  {
   "cell_type": "markdown",
   "id": "19b40687",
   "metadata": {},
   "source": [
    "## 2000s"
   ]
  },
  {
   "cell_type": "code",
   "execution_count": 85,
   "id": "20dbd8a4",
   "metadata": {},
   "outputs": [
    {
     "name": "stdout",
     "output_type": "stream",
     "text": [
      "Accuracy: 0.9182825484764543\n",
      "Recall: 0.03508771929824561\n"
     ]
    }
   ],
   "source": [
    "print(\"Accuracy:\", knn_classify_year_range(6, '2000.2010', 'x3p_per_game', 'x3pa_per_game', 'x3p_percent')[0])\n",
    "print(\"Recall:\", knn_classify_year_range(6, '2000.2010', 'x3p_per_game', 'x3pa_per_game', 'x3p_percent')[1])"
   ]
  },
  {
   "cell_type": "markdown",
   "id": "02c4f361",
   "metadata": {},
   "source": [
    "## 2010s"
   ]
  },
  {
   "cell_type": "code",
   "execution_count": 86,
   "id": "449c711e",
   "metadata": {},
   "outputs": [
    {
     "name": "stdout",
     "output_type": "stream",
     "text": [
      "Accuracy: 0.9339735894357744\n",
      "Recall: 0.10344827586206896\n"
     ]
    }
   ],
   "source": [
    "print(\"Accuracy:\", knn_classify_year_range(6, '2010.2020', 'x3p_per_game', 'x3pa_per_game', 'x3p_percent')[0])\n",
    "print(\"Recall:\", knn_classify_year_range(6, '2010.2020', 'x3p_per_game', 'x3pa_per_game', 'x3p_percent')[1])"
   ]
  },
  {
   "cell_type": "markdown",
   "id": "0020f451-9b6c-4c2a-b0e7-7e0d892206ec",
   "metadata": {},
   "source": [
    "## Population and franchise analysis\n",
    "Here, we look at the potential effect that the population of the city that a player plays in the value of the team that a player plays on could have on their all star selection. Theoretically, because of fan voting, you might expect that all stars would be more likely to come from bigger cities and more valuable (ie more fans) teams. However, we did not find much of a correlation. \n",
    "\n",
    "Note: Population data is from 2019 so we look at the 2019 all-stars (fan voting had long been in existence since 1974-1975 season)\n",
    "Note: Franchise valuation data is from 2017 so we look at that year in a vacuum (valuations in USD millions)"
   ]
  },
  {
   "cell_type": "code",
   "execution_count": 67,
   "id": "8222c2e9-d5ee-4c3f-b8c8-bca12db893cf",
   "metadata": {},
   "outputs": [
    {
     "data": {
      "text/html": [
       "<div>\n",
       "<style scoped>\n",
       "    .dataframe tbody tr th:only-of-type {\n",
       "        vertical-align: middle;\n",
       "    }\n",
       "\n",
       "    .dataframe tbody tr th {\n",
       "        vertical-align: top;\n",
       "    }\n",
       "\n",
       "    .dataframe thead th {\n",
       "        text-align: right;\n",
       "    }\n",
       "</style>\n",
       "<table border=\"1\" class=\"dataframe\">\n",
       "  <thead>\n",
       "    <tr style=\"text-align: right;\">\n",
       "      <th></th>\n",
       "      <th>season</th>\n",
       "      <th>player</th>\n",
       "      <th>tm</th>\n",
       "      <th>city</th>\n",
       "      <th>population</th>\n",
       "      <th>team_valuation_2017</th>\n",
       "      <th>is-all-star</th>\n",
       "    </tr>\n",
       "  </thead>\n",
       "  <tbody>\n",
       "    <tr>\n",
       "      <th>0</th>\n",
       "      <td>2023</td>\n",
       "      <td>Anthony Edwards</td>\n",
       "      <td>MIN</td>\n",
       "      <td>Minneapolis</td>\n",
       "      <td>400070</td>\n",
       "      <td>770.0</td>\n",
       "      <td>1</td>\n",
       "    </tr>\n",
       "    <tr>\n",
       "      <th>1</th>\n",
       "      <td>2023</td>\n",
       "      <td>Bam Adebayo</td>\n",
       "      <td>MIA</td>\n",
       "      <td>Miami</td>\n",
       "      <td>417650</td>\n",
       "      <td>1350.0</td>\n",
       "      <td>1</td>\n",
       "    </tr>\n",
       "    <tr>\n",
       "      <th>2</th>\n",
       "      <td>2023</td>\n",
       "      <td>Damian Lillard</td>\n",
       "      <td>POR</td>\n",
       "      <td>Portland</td>\n",
       "      <td>66318</td>\n",
       "      <td>1050.0</td>\n",
       "      <td>1</td>\n",
       "    </tr>\n",
       "    <tr>\n",
       "      <th>3</th>\n",
       "      <td>2023</td>\n",
       "      <td>De'Aaron Fox</td>\n",
       "      <td>SAC</td>\n",
       "      <td>Sacramento</td>\n",
       "      <td>479686</td>\n",
       "      <td>1075.0</td>\n",
       "      <td>1</td>\n",
       "    </tr>\n",
       "    <tr>\n",
       "      <th>4</th>\n",
       "      <td>2023</td>\n",
       "      <td>DeMar DeRozan</td>\n",
       "      <td>CHI</td>\n",
       "      <td>Chicago</td>\n",
       "      <td>2718782</td>\n",
       "      <td>2500.0</td>\n",
       "      <td>1</td>\n",
       "    </tr>\n",
       "    <tr>\n",
       "      <th>...</th>\n",
       "      <td>...</td>\n",
       "      <td>...</td>\n",
       "      <td>...</td>\n",
       "      <td>...</td>\n",
       "      <td>...</td>\n",
       "      <td>...</td>\n",
       "      <td>...</td>\n",
       "    </tr>\n",
       "    <tr>\n",
       "      <th>894</th>\n",
       "      <td>1980</td>\n",
       "      <td>Magic Johnson</td>\n",
       "      <td>LAL</td>\n",
       "      <td>Los Angeles</td>\n",
       "      <td>3884307</td>\n",
       "      <td>3000.0</td>\n",
       "      <td>1</td>\n",
       "    </tr>\n",
       "    <tr>\n",
       "      <th>895</th>\n",
       "      <td>1980</td>\n",
       "      <td>Marques Johnson</td>\n",
       "      <td>MIL</td>\n",
       "      <td>Milwuakee</td>\n",
       "      <td>590952</td>\n",
       "      <td>785.0</td>\n",
       "      <td>1</td>\n",
       "    </tr>\n",
       "    <tr>\n",
       "      <th>896</th>\n",
       "      <td>1980</td>\n",
       "      <td>Micheal Ray Richardson</td>\n",
       "      <td>NYK</td>\n",
       "      <td>New York</td>\n",
       "      <td>8405837</td>\n",
       "      <td>3300.0</td>\n",
       "      <td>1</td>\n",
       "    </tr>\n",
       "    <tr>\n",
       "      <th>897</th>\n",
       "      <td>1980</td>\n",
       "      <td>Moses Malone</td>\n",
       "      <td>HOU</td>\n",
       "      <td>Houston</td>\n",
       "      <td>2195914</td>\n",
       "      <td>1650.0</td>\n",
       "      <td>1</td>\n",
       "    </tr>\n",
       "    <tr>\n",
       "      <th>898</th>\n",
       "      <td>1980</td>\n",
       "      <td>Tiny Archibald</td>\n",
       "      <td>BOS</td>\n",
       "      <td>Boston</td>\n",
       "      <td>645966</td>\n",
       "      <td>2200.0</td>\n",
       "      <td>1</td>\n",
       "    </tr>\n",
       "  </tbody>\n",
       "</table>\n",
       "<p>899 rows × 7 columns</p>\n",
       "</div>"
      ],
      "text/plain": [
       "     season                  player   tm         city  population  \\\n",
       "0      2023         Anthony Edwards  MIN  Minneapolis      400070   \n",
       "1      2023             Bam Adebayo  MIA        Miami      417650   \n",
       "2      2023          Damian Lillard  POR     Portland       66318   \n",
       "3      2023            De'Aaron Fox  SAC   Sacramento      479686   \n",
       "4      2023           DeMar DeRozan  CHI      Chicago     2718782   \n",
       "..      ...                     ...  ...          ...         ...   \n",
       "894    1980           Magic Johnson  LAL  Los Angeles     3884307   \n",
       "895    1980         Marques Johnson  MIL    Milwuakee      590952   \n",
       "896    1980  Micheal Ray Richardson  NYK     New York     8405837   \n",
       "897    1980            Moses Malone  HOU      Houston     2195914   \n",
       "898    1980          Tiny Archibald  BOS       Boston      645966   \n",
       "\n",
       "     team_valuation_2017  is-all-star  \n",
       "0                  770.0            1  \n",
       "1                 1350.0            1  \n",
       "2                 1050.0            1  \n",
       "3                 1075.0            1  \n",
       "4                 2500.0            1  \n",
       "..                   ...          ...  \n",
       "894               3000.0            1  \n",
       "895                785.0            1  \n",
       "896               3300.0            1  \n",
       "897               1650.0            1  \n",
       "898               2200.0            1  \n",
       "\n",
       "[899 rows x 7 columns]"
      ]
     },
     "execution_count": 67,
     "metadata": {},
     "output_type": "execute_result"
    }
   ],
   "source": [
    "from urllib.request import urlopen\n",
    "import json\n",
    "url = \"https://raw.githubusercontent.com/bttmly/nba/master/data/teams.json\"\n",
    "response = urlopen(url)\n",
    "data_json = json.loads(response.read())\n",
    "conversion_dict = dict([(data_json[i]['abbreviation'], data_json[i]['teamName']) for i in range(len(data_json))])\n",
    "df_valuation = pd.read_csv(\"nba_2017_team_valuations.csv\")\n",
    "valuation_dict = df_valuation.set_index(\"TEAM\").T.to_dict('records')[0]\n",
    "\n",
    "pd.options.mode.chained_assignment = None  # default='warn'\n",
    "df_city = pd.read_csv(\"https://raw.githubusercontent.com/plotly/datasets/master/us-cities-top-1k.csv\")\n",
    "df_city = df_city[[\"City\", \"State\", \"Population\"]]\n",
    "abbr_to_city = {\"ATL\": \"Atlanta\", \"BKN\": \"Brooklyn\", \"BOS\": \"Boston\", \"CHA\": \"Charlotte\", \"CHI\": \"Chicago\", \"CLE\": \"Cleveland\", \"DAL\": \"Dallas\", \"DEN\": \"Denver\", \"DET\": \"Detroit\",\n",
    "                \"GSW\": \"San Francisco\", \"HOU\": \"Houston\", \"IND\": \"Indianapolis\", \"LAC\": \"Los Angeles\", \"LAL\": \"Los Angeles\", \"MEM\": \"Memphis\", \"MIA\": \"Miami\", \"MIL\": \"Milwuakee\", \"MIN\": \"Minneapolis\",\n",
    "                \"NOP\": \"New Orleans\", \"NYK\": \"New York\", \"OKC\": \"Oklahoma City\", \"ORL\": \"Orlando\", \"PHI\": \"Philadelphia\", \"PHX\": \"Phoenix\", \"POR\": \"Portland\", \"SAC\": \"Sacramento\",\n",
    "                \"SAS\": \"San Antonio\", \"TOR\": \"Toronto\", \"UTA\": \"Salt Lake City\", \"WAS\": \"Washington\"}\n",
    "cities = df_city[\"City\"].tolist()\n",
    "population = df_city[\"Population\"].tolist()\n",
    "city_dict = dict(zip(cities, population))\n",
    "city_dict['Toronto'] = 3060000\n",
    "city_dict['Milwuakee'] = 590952\n",
    "df_players_city_analysis = tagged_player_per_game_data[tagged_player_per_game_data[\"is-all-star\"] == 1]\n",
    "df_players_city_analysis[\"city\"] = df_players_city_analysis[\"tm\"].apply(lambda x: abbr_to_city.get(x))\n",
    "df_players_city_analysis = df_players_city_analysis.replace(to_replace='None', value=np.nan).dropna()\n",
    "df_players_city_analysis[\"population\"] = df_players_city_analysis[\"city\"].apply(lambda x: city_dict.get(x))\n",
    "df_players_city_analysis[\"team_valuation_2017\"] = df_players_city_analysis[\"tm\"].apply(lambda x: valuation_dict[conversion_dict[x]])\n",
    "df_players_city_analysis.reset_index(inplace=True)\n",
    "df_players_city_analysis = df_players_city_analysis[[\"season\", \"player\", \"tm\", \"city\", \"population\", \"team_valuation_2017\", \"is-all-star\"]]\n",
    "df_players_city_analysis"
   ]
  },
  {
   "cell_type": "markdown",
   "id": "dd884b1d-703f-4ab5-9958-4199d042dd2b",
   "metadata": {},
   "source": [
    "### Population graph for 2019 all-stars"
   ]
  },
  {
   "cell_type": "code",
   "execution_count": 68,
   "id": "9323795f-5856-4479-8a94-c340182fe35a",
   "metadata": {},
   "outputs": [
    {
     "data": {
      "text/html": [
       "<div>\n",
       "<style scoped>\n",
       "    .dataframe tbody tr th:only-of-type {\n",
       "        vertical-align: middle;\n",
       "    }\n",
       "\n",
       "    .dataframe tbody tr th {\n",
       "        vertical-align: top;\n",
       "    }\n",
       "\n",
       "    .dataframe thead th {\n",
       "        text-align: right;\n",
       "    }\n",
       "</style>\n",
       "<table border=\"1\" class=\"dataframe\">\n",
       "  <thead>\n",
       "    <tr style=\"text-align: right;\">\n",
       "      <th></th>\n",
       "      <th>season</th>\n",
       "      <th>player</th>\n",
       "      <th>tm</th>\n",
       "      <th>city</th>\n",
       "      <th>population</th>\n",
       "      <th>team_valuation_2017</th>\n",
       "      <th>is-all-star</th>\n",
       "    </tr>\n",
       "  </thead>\n",
       "  <tbody>\n",
       "    <tr>\n",
       "      <th>91</th>\n",
       "      <td>2019</td>\n",
       "      <td>Anthony Davis</td>\n",
       "      <td>NOP</td>\n",
       "      <td>New Orleans</td>\n",
       "      <td>378715</td>\n",
       "      <td>750.0</td>\n",
       "      <td>1</td>\n",
       "    </tr>\n",
       "    <tr>\n",
       "      <th>92</th>\n",
       "      <td>2019</td>\n",
       "      <td>Ben Simmons</td>\n",
       "      <td>PHI</td>\n",
       "      <td>Philadelphia</td>\n",
       "      <td>1553165</td>\n",
       "      <td>800.0</td>\n",
       "      <td>1</td>\n",
       "    </tr>\n",
       "    <tr>\n",
       "      <th>93</th>\n",
       "      <td>2019</td>\n",
       "      <td>Blake Griffin</td>\n",
       "      <td>DET</td>\n",
       "      <td>Detroit</td>\n",
       "      <td>688701</td>\n",
       "      <td>900.0</td>\n",
       "      <td>1</td>\n",
       "    </tr>\n",
       "    <tr>\n",
       "      <th>94</th>\n",
       "      <td>2019</td>\n",
       "      <td>Bradley Beal</td>\n",
       "      <td>WAS</td>\n",
       "      <td>Washington</td>\n",
       "      <td>646449</td>\n",
       "      <td>1000.0</td>\n",
       "      <td>1</td>\n",
       "    </tr>\n",
       "    <tr>\n",
       "      <th>95</th>\n",
       "      <td>2019</td>\n",
       "      <td>Damian Lillard</td>\n",
       "      <td>POR</td>\n",
       "      <td>Portland</td>\n",
       "      <td>66318</td>\n",
       "      <td>1050.0</td>\n",
       "      <td>1</td>\n",
       "    </tr>\n",
       "    <tr>\n",
       "      <th>96</th>\n",
       "      <td>2019</td>\n",
       "      <td>Dirk Nowitzki</td>\n",
       "      <td>DAL</td>\n",
       "      <td>Dallas</td>\n",
       "      <td>1257676</td>\n",
       "      <td>1450.0</td>\n",
       "      <td>1</td>\n",
       "    </tr>\n",
       "    <tr>\n",
       "      <th>97</th>\n",
       "      <td>2019</td>\n",
       "      <td>Dwyane Wade</td>\n",
       "      <td>MIA</td>\n",
       "      <td>Miami</td>\n",
       "      <td>417650</td>\n",
       "      <td>1350.0</td>\n",
       "      <td>1</td>\n",
       "    </tr>\n",
       "    <tr>\n",
       "      <th>98</th>\n",
       "      <td>2019</td>\n",
       "      <td>Giannis Antetokounmpo</td>\n",
       "      <td>MIL</td>\n",
       "      <td>Milwuakee</td>\n",
       "      <td>590952</td>\n",
       "      <td>785.0</td>\n",
       "      <td>1</td>\n",
       "    </tr>\n",
       "    <tr>\n",
       "      <th>99</th>\n",
       "      <td>2019</td>\n",
       "      <td>James Harden</td>\n",
       "      <td>HOU</td>\n",
       "      <td>Houston</td>\n",
       "      <td>2195914</td>\n",
       "      <td>1650.0</td>\n",
       "      <td>1</td>\n",
       "    </tr>\n",
       "    <tr>\n",
       "      <th>100</th>\n",
       "      <td>2019</td>\n",
       "      <td>Joel Embiid</td>\n",
       "      <td>PHI</td>\n",
       "      <td>Philadelphia</td>\n",
       "      <td>1553165</td>\n",
       "      <td>800.0</td>\n",
       "      <td>1</td>\n",
       "    </tr>\n",
       "    <tr>\n",
       "      <th>101</th>\n",
       "      <td>2019</td>\n",
       "      <td>Karl-Anthony Towns</td>\n",
       "      <td>MIN</td>\n",
       "      <td>Minneapolis</td>\n",
       "      <td>400070</td>\n",
       "      <td>770.0</td>\n",
       "      <td>1</td>\n",
       "    </tr>\n",
       "    <tr>\n",
       "      <th>102</th>\n",
       "      <td>2019</td>\n",
       "      <td>Kawhi Leonard</td>\n",
       "      <td>TOR</td>\n",
       "      <td>Toronto</td>\n",
       "      <td>3060000</td>\n",
       "      <td>1125.0</td>\n",
       "      <td>1</td>\n",
       "    </tr>\n",
       "    <tr>\n",
       "      <th>103</th>\n",
       "      <td>2019</td>\n",
       "      <td>Kevin Durant</td>\n",
       "      <td>GSW</td>\n",
       "      <td>San Francisco</td>\n",
       "      <td>837442</td>\n",
       "      <td>2600.0</td>\n",
       "      <td>1</td>\n",
       "    </tr>\n",
       "    <tr>\n",
       "      <th>104</th>\n",
       "      <td>2019</td>\n",
       "      <td>Khris Middleton</td>\n",
       "      <td>MIL</td>\n",
       "      <td>Milwuakee</td>\n",
       "      <td>590952</td>\n",
       "      <td>785.0</td>\n",
       "      <td>1</td>\n",
       "    </tr>\n",
       "    <tr>\n",
       "      <th>105</th>\n",
       "      <td>2019</td>\n",
       "      <td>Klay Thompson</td>\n",
       "      <td>GSW</td>\n",
       "      <td>San Francisco</td>\n",
       "      <td>837442</td>\n",
       "      <td>2600.0</td>\n",
       "      <td>1</td>\n",
       "    </tr>\n",
       "    <tr>\n",
       "      <th>106</th>\n",
       "      <td>2019</td>\n",
       "      <td>Kyle Lowry</td>\n",
       "      <td>TOR</td>\n",
       "      <td>Toronto</td>\n",
       "      <td>3060000</td>\n",
       "      <td>1125.0</td>\n",
       "      <td>1</td>\n",
       "    </tr>\n",
       "    <tr>\n",
       "      <th>107</th>\n",
       "      <td>2019</td>\n",
       "      <td>Kyrie Irving</td>\n",
       "      <td>BOS</td>\n",
       "      <td>Boston</td>\n",
       "      <td>645966</td>\n",
       "      <td>2200.0</td>\n",
       "      <td>1</td>\n",
       "    </tr>\n",
       "    <tr>\n",
       "      <th>108</th>\n",
       "      <td>2019</td>\n",
       "      <td>LaMarcus Aldridge</td>\n",
       "      <td>SAS</td>\n",
       "      <td>San Antonio</td>\n",
       "      <td>1409019</td>\n",
       "      <td>1175.0</td>\n",
       "      <td>1</td>\n",
       "    </tr>\n",
       "    <tr>\n",
       "      <th>109</th>\n",
       "      <td>2019</td>\n",
       "      <td>LeBron James</td>\n",
       "      <td>LAL</td>\n",
       "      <td>Los Angeles</td>\n",
       "      <td>3884307</td>\n",
       "      <td>3000.0</td>\n",
       "      <td>1</td>\n",
       "    </tr>\n",
       "    <tr>\n",
       "      <th>110</th>\n",
       "      <td>2019</td>\n",
       "      <td>Nikola Jokić</td>\n",
       "      <td>DEN</td>\n",
       "      <td>Denver</td>\n",
       "      <td>649495</td>\n",
       "      <td>890.0</td>\n",
       "      <td>1</td>\n",
       "    </tr>\n",
       "    <tr>\n",
       "      <th>111</th>\n",
       "      <td>2019</td>\n",
       "      <td>Nikola Vučević</td>\n",
       "      <td>ORL</td>\n",
       "      <td>Orlando</td>\n",
       "      <td>255483</td>\n",
       "      <td>920.0</td>\n",
       "      <td>1</td>\n",
       "    </tr>\n",
       "    <tr>\n",
       "      <th>112</th>\n",
       "      <td>2019</td>\n",
       "      <td>Paul George</td>\n",
       "      <td>OKC</td>\n",
       "      <td>Oklahoma City</td>\n",
       "      <td>610613</td>\n",
       "      <td>1025.0</td>\n",
       "      <td>1</td>\n",
       "    </tr>\n",
       "    <tr>\n",
       "      <th>113</th>\n",
       "      <td>2019</td>\n",
       "      <td>Russell Westbrook</td>\n",
       "      <td>OKC</td>\n",
       "      <td>Oklahoma City</td>\n",
       "      <td>610613</td>\n",
       "      <td>1025.0</td>\n",
       "      <td>1</td>\n",
       "    </tr>\n",
       "    <tr>\n",
       "      <th>114</th>\n",
       "      <td>2019</td>\n",
       "      <td>Stephen Curry</td>\n",
       "      <td>GSW</td>\n",
       "      <td>San Francisco</td>\n",
       "      <td>837442</td>\n",
       "      <td>2600.0</td>\n",
       "      <td>1</td>\n",
       "    </tr>\n",
       "    <tr>\n",
       "      <th>115</th>\n",
       "      <td>2019</td>\n",
       "      <td>Victor Oladipo</td>\n",
       "      <td>IND</td>\n",
       "      <td>Indianapolis</td>\n",
       "      <td>843393</td>\n",
       "      <td>880.0</td>\n",
       "      <td>1</td>\n",
       "    </tr>\n",
       "  </tbody>\n",
       "</table>\n",
       "</div>"
      ],
      "text/plain": [
       "     season                 player   tm           city  population  \\\n",
       "91     2019          Anthony Davis  NOP    New Orleans      378715   \n",
       "92     2019            Ben Simmons  PHI   Philadelphia     1553165   \n",
       "93     2019          Blake Griffin  DET        Detroit      688701   \n",
       "94     2019           Bradley Beal  WAS     Washington      646449   \n",
       "95     2019         Damian Lillard  POR       Portland       66318   \n",
       "96     2019          Dirk Nowitzki  DAL         Dallas     1257676   \n",
       "97     2019            Dwyane Wade  MIA          Miami      417650   \n",
       "98     2019  Giannis Antetokounmpo  MIL      Milwuakee      590952   \n",
       "99     2019           James Harden  HOU        Houston     2195914   \n",
       "100    2019            Joel Embiid  PHI   Philadelphia     1553165   \n",
       "101    2019     Karl-Anthony Towns  MIN    Minneapolis      400070   \n",
       "102    2019          Kawhi Leonard  TOR        Toronto     3060000   \n",
       "103    2019           Kevin Durant  GSW  San Francisco      837442   \n",
       "104    2019        Khris Middleton  MIL      Milwuakee      590952   \n",
       "105    2019          Klay Thompson  GSW  San Francisco      837442   \n",
       "106    2019             Kyle Lowry  TOR        Toronto     3060000   \n",
       "107    2019           Kyrie Irving  BOS         Boston      645966   \n",
       "108    2019      LaMarcus Aldridge  SAS    San Antonio     1409019   \n",
       "109    2019           LeBron James  LAL    Los Angeles     3884307   \n",
       "110    2019           Nikola Jokić  DEN         Denver      649495   \n",
       "111    2019         Nikola Vučević  ORL        Orlando      255483   \n",
       "112    2019            Paul George  OKC  Oklahoma City      610613   \n",
       "113    2019      Russell Westbrook  OKC  Oklahoma City      610613   \n",
       "114    2019          Stephen Curry  GSW  San Francisco      837442   \n",
       "115    2019         Victor Oladipo  IND   Indianapolis      843393   \n",
       "\n",
       "     team_valuation_2017  is-all-star  \n",
       "91                 750.0            1  \n",
       "92                 800.0            1  \n",
       "93                 900.0            1  \n",
       "94                1000.0            1  \n",
       "95                1050.0            1  \n",
       "96                1450.0            1  \n",
       "97                1350.0            1  \n",
       "98                 785.0            1  \n",
       "99                1650.0            1  \n",
       "100                800.0            1  \n",
       "101                770.0            1  \n",
       "102               1125.0            1  \n",
       "103               2600.0            1  \n",
       "104                785.0            1  \n",
       "105               2600.0            1  \n",
       "106               1125.0            1  \n",
       "107               2200.0            1  \n",
       "108               1175.0            1  \n",
       "109               3000.0            1  \n",
       "110                890.0            1  \n",
       "111                920.0            1  \n",
       "112               1025.0            1  \n",
       "113               1025.0            1  \n",
       "114               2600.0            1  \n",
       "115                880.0            1  "
      ]
     },
     "execution_count": 68,
     "metadata": {},
     "output_type": "execute_result"
    }
   ],
   "source": [
    "df_players_city_analysis_2019 = df_players_city_analysis[df_players_city_analysis[\"season\"] == 2019]\n",
    "df_players_city_analysis_2019"
   ]
  },
  {
   "cell_type": "code",
   "execution_count": 70,
   "id": "15c258d2-6953-4281-b84b-2e3a3ec462ce",
   "metadata": {},
   "outputs": [
    {
     "data": {
      "application/vnd.plotly.v1+json": {
       "config": {
        "plotlyServerURL": "https://plot.ly"
       },
       "data": [
        {
         "mode": "markers",
         "type": "scatter",
         "y": [
          378715,
          1553165,
          688701,
          646449,
          66318,
          1257676,
          417650,
          590952,
          2195914,
          1553165,
          400070,
          3060000,
          837442,
          590952,
          837442,
          3060000,
          645966,
          1409019,
          3884307,
          649495,
          255483,
          610613,
          610613,
          837442,
          843393
         ]
        }
       ],
       "layout": {
        "template": {
         "data": {
          "bar": [
           {
            "error_x": {
             "color": "#2a3f5f"
            },
            "error_y": {
             "color": "#2a3f5f"
            },
            "marker": {
             "line": {
              "color": "#E5ECF6",
              "width": 0.5
             },
             "pattern": {
              "fillmode": "overlay",
              "size": 10,
              "solidity": 0.2
             }
            },
            "type": "bar"
           }
          ],
          "barpolar": [
           {
            "marker": {
             "line": {
              "color": "#E5ECF6",
              "width": 0.5
             },
             "pattern": {
              "fillmode": "overlay",
              "size": 10,
              "solidity": 0.2
             }
            },
            "type": "barpolar"
           }
          ],
          "carpet": [
           {
            "aaxis": {
             "endlinecolor": "#2a3f5f",
             "gridcolor": "white",
             "linecolor": "white",
             "minorgridcolor": "white",
             "startlinecolor": "#2a3f5f"
            },
            "baxis": {
             "endlinecolor": "#2a3f5f",
             "gridcolor": "white",
             "linecolor": "white",
             "minorgridcolor": "white",
             "startlinecolor": "#2a3f5f"
            },
            "type": "carpet"
           }
          ],
          "choropleth": [
           {
            "colorbar": {
             "outlinewidth": 0,
             "ticks": ""
            },
            "type": "choropleth"
           }
          ],
          "contour": [
           {
            "colorbar": {
             "outlinewidth": 0,
             "ticks": ""
            },
            "colorscale": [
             [
              0,
              "#0d0887"
             ],
             [
              0.1111111111111111,
              "#46039f"
             ],
             [
              0.2222222222222222,
              "#7201a8"
             ],
             [
              0.3333333333333333,
              "#9c179e"
             ],
             [
              0.4444444444444444,
              "#bd3786"
             ],
             [
              0.5555555555555556,
              "#d8576b"
             ],
             [
              0.6666666666666666,
              "#ed7953"
             ],
             [
              0.7777777777777778,
              "#fb9f3a"
             ],
             [
              0.8888888888888888,
              "#fdca26"
             ],
             [
              1,
              "#f0f921"
             ]
            ],
            "type": "contour"
           }
          ],
          "contourcarpet": [
           {
            "colorbar": {
             "outlinewidth": 0,
             "ticks": ""
            },
            "type": "contourcarpet"
           }
          ],
          "heatmap": [
           {
            "colorbar": {
             "outlinewidth": 0,
             "ticks": ""
            },
            "colorscale": [
             [
              0,
              "#0d0887"
             ],
             [
              0.1111111111111111,
              "#46039f"
             ],
             [
              0.2222222222222222,
              "#7201a8"
             ],
             [
              0.3333333333333333,
              "#9c179e"
             ],
             [
              0.4444444444444444,
              "#bd3786"
             ],
             [
              0.5555555555555556,
              "#d8576b"
             ],
             [
              0.6666666666666666,
              "#ed7953"
             ],
             [
              0.7777777777777778,
              "#fb9f3a"
             ],
             [
              0.8888888888888888,
              "#fdca26"
             ],
             [
              1,
              "#f0f921"
             ]
            ],
            "type": "heatmap"
           }
          ],
          "heatmapgl": [
           {
            "colorbar": {
             "outlinewidth": 0,
             "ticks": ""
            },
            "colorscale": [
             [
              0,
              "#0d0887"
             ],
             [
              0.1111111111111111,
              "#46039f"
             ],
             [
              0.2222222222222222,
              "#7201a8"
             ],
             [
              0.3333333333333333,
              "#9c179e"
             ],
             [
              0.4444444444444444,
              "#bd3786"
             ],
             [
              0.5555555555555556,
              "#d8576b"
             ],
             [
              0.6666666666666666,
              "#ed7953"
             ],
             [
              0.7777777777777778,
              "#fb9f3a"
             ],
             [
              0.8888888888888888,
              "#fdca26"
             ],
             [
              1,
              "#f0f921"
             ]
            ],
            "type": "heatmapgl"
           }
          ],
          "histogram": [
           {
            "marker": {
             "pattern": {
              "fillmode": "overlay",
              "size": 10,
              "solidity": 0.2
             }
            },
            "type": "histogram"
           }
          ],
          "histogram2d": [
           {
            "colorbar": {
             "outlinewidth": 0,
             "ticks": ""
            },
            "colorscale": [
             [
              0,
              "#0d0887"
             ],
             [
              0.1111111111111111,
              "#46039f"
             ],
             [
              0.2222222222222222,
              "#7201a8"
             ],
             [
              0.3333333333333333,
              "#9c179e"
             ],
             [
              0.4444444444444444,
              "#bd3786"
             ],
             [
              0.5555555555555556,
              "#d8576b"
             ],
             [
              0.6666666666666666,
              "#ed7953"
             ],
             [
              0.7777777777777778,
              "#fb9f3a"
             ],
             [
              0.8888888888888888,
              "#fdca26"
             ],
             [
              1,
              "#f0f921"
             ]
            ],
            "type": "histogram2d"
           }
          ],
          "histogram2dcontour": [
           {
            "colorbar": {
             "outlinewidth": 0,
             "ticks": ""
            },
            "colorscale": [
             [
              0,
              "#0d0887"
             ],
             [
              0.1111111111111111,
              "#46039f"
             ],
             [
              0.2222222222222222,
              "#7201a8"
             ],
             [
              0.3333333333333333,
              "#9c179e"
             ],
             [
              0.4444444444444444,
              "#bd3786"
             ],
             [
              0.5555555555555556,
              "#d8576b"
             ],
             [
              0.6666666666666666,
              "#ed7953"
             ],
             [
              0.7777777777777778,
              "#fb9f3a"
             ],
             [
              0.8888888888888888,
              "#fdca26"
             ],
             [
              1,
              "#f0f921"
             ]
            ],
            "type": "histogram2dcontour"
           }
          ],
          "mesh3d": [
           {
            "colorbar": {
             "outlinewidth": 0,
             "ticks": ""
            },
            "type": "mesh3d"
           }
          ],
          "parcoords": [
           {
            "line": {
             "colorbar": {
              "outlinewidth": 0,
              "ticks": ""
             }
            },
            "type": "parcoords"
           }
          ],
          "pie": [
           {
            "automargin": true,
            "type": "pie"
           }
          ],
          "scatter": [
           {
            "fillpattern": {
             "fillmode": "overlay",
             "size": 10,
             "solidity": 0.2
            },
            "type": "scatter"
           }
          ],
          "scatter3d": [
           {
            "line": {
             "colorbar": {
              "outlinewidth": 0,
              "ticks": ""
             }
            },
            "marker": {
             "colorbar": {
              "outlinewidth": 0,
              "ticks": ""
             }
            },
            "type": "scatter3d"
           }
          ],
          "scattercarpet": [
           {
            "marker": {
             "colorbar": {
              "outlinewidth": 0,
              "ticks": ""
             }
            },
            "type": "scattercarpet"
           }
          ],
          "scattergeo": [
           {
            "marker": {
             "colorbar": {
              "outlinewidth": 0,
              "ticks": ""
             }
            },
            "type": "scattergeo"
           }
          ],
          "scattergl": [
           {
            "marker": {
             "colorbar": {
              "outlinewidth": 0,
              "ticks": ""
             }
            },
            "type": "scattergl"
           }
          ],
          "scattermapbox": [
           {
            "marker": {
             "colorbar": {
              "outlinewidth": 0,
              "ticks": ""
             }
            },
            "type": "scattermapbox"
           }
          ],
          "scatterpolar": [
           {
            "marker": {
             "colorbar": {
              "outlinewidth": 0,
              "ticks": ""
             }
            },
            "type": "scatterpolar"
           }
          ],
          "scatterpolargl": [
           {
            "marker": {
             "colorbar": {
              "outlinewidth": 0,
              "ticks": ""
             }
            },
            "type": "scatterpolargl"
           }
          ],
          "scatterternary": [
           {
            "marker": {
             "colorbar": {
              "outlinewidth": 0,
              "ticks": ""
             }
            },
            "type": "scatterternary"
           }
          ],
          "surface": [
           {
            "colorbar": {
             "outlinewidth": 0,
             "ticks": ""
            },
            "colorscale": [
             [
              0,
              "#0d0887"
             ],
             [
              0.1111111111111111,
              "#46039f"
             ],
             [
              0.2222222222222222,
              "#7201a8"
             ],
             [
              0.3333333333333333,
              "#9c179e"
             ],
             [
              0.4444444444444444,
              "#bd3786"
             ],
             [
              0.5555555555555556,
              "#d8576b"
             ],
             [
              0.6666666666666666,
              "#ed7953"
             ],
             [
              0.7777777777777778,
              "#fb9f3a"
             ],
             [
              0.8888888888888888,
              "#fdca26"
             ],
             [
              1,
              "#f0f921"
             ]
            ],
            "type": "surface"
           }
          ],
          "table": [
           {
            "cells": {
             "fill": {
              "color": "#EBF0F8"
             },
             "line": {
              "color": "white"
             }
            },
            "header": {
             "fill": {
              "color": "#C8D4E3"
             },
             "line": {
              "color": "white"
             }
            },
            "type": "table"
           }
          ]
         },
         "layout": {
          "annotationdefaults": {
           "arrowcolor": "#2a3f5f",
           "arrowhead": 0,
           "arrowwidth": 1
          },
          "autotypenumbers": "strict",
          "coloraxis": {
           "colorbar": {
            "outlinewidth": 0,
            "ticks": ""
           }
          },
          "colorscale": {
           "diverging": [
            [
             0,
             "#8e0152"
            ],
            [
             0.1,
             "#c51b7d"
            ],
            [
             0.2,
             "#de77ae"
            ],
            [
             0.3,
             "#f1b6da"
            ],
            [
             0.4,
             "#fde0ef"
            ],
            [
             0.5,
             "#f7f7f7"
            ],
            [
             0.6,
             "#e6f5d0"
            ],
            [
             0.7,
             "#b8e186"
            ],
            [
             0.8,
             "#7fbc41"
            ],
            [
             0.9,
             "#4d9221"
            ],
            [
             1,
             "#276419"
            ]
           ],
           "sequential": [
            [
             0,
             "#0d0887"
            ],
            [
             0.1111111111111111,
             "#46039f"
            ],
            [
             0.2222222222222222,
             "#7201a8"
            ],
            [
             0.3333333333333333,
             "#9c179e"
            ],
            [
             0.4444444444444444,
             "#bd3786"
            ],
            [
             0.5555555555555556,
             "#d8576b"
            ],
            [
             0.6666666666666666,
             "#ed7953"
            ],
            [
             0.7777777777777778,
             "#fb9f3a"
            ],
            [
             0.8888888888888888,
             "#fdca26"
            ],
            [
             1,
             "#f0f921"
            ]
           ],
           "sequentialminus": [
            [
             0,
             "#0d0887"
            ],
            [
             0.1111111111111111,
             "#46039f"
            ],
            [
             0.2222222222222222,
             "#7201a8"
            ],
            [
             0.3333333333333333,
             "#9c179e"
            ],
            [
             0.4444444444444444,
             "#bd3786"
            ],
            [
             0.5555555555555556,
             "#d8576b"
            ],
            [
             0.6666666666666666,
             "#ed7953"
            ],
            [
             0.7777777777777778,
             "#fb9f3a"
            ],
            [
             0.8888888888888888,
             "#fdca26"
            ],
            [
             1,
             "#f0f921"
            ]
           ]
          },
          "colorway": [
           "#636efa",
           "#EF553B",
           "#00cc96",
           "#ab63fa",
           "#FFA15A",
           "#19d3f3",
           "#FF6692",
           "#B6E880",
           "#FF97FF",
           "#FECB52"
          ],
          "font": {
           "color": "#2a3f5f"
          },
          "geo": {
           "bgcolor": "white",
           "lakecolor": "white",
           "landcolor": "#E5ECF6",
           "showlakes": true,
           "showland": true,
           "subunitcolor": "white"
          },
          "hoverlabel": {
           "align": "left"
          },
          "hovermode": "closest",
          "mapbox": {
           "style": "light"
          },
          "paper_bgcolor": "white",
          "plot_bgcolor": "#E5ECF6",
          "polar": {
           "angularaxis": {
            "gridcolor": "white",
            "linecolor": "white",
            "ticks": ""
           },
           "bgcolor": "#E5ECF6",
           "radialaxis": {
            "gridcolor": "white",
            "linecolor": "white",
            "ticks": ""
           }
          },
          "scene": {
           "xaxis": {
            "backgroundcolor": "#E5ECF6",
            "gridcolor": "white",
            "gridwidth": 2,
            "linecolor": "white",
            "showbackground": true,
            "ticks": "",
            "zerolinecolor": "white"
           },
           "yaxis": {
            "backgroundcolor": "#E5ECF6",
            "gridcolor": "white",
            "gridwidth": 2,
            "linecolor": "white",
            "showbackground": true,
            "ticks": "",
            "zerolinecolor": "white"
           },
           "zaxis": {
            "backgroundcolor": "#E5ECF6",
            "gridcolor": "white",
            "gridwidth": 2,
            "linecolor": "white",
            "showbackground": true,
            "ticks": "",
            "zerolinecolor": "white"
           }
          },
          "shapedefaults": {
           "line": {
            "color": "#2a3f5f"
           }
          },
          "ternary": {
           "aaxis": {
            "gridcolor": "white",
            "linecolor": "white",
            "ticks": ""
           },
           "baxis": {
            "gridcolor": "white",
            "linecolor": "white",
            "ticks": ""
           },
           "bgcolor": "#E5ECF6",
           "caxis": {
            "gridcolor": "white",
            "linecolor": "white",
            "ticks": ""
           }
          },
          "title": {
           "x": 0.05
          },
          "xaxis": {
           "automargin": true,
           "gridcolor": "white",
           "linecolor": "white",
           "ticks": "",
           "title": {
            "standoff": 15
           },
           "zerolinecolor": "white",
           "zerolinewidth": 2
          },
          "yaxis": {
           "automargin": true,
           "gridcolor": "white",
           "linecolor": "white",
           "ticks": "",
           "title": {
            "standoff": 15
           },
           "zerolinecolor": "white",
           "zerolinewidth": 2
          }
         }
        }
       }
      },
      "text/html": [
       "<div>                            <div id=\"aba2b670-25f2-4dfc-9fb2-bdb60b16774b\" class=\"plotly-graph-div\" style=\"height:525px; width:100%;\"></div>            <script type=\"text/javascript\">                require([\"plotly\"], function(Plotly) {                    window.PLOTLYENV=window.PLOTLYENV || {};                                    if (document.getElementById(\"aba2b670-25f2-4dfc-9fb2-bdb60b16774b\")) {                    Plotly.newPlot(                        \"aba2b670-25f2-4dfc-9fb2-bdb60b16774b\",                        [{\"mode\":\"markers\",\"y\":[378715,1553165,688701,646449,66318,1257676,417650,590952,2195914,1553165,400070,3060000,837442,590952,837442,3060000,645966,1409019,3884307,649495,255483,610613,610613,837442,843393],\"type\":\"scatter\"}],                        {\"template\":{\"data\":{\"histogram2dcontour\":[{\"type\":\"histogram2dcontour\",\"colorbar\":{\"outlinewidth\":0,\"ticks\":\"\"},\"colorscale\":[[0.0,\"#0d0887\"],[0.1111111111111111,\"#46039f\"],[0.2222222222222222,\"#7201a8\"],[0.3333333333333333,\"#9c179e\"],[0.4444444444444444,\"#bd3786\"],[0.5555555555555556,\"#d8576b\"],[0.6666666666666666,\"#ed7953\"],[0.7777777777777778,\"#fb9f3a\"],[0.8888888888888888,\"#fdca26\"],[1.0,\"#f0f921\"]]}],\"choropleth\":[{\"type\":\"choropleth\",\"colorbar\":{\"outlinewidth\":0,\"ticks\":\"\"}}],\"histogram2d\":[{\"type\":\"histogram2d\",\"colorbar\":{\"outlinewidth\":0,\"ticks\":\"\"},\"colorscale\":[[0.0,\"#0d0887\"],[0.1111111111111111,\"#46039f\"],[0.2222222222222222,\"#7201a8\"],[0.3333333333333333,\"#9c179e\"],[0.4444444444444444,\"#bd3786\"],[0.5555555555555556,\"#d8576b\"],[0.6666666666666666,\"#ed7953\"],[0.7777777777777778,\"#fb9f3a\"],[0.8888888888888888,\"#fdca26\"],[1.0,\"#f0f921\"]]}],\"heatmap\":[{\"type\":\"heatmap\",\"colorbar\":{\"outlinewidth\":0,\"ticks\":\"\"},\"colorscale\":[[0.0,\"#0d0887\"],[0.1111111111111111,\"#46039f\"],[0.2222222222222222,\"#7201a8\"],[0.3333333333333333,\"#9c179e\"],[0.4444444444444444,\"#bd3786\"],[0.5555555555555556,\"#d8576b\"],[0.6666666666666666,\"#ed7953\"],[0.7777777777777778,\"#fb9f3a\"],[0.8888888888888888,\"#fdca26\"],[1.0,\"#f0f921\"]]}],\"heatmapgl\":[{\"type\":\"heatmapgl\",\"colorbar\":{\"outlinewidth\":0,\"ticks\":\"\"},\"colorscale\":[[0.0,\"#0d0887\"],[0.1111111111111111,\"#46039f\"],[0.2222222222222222,\"#7201a8\"],[0.3333333333333333,\"#9c179e\"],[0.4444444444444444,\"#bd3786\"],[0.5555555555555556,\"#d8576b\"],[0.6666666666666666,\"#ed7953\"],[0.7777777777777778,\"#fb9f3a\"],[0.8888888888888888,\"#fdca26\"],[1.0,\"#f0f921\"]]}],\"contourcarpet\":[{\"type\":\"contourcarpet\",\"colorbar\":{\"outlinewidth\":0,\"ticks\":\"\"}}],\"contour\":[{\"type\":\"contour\",\"colorbar\":{\"outlinewidth\":0,\"ticks\":\"\"},\"colorscale\":[[0.0,\"#0d0887\"],[0.1111111111111111,\"#46039f\"],[0.2222222222222222,\"#7201a8\"],[0.3333333333333333,\"#9c179e\"],[0.4444444444444444,\"#bd3786\"],[0.5555555555555556,\"#d8576b\"],[0.6666666666666666,\"#ed7953\"],[0.7777777777777778,\"#fb9f3a\"],[0.8888888888888888,\"#fdca26\"],[1.0,\"#f0f921\"]]}],\"surface\":[{\"type\":\"surface\",\"colorbar\":{\"outlinewidth\":0,\"ticks\":\"\"},\"colorscale\":[[0.0,\"#0d0887\"],[0.1111111111111111,\"#46039f\"],[0.2222222222222222,\"#7201a8\"],[0.3333333333333333,\"#9c179e\"],[0.4444444444444444,\"#bd3786\"],[0.5555555555555556,\"#d8576b\"],[0.6666666666666666,\"#ed7953\"],[0.7777777777777778,\"#fb9f3a\"],[0.8888888888888888,\"#fdca26\"],[1.0,\"#f0f921\"]]}],\"mesh3d\":[{\"type\":\"mesh3d\",\"colorbar\":{\"outlinewidth\":0,\"ticks\":\"\"}}],\"scatter\":[{\"fillpattern\":{\"fillmode\":\"overlay\",\"size\":10,\"solidity\":0.2},\"type\":\"scatter\"}],\"parcoords\":[{\"type\":\"parcoords\",\"line\":{\"colorbar\":{\"outlinewidth\":0,\"ticks\":\"\"}}}],\"scatterpolargl\":[{\"type\":\"scatterpolargl\",\"marker\":{\"colorbar\":{\"outlinewidth\":0,\"ticks\":\"\"}}}],\"bar\":[{\"error_x\":{\"color\":\"#2a3f5f\"},\"error_y\":{\"color\":\"#2a3f5f\"},\"marker\":{\"line\":{\"color\":\"#E5ECF6\",\"width\":0.5},\"pattern\":{\"fillmode\":\"overlay\",\"size\":10,\"solidity\":0.2}},\"type\":\"bar\"}],\"scattergeo\":[{\"type\":\"scattergeo\",\"marker\":{\"colorbar\":{\"outlinewidth\":0,\"ticks\":\"\"}}}],\"scatterpolar\":[{\"type\":\"scatterpolar\",\"marker\":{\"colorbar\":{\"outlinewidth\":0,\"ticks\":\"\"}}}],\"histogram\":[{\"marker\":{\"pattern\":{\"fillmode\":\"overlay\",\"size\":10,\"solidity\":0.2}},\"type\":\"histogram\"}],\"scattergl\":[{\"type\":\"scattergl\",\"marker\":{\"colorbar\":{\"outlinewidth\":0,\"ticks\":\"\"}}}],\"scatter3d\":[{\"type\":\"scatter3d\",\"line\":{\"colorbar\":{\"outlinewidth\":0,\"ticks\":\"\"}},\"marker\":{\"colorbar\":{\"outlinewidth\":0,\"ticks\":\"\"}}}],\"scattermapbox\":[{\"type\":\"scattermapbox\",\"marker\":{\"colorbar\":{\"outlinewidth\":0,\"ticks\":\"\"}}}],\"scatterternary\":[{\"type\":\"scatterternary\",\"marker\":{\"colorbar\":{\"outlinewidth\":0,\"ticks\":\"\"}}}],\"scattercarpet\":[{\"type\":\"scattercarpet\",\"marker\":{\"colorbar\":{\"outlinewidth\":0,\"ticks\":\"\"}}}],\"carpet\":[{\"aaxis\":{\"endlinecolor\":\"#2a3f5f\",\"gridcolor\":\"white\",\"linecolor\":\"white\",\"minorgridcolor\":\"white\",\"startlinecolor\":\"#2a3f5f\"},\"baxis\":{\"endlinecolor\":\"#2a3f5f\",\"gridcolor\":\"white\",\"linecolor\":\"white\",\"minorgridcolor\":\"white\",\"startlinecolor\":\"#2a3f5f\"},\"type\":\"carpet\"}],\"table\":[{\"cells\":{\"fill\":{\"color\":\"#EBF0F8\"},\"line\":{\"color\":\"white\"}},\"header\":{\"fill\":{\"color\":\"#C8D4E3\"},\"line\":{\"color\":\"white\"}},\"type\":\"table\"}],\"barpolar\":[{\"marker\":{\"line\":{\"color\":\"#E5ECF6\",\"width\":0.5},\"pattern\":{\"fillmode\":\"overlay\",\"size\":10,\"solidity\":0.2}},\"type\":\"barpolar\"}],\"pie\":[{\"automargin\":true,\"type\":\"pie\"}]},\"layout\":{\"autotypenumbers\":\"strict\",\"colorway\":[\"#636efa\",\"#EF553B\",\"#00cc96\",\"#ab63fa\",\"#FFA15A\",\"#19d3f3\",\"#FF6692\",\"#B6E880\",\"#FF97FF\",\"#FECB52\"],\"font\":{\"color\":\"#2a3f5f\"},\"hovermode\":\"closest\",\"hoverlabel\":{\"align\":\"left\"},\"paper_bgcolor\":\"white\",\"plot_bgcolor\":\"#E5ECF6\",\"polar\":{\"bgcolor\":\"#E5ECF6\",\"angularaxis\":{\"gridcolor\":\"white\",\"linecolor\":\"white\",\"ticks\":\"\"},\"radialaxis\":{\"gridcolor\":\"white\",\"linecolor\":\"white\",\"ticks\":\"\"}},\"ternary\":{\"bgcolor\":\"#E5ECF6\",\"aaxis\":{\"gridcolor\":\"white\",\"linecolor\":\"white\",\"ticks\":\"\"},\"baxis\":{\"gridcolor\":\"white\",\"linecolor\":\"white\",\"ticks\":\"\"},\"caxis\":{\"gridcolor\":\"white\",\"linecolor\":\"white\",\"ticks\":\"\"}},\"coloraxis\":{\"colorbar\":{\"outlinewidth\":0,\"ticks\":\"\"}},\"colorscale\":{\"sequential\":[[0.0,\"#0d0887\"],[0.1111111111111111,\"#46039f\"],[0.2222222222222222,\"#7201a8\"],[0.3333333333333333,\"#9c179e\"],[0.4444444444444444,\"#bd3786\"],[0.5555555555555556,\"#d8576b\"],[0.6666666666666666,\"#ed7953\"],[0.7777777777777778,\"#fb9f3a\"],[0.8888888888888888,\"#fdca26\"],[1.0,\"#f0f921\"]],\"sequentialminus\":[[0.0,\"#0d0887\"],[0.1111111111111111,\"#46039f\"],[0.2222222222222222,\"#7201a8\"],[0.3333333333333333,\"#9c179e\"],[0.4444444444444444,\"#bd3786\"],[0.5555555555555556,\"#d8576b\"],[0.6666666666666666,\"#ed7953\"],[0.7777777777777778,\"#fb9f3a\"],[0.8888888888888888,\"#fdca26\"],[1.0,\"#f0f921\"]],\"diverging\":[[0,\"#8e0152\"],[0.1,\"#c51b7d\"],[0.2,\"#de77ae\"],[0.3,\"#f1b6da\"],[0.4,\"#fde0ef\"],[0.5,\"#f7f7f7\"],[0.6,\"#e6f5d0\"],[0.7,\"#b8e186\"],[0.8,\"#7fbc41\"],[0.9,\"#4d9221\"],[1,\"#276419\"]]},\"xaxis\":{\"gridcolor\":\"white\",\"linecolor\":\"white\",\"ticks\":\"\",\"title\":{\"standoff\":15},\"zerolinecolor\":\"white\",\"automargin\":true,\"zerolinewidth\":2},\"yaxis\":{\"gridcolor\":\"white\",\"linecolor\":\"white\",\"ticks\":\"\",\"title\":{\"standoff\":15},\"zerolinecolor\":\"white\",\"automargin\":true,\"zerolinewidth\":2},\"scene\":{\"xaxis\":{\"backgroundcolor\":\"#E5ECF6\",\"gridcolor\":\"white\",\"linecolor\":\"white\",\"showbackground\":true,\"ticks\":\"\",\"zerolinecolor\":\"white\",\"gridwidth\":2},\"yaxis\":{\"backgroundcolor\":\"#E5ECF6\",\"gridcolor\":\"white\",\"linecolor\":\"white\",\"showbackground\":true,\"ticks\":\"\",\"zerolinecolor\":\"white\",\"gridwidth\":2},\"zaxis\":{\"backgroundcolor\":\"#E5ECF6\",\"gridcolor\":\"white\",\"linecolor\":\"white\",\"showbackground\":true,\"ticks\":\"\",\"zerolinecolor\":\"white\",\"gridwidth\":2}},\"shapedefaults\":{\"line\":{\"color\":\"#2a3f5f\"}},\"annotationdefaults\":{\"arrowcolor\":\"#2a3f5f\",\"arrowhead\":0,\"arrowwidth\":1},\"geo\":{\"bgcolor\":\"white\",\"landcolor\":\"#E5ECF6\",\"subunitcolor\":\"white\",\"showland\":true,\"showlakes\":true,\"lakecolor\":\"white\"},\"title\":{\"x\":0.05},\"mapbox\":{\"style\":\"light\"}}}},                        {\"responsive\": true}                    ).then(function(){\n",
       "                            \n",
       "var gd = document.getElementById('aba2b670-25f2-4dfc-9fb2-bdb60b16774b');\n",
       "var x = new MutationObserver(function (mutations, observer) {{\n",
       "        var display = window.getComputedStyle(gd).display;\n",
       "        if (!display || display === 'none') {{\n",
       "            console.log([gd, 'removed!']);\n",
       "            Plotly.purge(gd);\n",
       "            observer.disconnect();\n",
       "        }}\n",
       "}});\n",
       "\n",
       "// Listen for the removal of the full notebook cells\n",
       "var notebookContainer = gd.closest('#notebook-container');\n",
       "if (notebookContainer) {{\n",
       "    x.observe(notebookContainer, {childList: true});\n",
       "}}\n",
       "\n",
       "// Listen for the clearing of the current output cell\n",
       "var outputEl = gd.closest('.output');\n",
       "if (outputEl) {{\n",
       "    x.observe(outputEl, {childList: true});\n",
       "}}\n",
       "\n",
       "                        })                };                });            </script>        </div>"
      ]
     },
     "metadata": {},
     "output_type": "display_data"
    }
   ],
   "source": [
    "population_fig = go.Figure(data=go.Scatter(y=df_players_city_analysis_2019[\"population\"], mode='markers'))\n",
    "population_fig.show()"
   ]
  },
  {
   "cell_type": "markdown",
   "id": "586d14ff-42f1-4709-813a-ce1c0b69dc1f",
   "metadata": {},
   "source": [
    "### Valuation graph for 2017 all-stars"
   ]
  },
  {
   "cell_type": "code",
   "execution_count": 71,
   "id": "0fe0bfa1-f001-4494-9b57-37c9e4639da1",
   "metadata": {},
   "outputs": [
    {
     "data": {
      "text/html": [
       "<div>\n",
       "<style scoped>\n",
       "    .dataframe tbody tr th:only-of-type {\n",
       "        vertical-align: middle;\n",
       "    }\n",
       "\n",
       "    .dataframe tbody tr th {\n",
       "        vertical-align: top;\n",
       "    }\n",
       "\n",
       "    .dataframe thead th {\n",
       "        text-align: right;\n",
       "    }\n",
       "</style>\n",
       "<table border=\"1\" class=\"dataframe\">\n",
       "  <thead>\n",
       "    <tr style=\"text-align: right;\">\n",
       "      <th></th>\n",
       "      <th>season</th>\n",
       "      <th>player</th>\n",
       "      <th>tm</th>\n",
       "      <th>city</th>\n",
       "      <th>population</th>\n",
       "      <th>team_valuation_2017</th>\n",
       "      <th>is-all-star</th>\n",
       "    </tr>\n",
       "  </thead>\n",
       "  <tbody>\n",
       "    <tr>\n",
       "      <th>143</th>\n",
       "      <td>2017</td>\n",
       "      <td>Anthony Davis</td>\n",
       "      <td>NOP</td>\n",
       "      <td>New Orleans</td>\n",
       "      <td>378715</td>\n",
       "      <td>750.0</td>\n",
       "      <td>1</td>\n",
       "    </tr>\n",
       "    <tr>\n",
       "      <th>144</th>\n",
       "      <td>2017</td>\n",
       "      <td>Carmelo Anthony</td>\n",
       "      <td>NYK</td>\n",
       "      <td>New York</td>\n",
       "      <td>8405837</td>\n",
       "      <td>3300.0</td>\n",
       "      <td>1</td>\n",
       "    </tr>\n",
       "    <tr>\n",
       "      <th>145</th>\n",
       "      <td>2017</td>\n",
       "      <td>DeAndre Jordan</td>\n",
       "      <td>LAC</td>\n",
       "      <td>Los Angeles</td>\n",
       "      <td>3884307</td>\n",
       "      <td>2000.0</td>\n",
       "      <td>1</td>\n",
       "    </tr>\n",
       "    <tr>\n",
       "      <th>146</th>\n",
       "      <td>2017</td>\n",
       "      <td>DeMar DeRozan</td>\n",
       "      <td>TOR</td>\n",
       "      <td>Toronto</td>\n",
       "      <td>3060000</td>\n",
       "      <td>1125.0</td>\n",
       "      <td>1</td>\n",
       "    </tr>\n",
       "    <tr>\n",
       "      <th>147</th>\n",
       "      <td>2017</td>\n",
       "      <td>Draymond Green</td>\n",
       "      <td>GSW</td>\n",
       "      <td>San Francisco</td>\n",
       "      <td>837442</td>\n",
       "      <td>2600.0</td>\n",
       "      <td>1</td>\n",
       "    </tr>\n",
       "    <tr>\n",
       "      <th>148</th>\n",
       "      <td>2017</td>\n",
       "      <td>Giannis Antetokounmpo</td>\n",
       "      <td>MIL</td>\n",
       "      <td>Milwuakee</td>\n",
       "      <td>590952</td>\n",
       "      <td>785.0</td>\n",
       "      <td>1</td>\n",
       "    </tr>\n",
       "    <tr>\n",
       "      <th>149</th>\n",
       "      <td>2017</td>\n",
       "      <td>Gordon Hayward</td>\n",
       "      <td>UTA</td>\n",
       "      <td>Salt Lake City</td>\n",
       "      <td>191180</td>\n",
       "      <td>910.0</td>\n",
       "      <td>1</td>\n",
       "    </tr>\n",
       "    <tr>\n",
       "      <th>150</th>\n",
       "      <td>2017</td>\n",
       "      <td>Isaiah Thomas</td>\n",
       "      <td>BOS</td>\n",
       "      <td>Boston</td>\n",
       "      <td>645966</td>\n",
       "      <td>2200.0</td>\n",
       "      <td>1</td>\n",
       "    </tr>\n",
       "    <tr>\n",
       "      <th>151</th>\n",
       "      <td>2017</td>\n",
       "      <td>James Harden</td>\n",
       "      <td>HOU</td>\n",
       "      <td>Houston</td>\n",
       "      <td>2195914</td>\n",
       "      <td>1650.0</td>\n",
       "      <td>1</td>\n",
       "    </tr>\n",
       "    <tr>\n",
       "      <th>152</th>\n",
       "      <td>2017</td>\n",
       "      <td>Jimmy Butler</td>\n",
       "      <td>CHI</td>\n",
       "      <td>Chicago</td>\n",
       "      <td>2718782</td>\n",
       "      <td>2500.0</td>\n",
       "      <td>1</td>\n",
       "    </tr>\n",
       "    <tr>\n",
       "      <th>153</th>\n",
       "      <td>2017</td>\n",
       "      <td>John Wall</td>\n",
       "      <td>WAS</td>\n",
       "      <td>Washington</td>\n",
       "      <td>646449</td>\n",
       "      <td>1000.0</td>\n",
       "      <td>1</td>\n",
       "    </tr>\n",
       "    <tr>\n",
       "      <th>154</th>\n",
       "      <td>2017</td>\n",
       "      <td>Kawhi Leonard</td>\n",
       "      <td>SAS</td>\n",
       "      <td>San Antonio</td>\n",
       "      <td>1409019</td>\n",
       "      <td>1175.0</td>\n",
       "      <td>1</td>\n",
       "    </tr>\n",
       "    <tr>\n",
       "      <th>155</th>\n",
       "      <td>2017</td>\n",
       "      <td>Kevin Durant</td>\n",
       "      <td>GSW</td>\n",
       "      <td>San Francisco</td>\n",
       "      <td>837442</td>\n",
       "      <td>2600.0</td>\n",
       "      <td>1</td>\n",
       "    </tr>\n",
       "    <tr>\n",
       "      <th>156</th>\n",
       "      <td>2017</td>\n",
       "      <td>Kevin Love</td>\n",
       "      <td>CLE</td>\n",
       "      <td>Cleveland</td>\n",
       "      <td>42774</td>\n",
       "      <td>1200.0</td>\n",
       "      <td>1</td>\n",
       "    </tr>\n",
       "    <tr>\n",
       "      <th>157</th>\n",
       "      <td>2017</td>\n",
       "      <td>Klay Thompson</td>\n",
       "      <td>GSW</td>\n",
       "      <td>San Francisco</td>\n",
       "      <td>837442</td>\n",
       "      <td>2600.0</td>\n",
       "      <td>1</td>\n",
       "    </tr>\n",
       "    <tr>\n",
       "      <th>158</th>\n",
       "      <td>2017</td>\n",
       "      <td>Kyle Lowry</td>\n",
       "      <td>TOR</td>\n",
       "      <td>Toronto</td>\n",
       "      <td>3060000</td>\n",
       "      <td>1125.0</td>\n",
       "      <td>1</td>\n",
       "    </tr>\n",
       "    <tr>\n",
       "      <th>159</th>\n",
       "      <td>2017</td>\n",
       "      <td>Kyrie Irving</td>\n",
       "      <td>CLE</td>\n",
       "      <td>Cleveland</td>\n",
       "      <td>42774</td>\n",
       "      <td>1200.0</td>\n",
       "      <td>1</td>\n",
       "    </tr>\n",
       "    <tr>\n",
       "      <th>160</th>\n",
       "      <td>2017</td>\n",
       "      <td>LeBron James</td>\n",
       "      <td>CLE</td>\n",
       "      <td>Cleveland</td>\n",
       "      <td>42774</td>\n",
       "      <td>1200.0</td>\n",
       "      <td>1</td>\n",
       "    </tr>\n",
       "    <tr>\n",
       "      <th>161</th>\n",
       "      <td>2017</td>\n",
       "      <td>Marc Gasol</td>\n",
       "      <td>MEM</td>\n",
       "      <td>Memphis</td>\n",
       "      <td>653450</td>\n",
       "      <td>790.0</td>\n",
       "      <td>1</td>\n",
       "    </tr>\n",
       "    <tr>\n",
       "      <th>162</th>\n",
       "      <td>2017</td>\n",
       "      <td>Paul George</td>\n",
       "      <td>IND</td>\n",
       "      <td>Indianapolis</td>\n",
       "      <td>843393</td>\n",
       "      <td>880.0</td>\n",
       "      <td>1</td>\n",
       "    </tr>\n",
       "    <tr>\n",
       "      <th>163</th>\n",
       "      <td>2017</td>\n",
       "      <td>Paul Millsap</td>\n",
       "      <td>ATL</td>\n",
       "      <td>Atlanta</td>\n",
       "      <td>447841</td>\n",
       "      <td>885.0</td>\n",
       "      <td>1</td>\n",
       "    </tr>\n",
       "    <tr>\n",
       "      <th>164</th>\n",
       "      <td>2017</td>\n",
       "      <td>Russell Westbrook</td>\n",
       "      <td>OKC</td>\n",
       "      <td>Oklahoma City</td>\n",
       "      <td>610613</td>\n",
       "      <td>1025.0</td>\n",
       "      <td>1</td>\n",
       "    </tr>\n",
       "    <tr>\n",
       "      <th>165</th>\n",
       "      <td>2017</td>\n",
       "      <td>Stephen Curry</td>\n",
       "      <td>GSW</td>\n",
       "      <td>San Francisco</td>\n",
       "      <td>837442</td>\n",
       "      <td>2600.0</td>\n",
       "      <td>1</td>\n",
       "    </tr>\n",
       "  </tbody>\n",
       "</table>\n",
       "</div>"
      ],
      "text/plain": [
       "     season                 player   tm            city  population  \\\n",
       "143    2017          Anthony Davis  NOP     New Orleans      378715   \n",
       "144    2017        Carmelo Anthony  NYK        New York     8405837   \n",
       "145    2017         DeAndre Jordan  LAC     Los Angeles     3884307   \n",
       "146    2017          DeMar DeRozan  TOR         Toronto     3060000   \n",
       "147    2017         Draymond Green  GSW   San Francisco      837442   \n",
       "148    2017  Giannis Antetokounmpo  MIL       Milwuakee      590952   \n",
       "149    2017         Gordon Hayward  UTA  Salt Lake City      191180   \n",
       "150    2017          Isaiah Thomas  BOS          Boston      645966   \n",
       "151    2017           James Harden  HOU         Houston     2195914   \n",
       "152    2017           Jimmy Butler  CHI         Chicago     2718782   \n",
       "153    2017              John Wall  WAS      Washington      646449   \n",
       "154    2017          Kawhi Leonard  SAS     San Antonio     1409019   \n",
       "155    2017           Kevin Durant  GSW   San Francisco      837442   \n",
       "156    2017             Kevin Love  CLE       Cleveland       42774   \n",
       "157    2017          Klay Thompson  GSW   San Francisco      837442   \n",
       "158    2017             Kyle Lowry  TOR         Toronto     3060000   \n",
       "159    2017           Kyrie Irving  CLE       Cleveland       42774   \n",
       "160    2017           LeBron James  CLE       Cleveland       42774   \n",
       "161    2017             Marc Gasol  MEM         Memphis      653450   \n",
       "162    2017            Paul George  IND    Indianapolis      843393   \n",
       "163    2017           Paul Millsap  ATL         Atlanta      447841   \n",
       "164    2017      Russell Westbrook  OKC   Oklahoma City      610613   \n",
       "165    2017          Stephen Curry  GSW   San Francisco      837442   \n",
       "\n",
       "     team_valuation_2017  is-all-star  \n",
       "143                750.0            1  \n",
       "144               3300.0            1  \n",
       "145               2000.0            1  \n",
       "146               1125.0            1  \n",
       "147               2600.0            1  \n",
       "148                785.0            1  \n",
       "149                910.0            1  \n",
       "150               2200.0            1  \n",
       "151               1650.0            1  \n",
       "152               2500.0            1  \n",
       "153               1000.0            1  \n",
       "154               1175.0            1  \n",
       "155               2600.0            1  \n",
       "156               1200.0            1  \n",
       "157               2600.0            1  \n",
       "158               1125.0            1  \n",
       "159               1200.0            1  \n",
       "160               1200.0            1  \n",
       "161                790.0            1  \n",
       "162                880.0            1  \n",
       "163                885.0            1  \n",
       "164               1025.0            1  \n",
       "165               2600.0            1  "
      ]
     },
     "execution_count": 71,
     "metadata": {},
     "output_type": "execute_result"
    }
   ],
   "source": [
    "df_players_val_analysis_2017 = df_players_city_analysis[df_players_city_analysis[\"season\"] == 2017]\n",
    "df_players_val_analysis_2017"
   ]
  },
  {
   "cell_type": "code",
   "execution_count": 72,
   "id": "1b97b378-0e22-4425-a959-a4734cc6af10",
   "metadata": {},
   "outputs": [
    {
     "data": {
      "application/vnd.plotly.v1+json": {
       "config": {
        "plotlyServerURL": "https://plot.ly"
       },
       "data": [
        {
         "mode": "markers",
         "type": "scatter",
         "y": [
          750,
          3300,
          2000,
          1125,
          2600,
          785,
          910,
          2200,
          1650,
          2500,
          1000,
          1175,
          2600,
          1200,
          2600,
          1125,
          1200,
          1200,
          790,
          880,
          885,
          1025,
          2600
         ]
        }
       ],
       "layout": {
        "template": {
         "data": {
          "bar": [
           {
            "error_x": {
             "color": "#2a3f5f"
            },
            "error_y": {
             "color": "#2a3f5f"
            },
            "marker": {
             "line": {
              "color": "#E5ECF6",
              "width": 0.5
             },
             "pattern": {
              "fillmode": "overlay",
              "size": 10,
              "solidity": 0.2
             }
            },
            "type": "bar"
           }
          ],
          "barpolar": [
           {
            "marker": {
             "line": {
              "color": "#E5ECF6",
              "width": 0.5
             },
             "pattern": {
              "fillmode": "overlay",
              "size": 10,
              "solidity": 0.2
             }
            },
            "type": "barpolar"
           }
          ],
          "carpet": [
           {
            "aaxis": {
             "endlinecolor": "#2a3f5f",
             "gridcolor": "white",
             "linecolor": "white",
             "minorgridcolor": "white",
             "startlinecolor": "#2a3f5f"
            },
            "baxis": {
             "endlinecolor": "#2a3f5f",
             "gridcolor": "white",
             "linecolor": "white",
             "minorgridcolor": "white",
             "startlinecolor": "#2a3f5f"
            },
            "type": "carpet"
           }
          ],
          "choropleth": [
           {
            "colorbar": {
             "outlinewidth": 0,
             "ticks": ""
            },
            "type": "choropleth"
           }
          ],
          "contour": [
           {
            "colorbar": {
             "outlinewidth": 0,
             "ticks": ""
            },
            "colorscale": [
             [
              0,
              "#0d0887"
             ],
             [
              0.1111111111111111,
              "#46039f"
             ],
             [
              0.2222222222222222,
              "#7201a8"
             ],
             [
              0.3333333333333333,
              "#9c179e"
             ],
             [
              0.4444444444444444,
              "#bd3786"
             ],
             [
              0.5555555555555556,
              "#d8576b"
             ],
             [
              0.6666666666666666,
              "#ed7953"
             ],
             [
              0.7777777777777778,
              "#fb9f3a"
             ],
             [
              0.8888888888888888,
              "#fdca26"
             ],
             [
              1,
              "#f0f921"
             ]
            ],
            "type": "contour"
           }
          ],
          "contourcarpet": [
           {
            "colorbar": {
             "outlinewidth": 0,
             "ticks": ""
            },
            "type": "contourcarpet"
           }
          ],
          "heatmap": [
           {
            "colorbar": {
             "outlinewidth": 0,
             "ticks": ""
            },
            "colorscale": [
             [
              0,
              "#0d0887"
             ],
             [
              0.1111111111111111,
              "#46039f"
             ],
             [
              0.2222222222222222,
              "#7201a8"
             ],
             [
              0.3333333333333333,
              "#9c179e"
             ],
             [
              0.4444444444444444,
              "#bd3786"
             ],
             [
              0.5555555555555556,
              "#d8576b"
             ],
             [
              0.6666666666666666,
              "#ed7953"
             ],
             [
              0.7777777777777778,
              "#fb9f3a"
             ],
             [
              0.8888888888888888,
              "#fdca26"
             ],
             [
              1,
              "#f0f921"
             ]
            ],
            "type": "heatmap"
           }
          ],
          "heatmapgl": [
           {
            "colorbar": {
             "outlinewidth": 0,
             "ticks": ""
            },
            "colorscale": [
             [
              0,
              "#0d0887"
             ],
             [
              0.1111111111111111,
              "#46039f"
             ],
             [
              0.2222222222222222,
              "#7201a8"
             ],
             [
              0.3333333333333333,
              "#9c179e"
             ],
             [
              0.4444444444444444,
              "#bd3786"
             ],
             [
              0.5555555555555556,
              "#d8576b"
             ],
             [
              0.6666666666666666,
              "#ed7953"
             ],
             [
              0.7777777777777778,
              "#fb9f3a"
             ],
             [
              0.8888888888888888,
              "#fdca26"
             ],
             [
              1,
              "#f0f921"
             ]
            ],
            "type": "heatmapgl"
           }
          ],
          "histogram": [
           {
            "marker": {
             "pattern": {
              "fillmode": "overlay",
              "size": 10,
              "solidity": 0.2
             }
            },
            "type": "histogram"
           }
          ],
          "histogram2d": [
           {
            "colorbar": {
             "outlinewidth": 0,
             "ticks": ""
            },
            "colorscale": [
             [
              0,
              "#0d0887"
             ],
             [
              0.1111111111111111,
              "#46039f"
             ],
             [
              0.2222222222222222,
              "#7201a8"
             ],
             [
              0.3333333333333333,
              "#9c179e"
             ],
             [
              0.4444444444444444,
              "#bd3786"
             ],
             [
              0.5555555555555556,
              "#d8576b"
             ],
             [
              0.6666666666666666,
              "#ed7953"
             ],
             [
              0.7777777777777778,
              "#fb9f3a"
             ],
             [
              0.8888888888888888,
              "#fdca26"
             ],
             [
              1,
              "#f0f921"
             ]
            ],
            "type": "histogram2d"
           }
          ],
          "histogram2dcontour": [
           {
            "colorbar": {
             "outlinewidth": 0,
             "ticks": ""
            },
            "colorscale": [
             [
              0,
              "#0d0887"
             ],
             [
              0.1111111111111111,
              "#46039f"
             ],
             [
              0.2222222222222222,
              "#7201a8"
             ],
             [
              0.3333333333333333,
              "#9c179e"
             ],
             [
              0.4444444444444444,
              "#bd3786"
             ],
             [
              0.5555555555555556,
              "#d8576b"
             ],
             [
              0.6666666666666666,
              "#ed7953"
             ],
             [
              0.7777777777777778,
              "#fb9f3a"
             ],
             [
              0.8888888888888888,
              "#fdca26"
             ],
             [
              1,
              "#f0f921"
             ]
            ],
            "type": "histogram2dcontour"
           }
          ],
          "mesh3d": [
           {
            "colorbar": {
             "outlinewidth": 0,
             "ticks": ""
            },
            "type": "mesh3d"
           }
          ],
          "parcoords": [
           {
            "line": {
             "colorbar": {
              "outlinewidth": 0,
              "ticks": ""
             }
            },
            "type": "parcoords"
           }
          ],
          "pie": [
           {
            "automargin": true,
            "type": "pie"
           }
          ],
          "scatter": [
           {
            "fillpattern": {
             "fillmode": "overlay",
             "size": 10,
             "solidity": 0.2
            },
            "type": "scatter"
           }
          ],
          "scatter3d": [
           {
            "line": {
             "colorbar": {
              "outlinewidth": 0,
              "ticks": ""
             }
            },
            "marker": {
             "colorbar": {
              "outlinewidth": 0,
              "ticks": ""
             }
            },
            "type": "scatter3d"
           }
          ],
          "scattercarpet": [
           {
            "marker": {
             "colorbar": {
              "outlinewidth": 0,
              "ticks": ""
             }
            },
            "type": "scattercarpet"
           }
          ],
          "scattergeo": [
           {
            "marker": {
             "colorbar": {
              "outlinewidth": 0,
              "ticks": ""
             }
            },
            "type": "scattergeo"
           }
          ],
          "scattergl": [
           {
            "marker": {
             "colorbar": {
              "outlinewidth": 0,
              "ticks": ""
             }
            },
            "type": "scattergl"
           }
          ],
          "scattermapbox": [
           {
            "marker": {
             "colorbar": {
              "outlinewidth": 0,
              "ticks": ""
             }
            },
            "type": "scattermapbox"
           }
          ],
          "scatterpolar": [
           {
            "marker": {
             "colorbar": {
              "outlinewidth": 0,
              "ticks": ""
             }
            },
            "type": "scatterpolar"
           }
          ],
          "scatterpolargl": [
           {
            "marker": {
             "colorbar": {
              "outlinewidth": 0,
              "ticks": ""
             }
            },
            "type": "scatterpolargl"
           }
          ],
          "scatterternary": [
           {
            "marker": {
             "colorbar": {
              "outlinewidth": 0,
              "ticks": ""
             }
            },
            "type": "scatterternary"
           }
          ],
          "surface": [
           {
            "colorbar": {
             "outlinewidth": 0,
             "ticks": ""
            },
            "colorscale": [
             [
              0,
              "#0d0887"
             ],
             [
              0.1111111111111111,
              "#46039f"
             ],
             [
              0.2222222222222222,
              "#7201a8"
             ],
             [
              0.3333333333333333,
              "#9c179e"
             ],
             [
              0.4444444444444444,
              "#bd3786"
             ],
             [
              0.5555555555555556,
              "#d8576b"
             ],
             [
              0.6666666666666666,
              "#ed7953"
             ],
             [
              0.7777777777777778,
              "#fb9f3a"
             ],
             [
              0.8888888888888888,
              "#fdca26"
             ],
             [
              1,
              "#f0f921"
             ]
            ],
            "type": "surface"
           }
          ],
          "table": [
           {
            "cells": {
             "fill": {
              "color": "#EBF0F8"
             },
             "line": {
              "color": "white"
             }
            },
            "header": {
             "fill": {
              "color": "#C8D4E3"
             },
             "line": {
              "color": "white"
             }
            },
            "type": "table"
           }
          ]
         },
         "layout": {
          "annotationdefaults": {
           "arrowcolor": "#2a3f5f",
           "arrowhead": 0,
           "arrowwidth": 1
          },
          "autotypenumbers": "strict",
          "coloraxis": {
           "colorbar": {
            "outlinewidth": 0,
            "ticks": ""
           }
          },
          "colorscale": {
           "diverging": [
            [
             0,
             "#8e0152"
            ],
            [
             0.1,
             "#c51b7d"
            ],
            [
             0.2,
             "#de77ae"
            ],
            [
             0.3,
             "#f1b6da"
            ],
            [
             0.4,
             "#fde0ef"
            ],
            [
             0.5,
             "#f7f7f7"
            ],
            [
             0.6,
             "#e6f5d0"
            ],
            [
             0.7,
             "#b8e186"
            ],
            [
             0.8,
             "#7fbc41"
            ],
            [
             0.9,
             "#4d9221"
            ],
            [
             1,
             "#276419"
            ]
           ],
           "sequential": [
            [
             0,
             "#0d0887"
            ],
            [
             0.1111111111111111,
             "#46039f"
            ],
            [
             0.2222222222222222,
             "#7201a8"
            ],
            [
             0.3333333333333333,
             "#9c179e"
            ],
            [
             0.4444444444444444,
             "#bd3786"
            ],
            [
             0.5555555555555556,
             "#d8576b"
            ],
            [
             0.6666666666666666,
             "#ed7953"
            ],
            [
             0.7777777777777778,
             "#fb9f3a"
            ],
            [
             0.8888888888888888,
             "#fdca26"
            ],
            [
             1,
             "#f0f921"
            ]
           ],
           "sequentialminus": [
            [
             0,
             "#0d0887"
            ],
            [
             0.1111111111111111,
             "#46039f"
            ],
            [
             0.2222222222222222,
             "#7201a8"
            ],
            [
             0.3333333333333333,
             "#9c179e"
            ],
            [
             0.4444444444444444,
             "#bd3786"
            ],
            [
             0.5555555555555556,
             "#d8576b"
            ],
            [
             0.6666666666666666,
             "#ed7953"
            ],
            [
             0.7777777777777778,
             "#fb9f3a"
            ],
            [
             0.8888888888888888,
             "#fdca26"
            ],
            [
             1,
             "#f0f921"
            ]
           ]
          },
          "colorway": [
           "#636efa",
           "#EF553B",
           "#00cc96",
           "#ab63fa",
           "#FFA15A",
           "#19d3f3",
           "#FF6692",
           "#B6E880",
           "#FF97FF",
           "#FECB52"
          ],
          "font": {
           "color": "#2a3f5f"
          },
          "geo": {
           "bgcolor": "white",
           "lakecolor": "white",
           "landcolor": "#E5ECF6",
           "showlakes": true,
           "showland": true,
           "subunitcolor": "white"
          },
          "hoverlabel": {
           "align": "left"
          },
          "hovermode": "closest",
          "mapbox": {
           "style": "light"
          },
          "paper_bgcolor": "white",
          "plot_bgcolor": "#E5ECF6",
          "polar": {
           "angularaxis": {
            "gridcolor": "white",
            "linecolor": "white",
            "ticks": ""
           },
           "bgcolor": "#E5ECF6",
           "radialaxis": {
            "gridcolor": "white",
            "linecolor": "white",
            "ticks": ""
           }
          },
          "scene": {
           "xaxis": {
            "backgroundcolor": "#E5ECF6",
            "gridcolor": "white",
            "gridwidth": 2,
            "linecolor": "white",
            "showbackground": true,
            "ticks": "",
            "zerolinecolor": "white"
           },
           "yaxis": {
            "backgroundcolor": "#E5ECF6",
            "gridcolor": "white",
            "gridwidth": 2,
            "linecolor": "white",
            "showbackground": true,
            "ticks": "",
            "zerolinecolor": "white"
           },
           "zaxis": {
            "backgroundcolor": "#E5ECF6",
            "gridcolor": "white",
            "gridwidth": 2,
            "linecolor": "white",
            "showbackground": true,
            "ticks": "",
            "zerolinecolor": "white"
           }
          },
          "shapedefaults": {
           "line": {
            "color": "#2a3f5f"
           }
          },
          "ternary": {
           "aaxis": {
            "gridcolor": "white",
            "linecolor": "white",
            "ticks": ""
           },
           "baxis": {
            "gridcolor": "white",
            "linecolor": "white",
            "ticks": ""
           },
           "bgcolor": "#E5ECF6",
           "caxis": {
            "gridcolor": "white",
            "linecolor": "white",
            "ticks": ""
           }
          },
          "title": {
           "x": 0.05
          },
          "xaxis": {
           "automargin": true,
           "gridcolor": "white",
           "linecolor": "white",
           "ticks": "",
           "title": {
            "standoff": 15
           },
           "zerolinecolor": "white",
           "zerolinewidth": 2
          },
          "yaxis": {
           "automargin": true,
           "gridcolor": "white",
           "linecolor": "white",
           "ticks": "",
           "title": {
            "standoff": 15
           },
           "zerolinecolor": "white",
           "zerolinewidth": 2
          }
         }
        }
       }
      },
      "text/html": [
       "<div>                            <div id=\"d79bace5-9924-4289-8a16-e3ba2daddd23\" class=\"plotly-graph-div\" style=\"height:525px; width:100%;\"></div>            <script type=\"text/javascript\">                require([\"plotly\"], function(Plotly) {                    window.PLOTLYENV=window.PLOTLYENV || {};                                    if (document.getElementById(\"d79bace5-9924-4289-8a16-e3ba2daddd23\")) {                    Plotly.newPlot(                        \"d79bace5-9924-4289-8a16-e3ba2daddd23\",                        [{\"mode\":\"markers\",\"y\":[750.0,3300.0,2000.0,1125.0,2600.0,785.0,910.0,2200.0,1650.0,2500.0,1000.0,1175.0,2600.0,1200.0,2600.0,1125.0,1200.0,1200.0,790.0,880.0,885.0,1025.0,2600.0],\"type\":\"scatter\"}],                        {\"template\":{\"data\":{\"histogram2dcontour\":[{\"type\":\"histogram2dcontour\",\"colorbar\":{\"outlinewidth\":0,\"ticks\":\"\"},\"colorscale\":[[0.0,\"#0d0887\"],[0.1111111111111111,\"#46039f\"],[0.2222222222222222,\"#7201a8\"],[0.3333333333333333,\"#9c179e\"],[0.4444444444444444,\"#bd3786\"],[0.5555555555555556,\"#d8576b\"],[0.6666666666666666,\"#ed7953\"],[0.7777777777777778,\"#fb9f3a\"],[0.8888888888888888,\"#fdca26\"],[1.0,\"#f0f921\"]]}],\"choropleth\":[{\"type\":\"choropleth\",\"colorbar\":{\"outlinewidth\":0,\"ticks\":\"\"}}],\"histogram2d\":[{\"type\":\"histogram2d\",\"colorbar\":{\"outlinewidth\":0,\"ticks\":\"\"},\"colorscale\":[[0.0,\"#0d0887\"],[0.1111111111111111,\"#46039f\"],[0.2222222222222222,\"#7201a8\"],[0.3333333333333333,\"#9c179e\"],[0.4444444444444444,\"#bd3786\"],[0.5555555555555556,\"#d8576b\"],[0.6666666666666666,\"#ed7953\"],[0.7777777777777778,\"#fb9f3a\"],[0.8888888888888888,\"#fdca26\"],[1.0,\"#f0f921\"]]}],\"heatmap\":[{\"type\":\"heatmap\",\"colorbar\":{\"outlinewidth\":0,\"ticks\":\"\"},\"colorscale\":[[0.0,\"#0d0887\"],[0.1111111111111111,\"#46039f\"],[0.2222222222222222,\"#7201a8\"],[0.3333333333333333,\"#9c179e\"],[0.4444444444444444,\"#bd3786\"],[0.5555555555555556,\"#d8576b\"],[0.6666666666666666,\"#ed7953\"],[0.7777777777777778,\"#fb9f3a\"],[0.8888888888888888,\"#fdca26\"],[1.0,\"#f0f921\"]]}],\"heatmapgl\":[{\"type\":\"heatmapgl\",\"colorbar\":{\"outlinewidth\":0,\"ticks\":\"\"},\"colorscale\":[[0.0,\"#0d0887\"],[0.1111111111111111,\"#46039f\"],[0.2222222222222222,\"#7201a8\"],[0.3333333333333333,\"#9c179e\"],[0.4444444444444444,\"#bd3786\"],[0.5555555555555556,\"#d8576b\"],[0.6666666666666666,\"#ed7953\"],[0.7777777777777778,\"#fb9f3a\"],[0.8888888888888888,\"#fdca26\"],[1.0,\"#f0f921\"]]}],\"contourcarpet\":[{\"type\":\"contourcarpet\",\"colorbar\":{\"outlinewidth\":0,\"ticks\":\"\"}}],\"contour\":[{\"type\":\"contour\",\"colorbar\":{\"outlinewidth\":0,\"ticks\":\"\"},\"colorscale\":[[0.0,\"#0d0887\"],[0.1111111111111111,\"#46039f\"],[0.2222222222222222,\"#7201a8\"],[0.3333333333333333,\"#9c179e\"],[0.4444444444444444,\"#bd3786\"],[0.5555555555555556,\"#d8576b\"],[0.6666666666666666,\"#ed7953\"],[0.7777777777777778,\"#fb9f3a\"],[0.8888888888888888,\"#fdca26\"],[1.0,\"#f0f921\"]]}],\"surface\":[{\"type\":\"surface\",\"colorbar\":{\"outlinewidth\":0,\"ticks\":\"\"},\"colorscale\":[[0.0,\"#0d0887\"],[0.1111111111111111,\"#46039f\"],[0.2222222222222222,\"#7201a8\"],[0.3333333333333333,\"#9c179e\"],[0.4444444444444444,\"#bd3786\"],[0.5555555555555556,\"#d8576b\"],[0.6666666666666666,\"#ed7953\"],[0.7777777777777778,\"#fb9f3a\"],[0.8888888888888888,\"#fdca26\"],[1.0,\"#f0f921\"]]}],\"mesh3d\":[{\"type\":\"mesh3d\",\"colorbar\":{\"outlinewidth\":0,\"ticks\":\"\"}}],\"scatter\":[{\"fillpattern\":{\"fillmode\":\"overlay\",\"size\":10,\"solidity\":0.2},\"type\":\"scatter\"}],\"parcoords\":[{\"type\":\"parcoords\",\"line\":{\"colorbar\":{\"outlinewidth\":0,\"ticks\":\"\"}}}],\"scatterpolargl\":[{\"type\":\"scatterpolargl\",\"marker\":{\"colorbar\":{\"outlinewidth\":0,\"ticks\":\"\"}}}],\"bar\":[{\"error_x\":{\"color\":\"#2a3f5f\"},\"error_y\":{\"color\":\"#2a3f5f\"},\"marker\":{\"line\":{\"color\":\"#E5ECF6\",\"width\":0.5},\"pattern\":{\"fillmode\":\"overlay\",\"size\":10,\"solidity\":0.2}},\"type\":\"bar\"}],\"scattergeo\":[{\"type\":\"scattergeo\",\"marker\":{\"colorbar\":{\"outlinewidth\":0,\"ticks\":\"\"}}}],\"scatterpolar\":[{\"type\":\"scatterpolar\",\"marker\":{\"colorbar\":{\"outlinewidth\":0,\"ticks\":\"\"}}}],\"histogram\":[{\"marker\":{\"pattern\":{\"fillmode\":\"overlay\",\"size\":10,\"solidity\":0.2}},\"type\":\"histogram\"}],\"scattergl\":[{\"type\":\"scattergl\",\"marker\":{\"colorbar\":{\"outlinewidth\":0,\"ticks\":\"\"}}}],\"scatter3d\":[{\"type\":\"scatter3d\",\"line\":{\"colorbar\":{\"outlinewidth\":0,\"ticks\":\"\"}},\"marker\":{\"colorbar\":{\"outlinewidth\":0,\"ticks\":\"\"}}}],\"scattermapbox\":[{\"type\":\"scattermapbox\",\"marker\":{\"colorbar\":{\"outlinewidth\":0,\"ticks\":\"\"}}}],\"scatterternary\":[{\"type\":\"scatterternary\",\"marker\":{\"colorbar\":{\"outlinewidth\":0,\"ticks\":\"\"}}}],\"scattercarpet\":[{\"type\":\"scattercarpet\",\"marker\":{\"colorbar\":{\"outlinewidth\":0,\"ticks\":\"\"}}}],\"carpet\":[{\"aaxis\":{\"endlinecolor\":\"#2a3f5f\",\"gridcolor\":\"white\",\"linecolor\":\"white\",\"minorgridcolor\":\"white\",\"startlinecolor\":\"#2a3f5f\"},\"baxis\":{\"endlinecolor\":\"#2a3f5f\",\"gridcolor\":\"white\",\"linecolor\":\"white\",\"minorgridcolor\":\"white\",\"startlinecolor\":\"#2a3f5f\"},\"type\":\"carpet\"}],\"table\":[{\"cells\":{\"fill\":{\"color\":\"#EBF0F8\"},\"line\":{\"color\":\"white\"}},\"header\":{\"fill\":{\"color\":\"#C8D4E3\"},\"line\":{\"color\":\"white\"}},\"type\":\"table\"}],\"barpolar\":[{\"marker\":{\"line\":{\"color\":\"#E5ECF6\",\"width\":0.5},\"pattern\":{\"fillmode\":\"overlay\",\"size\":10,\"solidity\":0.2}},\"type\":\"barpolar\"}],\"pie\":[{\"automargin\":true,\"type\":\"pie\"}]},\"layout\":{\"autotypenumbers\":\"strict\",\"colorway\":[\"#636efa\",\"#EF553B\",\"#00cc96\",\"#ab63fa\",\"#FFA15A\",\"#19d3f3\",\"#FF6692\",\"#B6E880\",\"#FF97FF\",\"#FECB52\"],\"font\":{\"color\":\"#2a3f5f\"},\"hovermode\":\"closest\",\"hoverlabel\":{\"align\":\"left\"},\"paper_bgcolor\":\"white\",\"plot_bgcolor\":\"#E5ECF6\",\"polar\":{\"bgcolor\":\"#E5ECF6\",\"angularaxis\":{\"gridcolor\":\"white\",\"linecolor\":\"white\",\"ticks\":\"\"},\"radialaxis\":{\"gridcolor\":\"white\",\"linecolor\":\"white\",\"ticks\":\"\"}},\"ternary\":{\"bgcolor\":\"#E5ECF6\",\"aaxis\":{\"gridcolor\":\"white\",\"linecolor\":\"white\",\"ticks\":\"\"},\"baxis\":{\"gridcolor\":\"white\",\"linecolor\":\"white\",\"ticks\":\"\"},\"caxis\":{\"gridcolor\":\"white\",\"linecolor\":\"white\",\"ticks\":\"\"}},\"coloraxis\":{\"colorbar\":{\"outlinewidth\":0,\"ticks\":\"\"}},\"colorscale\":{\"sequential\":[[0.0,\"#0d0887\"],[0.1111111111111111,\"#46039f\"],[0.2222222222222222,\"#7201a8\"],[0.3333333333333333,\"#9c179e\"],[0.4444444444444444,\"#bd3786\"],[0.5555555555555556,\"#d8576b\"],[0.6666666666666666,\"#ed7953\"],[0.7777777777777778,\"#fb9f3a\"],[0.8888888888888888,\"#fdca26\"],[1.0,\"#f0f921\"]],\"sequentialminus\":[[0.0,\"#0d0887\"],[0.1111111111111111,\"#46039f\"],[0.2222222222222222,\"#7201a8\"],[0.3333333333333333,\"#9c179e\"],[0.4444444444444444,\"#bd3786\"],[0.5555555555555556,\"#d8576b\"],[0.6666666666666666,\"#ed7953\"],[0.7777777777777778,\"#fb9f3a\"],[0.8888888888888888,\"#fdca26\"],[1.0,\"#f0f921\"]],\"diverging\":[[0,\"#8e0152\"],[0.1,\"#c51b7d\"],[0.2,\"#de77ae\"],[0.3,\"#f1b6da\"],[0.4,\"#fde0ef\"],[0.5,\"#f7f7f7\"],[0.6,\"#e6f5d0\"],[0.7,\"#b8e186\"],[0.8,\"#7fbc41\"],[0.9,\"#4d9221\"],[1,\"#276419\"]]},\"xaxis\":{\"gridcolor\":\"white\",\"linecolor\":\"white\",\"ticks\":\"\",\"title\":{\"standoff\":15},\"zerolinecolor\":\"white\",\"automargin\":true,\"zerolinewidth\":2},\"yaxis\":{\"gridcolor\":\"white\",\"linecolor\":\"white\",\"ticks\":\"\",\"title\":{\"standoff\":15},\"zerolinecolor\":\"white\",\"automargin\":true,\"zerolinewidth\":2},\"scene\":{\"xaxis\":{\"backgroundcolor\":\"#E5ECF6\",\"gridcolor\":\"white\",\"linecolor\":\"white\",\"showbackground\":true,\"ticks\":\"\",\"zerolinecolor\":\"white\",\"gridwidth\":2},\"yaxis\":{\"backgroundcolor\":\"#E5ECF6\",\"gridcolor\":\"white\",\"linecolor\":\"white\",\"showbackground\":true,\"ticks\":\"\",\"zerolinecolor\":\"white\",\"gridwidth\":2},\"zaxis\":{\"backgroundcolor\":\"#E5ECF6\",\"gridcolor\":\"white\",\"linecolor\":\"white\",\"showbackground\":true,\"ticks\":\"\",\"zerolinecolor\":\"white\",\"gridwidth\":2}},\"shapedefaults\":{\"line\":{\"color\":\"#2a3f5f\"}},\"annotationdefaults\":{\"arrowcolor\":\"#2a3f5f\",\"arrowhead\":0,\"arrowwidth\":1},\"geo\":{\"bgcolor\":\"white\",\"landcolor\":\"#E5ECF6\",\"subunitcolor\":\"white\",\"showland\":true,\"showlakes\":true,\"lakecolor\":\"white\"},\"title\":{\"x\":0.05},\"mapbox\":{\"style\":\"light\"}}}},                        {\"responsive\": true}                    ).then(function(){\n",
       "                            \n",
       "var gd = document.getElementById('d79bace5-9924-4289-8a16-e3ba2daddd23');\n",
       "var x = new MutationObserver(function (mutations, observer) {{\n",
       "        var display = window.getComputedStyle(gd).display;\n",
       "        if (!display || display === 'none') {{\n",
       "            console.log([gd, 'removed!']);\n",
       "            Plotly.purge(gd);\n",
       "            observer.disconnect();\n",
       "        }}\n",
       "}});\n",
       "\n",
       "// Listen for the removal of the full notebook cells\n",
       "var notebookContainer = gd.closest('#notebook-container');\n",
       "if (notebookContainer) {{\n",
       "    x.observe(notebookContainer, {childList: true});\n",
       "}}\n",
       "\n",
       "// Listen for the clearing of the current output cell\n",
       "var outputEl = gd.closest('.output');\n",
       "if (outputEl) {{\n",
       "    x.observe(outputEl, {childList: true});\n",
       "}}\n",
       "\n",
       "                        })                };                });            </script>        </div>"
      ]
     },
     "metadata": {},
     "output_type": "display_data"
    }
   ],
   "source": [
    "valuation_fig = go.Figure(data=go.Scatter(y=df_players_val_analysis_2017[\"team_valuation_2017\"], mode='markers'))\n",
    "valuation_fig.show()"
   ]
  },
  {
   "cell_type": "markdown",
   "id": "6ef3fb85",
   "metadata": {},
   "source": [
    "## Conclusions\n",
    "- it is much easier to correctly classify non all stars than all stars\n",
    "- despite our theory, all star selections after fans were introduced in 1974 is more predictable than before 1974\n",
    "- In terms of accuracy, training our model on individual years before around 1960 did not produce a relatively accurate model tested on pretty much any year\n",
    "- similarly, training a model on any individual year and testing it on any year before 1975 will not produce a relatively accurate model\n",
    "- training and testing models on any year after 1970 produces a relatively accurate model in general\n",
    "- in terms of recall, training and testing models on years before 1960 will not produce a good model\n",
    "- otherwise, there are no clear patterns in terms of the effect of training and testing on individual years in terms of recall\n",
    "- the best features to use to train a model vary from decade to decade, some features that were common in different decades were pts per game, fg per game, and ft attempted per game\n",
    "- our model trained on all previous years and tested on this year does very well, with 96% accuracy and 74% recall\n",
    "- false positives in the 2023 test set were very understandable as they are well known players with good stats, many of whom were considered all star snubs\n",
    "- false negatives in the 2023 test set were also understandable as they were more fringe all stars and less well known\n",
    "- the 3 pt line has become a better and better feature to use in predicting all stars over the years as the 3 pt shot has been embraced.\n",
    "- city population and team valuation do not seem to have any noticeable affect on all star selection"
   ]
  },
  {
   "cell_type": "markdown",
   "id": "923d40a3",
   "metadata": {},
   "source": [
    "## Limitations\n",
    "- stats are for total season, all stars are selected midway through the season\n",
    "- our statistics do not account for intangible features of players like popularity, social media presence, highlights, and personality\n",
    "- all star voting is not formulaic; very subjective parties are responsible for selecting all stars, especially fans"
   ]
  },
  {
   "cell_type": "code",
   "execution_count": null,
   "id": "ba3d0916",
   "metadata": {},
   "outputs": [],
   "source": []
  }
 ],
 "metadata": {
  "kernelspec": {
   "display_name": "Python 3 (ipykernel)",
   "language": "python",
   "name": "python3"
  },
  "language_info": {
   "codemirror_mode": {
    "name": "ipython",
    "version": 3
   },
   "file_extension": ".py",
   "mimetype": "text/x-python",
   "name": "python",
   "nbconvert_exporter": "python",
   "pygments_lexer": "ipython3",
   "version": "3.9.7"
  }
 },
 "nbformat": 4,
 "nbformat_minor": 5
}
